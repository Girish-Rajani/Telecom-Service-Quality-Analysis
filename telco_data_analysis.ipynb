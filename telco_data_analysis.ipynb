{
 "cells": [
  {
   "cell_type": "markdown",
   "metadata": {
    "id": "P04mLBaOddaa"
   },
   "source": [
    "# **Telecom Data Analysis Project to Improve Service Quality**"
   ]
  },
  {
   "cell_type": "markdown",
   "metadata": {
    "id": "3PJnodFyLHh5"
   },
   "source": [
    "# **Business Overview**\n",
    "\n",
    "The telecommunications industry is a rapidly growing sector that is constantly evolving to meet the demands of consumers. As technology advances and user behavior changes, telecom operators face a variety of challenges that can impact their business success. In order to stay competitive and meet customer needs, it is important for telecom companies to regularly analyze their data to identify relevant problems and opportunities for improvement.\n",
    "\n",
    "The aim of this project is to explore the telecom data and find relevant problems faced by telecom operators. By conducting an exploratory data analysis (EDA) on a large volume of telecom data, we can gain valuable insights into user behavior, network performance, customer demographics, and more. Through this analysis, we hope to identify potential areas for improvement, such as  improving customer satisfaction, optimizing network performance and increasing revenue through targeted marketing efforts.\n",
    "\n",
    "The insights gained from this project can help telecom operators make informed decisions about their business strategy, enabling them to better meet the needs of their customers and stay competitive in the market. "
   ]
  },
  {
   "cell_type": "markdown",
   "metadata": {
    "id": "_HKb318Zddaj"
   },
   "source": [
    "## **Package Requirements**"
   ]
  },
  {
   "cell_type": "code",
   "execution_count": null,
   "metadata": {
    "id": "x3dI1qbAddak"
   },
   "outputs": [],
   "source": [
    "# using warnings module to ignore warnings\n",
    "import warnings\n",
    "warnings.filterwarnings('ignore')"
   ]
  },
  {
   "cell_type": "code",
   "execution_count": null,
   "metadata": {
    "id": "TldVsCwMHKFX",
    "scrolled": true
   },
   "outputs": [],
   "source": [
    "# import libraries\n",
    "import pandas as pd\n",
    "import numpy as np\n",
    "import matplotlib.pyplot as plt\n",
    "import seaborn as sns\n",
    "import sys\n",
    "from projectpro import checkpoint,data_pipeline, mo_distance, preserve, save_point, feedback, show_video\n",
    "checkpoint('fcTel1')"
   ]
  },
  {
   "cell_type": "code",
   "execution_count": null,
   "metadata": {
    "id": "UzW8oz44HKFY"
   },
   "outputs": [],
   "source": [
    "# These codes are useful when working with large datasets\n",
    "\n",
    "# sets the maximum number of columns that will be displayed in a dataframe to 200 for improved data viewing\n",
    "pd.set_option('display.max_columns', 200)\n",
    "# sets the maximum number of columns that will be displayed in a dataframe to 300 for improved data viewing\n",
    "pd.set_option('display.max_rows', 300)"
   ]
  },
  {
   "cell_type": "code",
   "execution_count": null,
   "metadata": {
    "id": "AFEuLGqXHKFY"
   },
   "outputs": [],
   "source": [
    "# Sets numpy print options to display entire arrays regardless of size\n",
    "np.set_printoptions(threshold=sys.maxsize)"
   ]
  },
  {
   "cell_type": "code",
   "execution_count": null,
   "metadata": {
    "id": "gZ0EcnL0HKFZ"
   },
   "outputs": [],
   "source": [
    "# data reading with csv\n",
    "df = pd.read_csv('https://s3.amazonaws.com/projex.dezyre.com/telecom-data-analysis-project/materials/raw_telecom_data.csv')"
   ]
  },
  {
   "cell_type": "code",
   "execution_count": null,
   "metadata": {
    "colab": {
     "base_uri": "https://localhost:8080/",
     "height": 473
    },
    "id": "fpsCCYv9HKFZ",
    "outputId": "4e4bdb01-880d-442f-ec1f-c705be1bf05e"
   },
   "outputs": [],
   "source": [
    "# exploring the top 5 rows\n",
    "df.head(n=5)"
   ]
  },
  {
   "cell_type": "code",
   "execution_count": null,
   "metadata": {
    "colab": {
     "base_uri": "https://localhost:8080/"
    },
    "id": "pltvYD11HKFZ",
    "outputId": "866652d5-f897-4980-a90c-c3561773dff1"
   },
   "outputs": [],
   "source": [
    "# shape of the dataset\n",
    "df.shape"
   ]
  },
  {
   "cell_type": "markdown",
   "metadata": {
    "id": "riIh_2tdUC5v"
   },
   "source": [
    "**Observation**:\n",
    "\n",
    "The dataset has 653,753 rows and 74 columns."
   ]
  },
  {
   "cell_type": "code",
   "execution_count": null,
   "metadata": {
    "colab": {
     "base_uri": "https://localhost:8080/"
    },
    "id": "mzsYH6WfHKFa",
    "outputId": "7a411b59-c985-438e-bf05-2c0d19044312"
   },
   "outputs": [],
   "source": [
    "# finding the columns of the dataset\n",
    "df.columns"
   ]
  },
  {
   "cell_type": "markdown",
   "metadata": {
    "id": "OYG3rg46Vt1u"
   },
   "source": [
    "## **Data Dictionary**\n",
    "\n",
    "\n",
    "| Column name\t | Description|\n",
    "| ----- | ----- |\n",
    "| Customer ID\t | Unique identifier for each customer |\n",
    "| Month | Calendar Month- 1:12 | \n",
    "| Month of Joining |\tCalender Month -1:14, Month for which the data is captured|\n",
    "| zip_code |\tZip Code|\n",
    "|Gender |\tGender|\n",
    "| Age |\tAge(Years)|\n",
    "| Married |\tMarital Status |\n",
    "|Dependents | Dependents - Binary |\n",
    "| Number of Dependents |\tNumber of Dependents|\n",
    "|Location ID |\tLocation ID|\n",
    "|Service ID\t |Service ID|\n",
    "|state|\tState|\n",
    "|county\t|County|\n",
    "|timezone\t|Timezone|\n",
    "|area_codes|\tArea Code|\n",
    "|country\t|Country|\n",
    "|latitude|\tLatitude|\n",
    "|longitude\t|Longitude|\n",
    "|arpu|\tAverage revenue per user|\n",
    "|roam_ic\t|Roaming incoming calls in minutes|\n",
    "|roam_og\t|Roaming outgoing calls in minutes|\n",
    "|loc_og_t2t|\tLocal outgoing calls within same network in minutes|\n",
    "|loc_og_t2m\t|Local outgoing calls outside network in minutes(outside same + partner network)|\n",
    "|loc_og_t2f|\tLocal outgoing calls with Partner network in minutes|\n",
    "|loc_og_t2c\t|Local outgoing calls with Call Center in minutes|\n",
    "|std_og_t2t|\tSTD outgoing calls within same network in minutes|\n",
    "|std_og_t2m|\tSTD outgoing calls outside network in minutes(outside same + partner network)|\n",
    "|std_og_t2f|\tSTD outgoing calls with Partner network in minutes|\n",
    "|std_og_t2c\t|STD outgoing calls with Call Center in minutes|\n",
    "|isd_og|\tISD Outgoing calls|\n",
    "|spl_og\t|Special Outgoing calls|\n",
    "|og_others|\tOther Outgoing Calls|\n",
    "|loc_ic_t2t|\tLocal incoming calls within same network in minutes|\n",
    "|loc_ic_t2m|\tLocal incoming calls outside network in minutes(outside same + partner network)|\n",
    "|loc_ic_t2f\t|Local incoming calls with Partner network in minutes|\n",
    "|std_ic_t2t\t|STD incoming calls within same network in minutes|\n",
    "|std_ic_t2m\t|STD incoming calls outside network in minutes(outside same + partner network)|\n",
    "|std_ic_t2f|\tSTD incoming calls with Partner network in minutes|\n",
    "|std_ic_t2o|\tSTD incoming calls operators other networks in minutes|\n",
    "|spl_ic|\tSpecial Incoming calls in minutes|\n",
    "|isd_ic|\tISD Incoming calls in minutes|\n",
    "|ic_others|\tOther Incoming Calls|\n",
    "|total_rech_amt|\tTotal Recharge Amount in Local Currency|\n",
    "|total_rech_data|\tTotal Recharge Amount for Data in Local Currency\n",
    "|vol_4g|\t4G Internet Used in GB|\n",
    "|vol_5g|\t5G Internet used in GB|\n",
    "|arpu_5g|\tAverage revenue per user over 5G network|\n",
    "|arpu_4g|\tAverage revenue per user over 4G network|\n",
    "|night_pck_user|\tIs Night Pack User(Specific Scheme)|\n",
    "|fb_user|\tSocial Networking scheme|\n",
    "|aug_vbc_5g|\tVolume Based cost for 5G network (outside the scheme paid based on extra usage)|\n",
    "|offer|\tOffer Given to User|\n",
    "|Referred a Friend|\tReferred a Friend : Binary|\n",
    "|Number of Referrals|\tNumber of Referrals|\n",
    "|Phone Service|\tPhone Service: Binary|\n",
    "|Multiple Lines|\tMultiple Lines for phone service: Binary|\n",
    "|Internet Service|\tInternet Service: Binary|\n",
    "|Internet Type|\tInternet Type|\n",
    "|Streaming Data Consumption|\tStreaming Data Consumption|\n",
    "|Online Security|\tOnline Security|\n",
    "|Online Backup|\tOnline Backup|\n",
    "|Device Protection Plan|\tDevice Protection Plan|\n",
    "|Premium Tech Support|\tPremium Tech Support|\n",
    "|Streaming TV|\tStreaming TV|\n",
    "|Streaming Movies|\tStreaming Movies|\n",
    "|Streaming Music|\tStreaming Music|\n",
    "|Unlimited Data|\tUnlimited Data|\n",
    "|Payment Method|\tPayment Method|\n",
    "|Status ID|\tStatus ID|\n",
    "|Satisfaction Score|\tSatisfaction Score|\n",
    "|Churn Category|\tChurn Category|\n",
    "|Churn Reason|\tChurn Reason|\n",
    "|Customer Status|\tCustomer Status|\n",
    "|Churn Value|\tBinary Churn Value\n",
    "\n"
   ]
  },
  {
   "cell_type": "markdown",
   "metadata": {
    "id": "TqivSzgkMvdD"
   },
   "source": [
    "## **Univariate Data Analysis**"
   ]
  },
  {
   "cell_type": "markdown",
   "metadata": {
    "id": "VKrDBxlgzF7N"
   },
   "source": [
    "### **Customer ID**"
   ]
  },
  {
   "cell_type": "markdown",
   "metadata": {
    "id": "p95XhCkY1bkJ"
   },
   "source": [
    "We have no idea how many customers we have over how many months. Let's see that."
   ]
  },
  {
   "cell_type": "code",
   "execution_count": null,
   "metadata": {
    "colab": {
     "base_uri": "https://localhost:8080/"
    },
    "id": "9JhPlUJSHKFc",
    "outputId": "a92afc5a-6af8-48ad-f041-3eb0dccb2f13"
   },
   "outputs": [],
   "source": [
    "# To get the number of unique customers in the dataset\n",
    "len(df[\"Customer ID\"].unique())"
   ]
  },
  {
   "cell_type": "code",
   "execution_count": null,
   "metadata": {
    "colab": {
     "base_uri": "https://localhost:8080/"
    },
    "id": "DBeNhHMlHKFc",
    "outputId": "ae4367d7-5c06-4b4f-a9b3-0f2d9da5ea29"
   },
   "outputs": [],
   "source": [
    "# To get the number of unique months in the dataset\n",
    "len(df[\"Month\"].unique())"
   ]
  },
  {
   "cell_type": "markdown",
   "metadata": {
    "id": "jTsm2nsoHKFc"
   },
   "source": [
    "There are 98,230 unique customers in the dataset, and the data spans across 14 months."
   ]
  },
  {
   "cell_type": "code",
   "execution_count": null,
   "metadata": {
    "colab": {
     "base_uri": "https://localhost:8080/"
    },
    "id": "TqG3PN2qHKFd",
    "outputId": "b09f3e0c-1b50-45f8-88e7-4ead56d18b7b"
   },
   "outputs": [],
   "source": [
    "# To get the basic information of the dataset\n",
    "df.info()"
   ]
  },
  {
   "cell_type": "markdown",
   "metadata": {
    "id": "PSDhbSVtHKFd"
   },
   "source": [
    "**Observation:** There are no null values in the Customer ID, Month of Joining, or Month columns."
   ]
  },
  {
   "cell_type": "markdown",
   "metadata": {
    "id": "_GyW2IRBHKFe"
   },
   "source": [
    "Plot how many customers are joining in each month"
   ]
  },
  {
   "cell_type": "code",
   "execution_count": null,
   "metadata": {
    "colab": {
     "base_uri": "https://localhost:8080/",
     "height": 352
    },
    "id": "UI70y7APHKFe",
    "outputId": "e69fdf09-574c-48e9-bd08-25ff45e45a46"
   },
   "outputs": [],
   "source": [
    "# To generate a bar plot of the count of customers who joined the telecom service in each month, sorted by month\n",
    "df['Month of Joining'].astype(int).value_counts().sort_index().plot.bar(figsize=(10,5))\n",
    "plt.title('Count of Customers Joined by Month')\n",
    "plt.xlabel('Month')\n",
    "plt.ylabel('Count')\n",
    "plt.show()\n"
   ]
  },
  {
   "cell_type": "markdown",
   "metadata": {
    "id": "XeZLqHERHKFe"
   },
   "source": [
    "**Observation**:  A large number of customers joined in June.It could be due to a seasonal promotion or marketing campaign that was particularly effective, or it could be due to external factors such as changes in the market or industry. Further analysis and context would be needed to make a more informed hypothesis."
   ]
  },
  {
   "cell_type": "code",
   "execution_count": null,
   "metadata": {
    "colab": {
     "base_uri": "https://localhost:8080/",
     "height": 407
    },
    "id": "Ke_2c1xxB2EY",
    "outputId": "4f0dd17b-810e-4e86-9995-ca97438a0737"
   },
   "outputs": [],
   "source": [
    "# Distribution of customers across months\n",
    "customers_per_month = df.groupby(\"Month\")[\"Customer ID\"].nunique()\n",
    "\n",
    "# Plotting the distribution of customers across months\n",
    "customers_per_month.plot(kind=\"bar\", figsize=(10, 6))\n",
    "plt.title(\"Number of Customers per Month\")\n",
    "plt.xlabel(\"Month\")\n",
    "plt.ylabel(\"Number of Customers\")\n",
    "plt.show()"
   ]
  },
  {
   "cell_type": "markdown",
   "metadata": {
    "id": "KUBdzohRCc21"
   },
   "source": [
    "**Observation**: From the graph, we can see that the number of customers steadily increases from January to May, after which there is a sharp increase in June, followed by a steady increase and decreasing trend. This could indicate some issue or change in the company's services or marketing strategy during that period. "
   ]
  },
  {
   "cell_type": "code",
   "execution_count": null,
   "metadata": {
    "colab": {
     "base_uri": "https://localhost:8080/",
     "height": 586
    },
    "id": "W4DFLT0HHKFf",
    "outputId": "0aba5341-2911-49dd-caa2-ab4d71d3dc30"
   },
   "outputs": [],
   "source": [
    "# Filtering for customer ID - uqdtniwvxqzeu1\n",
    "df[df[\"Customer ID\"]=='uqdtniwvxqzeu1']"
   ]
  },
  {
   "cell_type": "markdown",
   "metadata": {
    "id": "VTiedeJMHKFg"
   },
   "source": [
    "**Observation**: We can observe that this consumer joined the company in the sixth month and stayed until the fourteenth month."
   ]
  },
  {
   "cell_type": "code",
   "execution_count": null,
   "metadata": {
    "colab": {
     "base_uri": "https://localhost:8080/",
     "height": 197
    },
    "id": "f8sLUtEPHKFg",
    "outputId": "56ec9a38-d32b-434b-ab61-a2ffb80afff4"
   },
   "outputs": [],
   "source": [
    "# Filtering for customer ID - aabakestdecft46766\n",
    "df[df[\"Customer ID\"]=='aabakestdecft46766']"
   ]
  },
  {
   "cell_type": "markdown",
   "metadata": {
    "id": "4Ak__s-UHKFg"
   },
   "source": [
    "**Observation**: This consumer joined in the third month and left in the same month."
   ]
  },
  {
   "cell_type": "code",
   "execution_count": null,
   "metadata": {
    "colab": {
     "base_uri": "https://localhost:8080/"
    },
    "id": "ENfKCqRVHKFg",
    "outputId": "2e3266bb-c62b-4bb1-f6c6-b38a85e4e597"
   },
   "outputs": [],
   "source": [
    "# Compute basic statistics of count of rows per customer\n",
    "df.groupby(['Customer ID']).size().describe()"
   ]
  },
  {
   "cell_type": "markdown",
   "metadata": {
    "id": "8ZC5gdXnHKFg"
   },
   "source": [
    "**Observation**:\n",
    "The average duration of a customer is 6 months, then we can generate the following hypotheses:\n",
    "\n",
    "* The company needs to improve their customer retention strategies to increase the average duration of customers.\n",
    "\n",
    "* The company needs to evaluate their pricing strategies to retain customers for a longer duration.\n",
    "\n",
    "* The company need to focus on improving the quality of their services to increase customer loyalty and prolong their duration of service.\n",
    "\n",
    "To understand the actual problem we need to analyze other variables and see what insights they show in order to support or reject these hypotheses."
   ]
  },
  {
   "cell_type": "code",
   "execution_count": null,
   "metadata": {
    "colab": {
     "base_uri": "https://localhost:8080/"
    },
    "id": "YhaNEmnDHKFg",
    "outputId": "876c549d-690d-4d08-d666-91f1499446cf"
   },
   "outputs": [],
   "source": [
    "# Count the number of customers with a particular number of rows\n",
    "df.groupby(['Customer ID']).size().value_counts()"
   ]
  },
  {
   "cell_type": "markdown",
   "metadata": {
    "id": "XaqJAkquHKFg"
   },
   "source": [
    "**Observation**: This shows that more people are present in 5 to 9 month bracket. We can generate the following hypotheses:\n",
    "\n",
    "* Customers who stay with the telecom service provider for a longer duration are more likely to stay for 5-9 months.\n",
    "\n",
    "\n",
    "* Customers may be facing some issues or problems with the service after 9 months, leading to a higher churn rate after that period.\n",
    "\n",
    "\n"
   ]
  },
  {
   "cell_type": "markdown",
   "metadata": {
    "id": "oXuZ4Qn6G38S"
   },
   "source": [
    "### **Zip Code**"
   ]
  },
  {
   "cell_type": "markdown",
   "metadata": {
    "id": "mmd6jD1CHSyn"
   },
   "source": [
    "Some possible hypotheses that could be formed are:\n",
    "\n",
    "* The distribution of customers across zip codes follows a normal distribution.\n",
    "\n",
    "* There are a few zip codes with significantly more customers than others.\n",
    "\n",
    "* The distribution of customers across zip codes is skewed to the right, with the majority of zip codes having fewer customers."
   ]
  },
  {
   "cell_type": "code",
   "execution_count": null,
   "metadata": {
    "colab": {
     "base_uri": "https://localhost:8080/",
     "height": 404
    },
    "id": "T3HvMoI0HlRx",
    "outputId": "8ce9d8cf-6b36-44a8-a8b0-bb04b65934d8"
   },
   "outputs": [],
   "source": [
    "# Number of unique zip codes in the dataset\n",
    "num_unique_zips = df['zip_code'].nunique()\n",
    "\n",
    "# Number of customers in each zip code\n",
    "cust_per_zip = df['zip_code'].value_counts()\n",
    "\n",
    "# Summary statistics of the number of customers per zip code\n",
    "data_pipeline(\"fcTel1\")\n",
    "cust_per_zip.describe()\n",
    "\n",
    "# Plotting the distribution of customers across zip codes\n",
    "cust_per_zip.plot(kind='hist', bins=num_unique_zips, figsize=(10,6))\n",
    "plt.title('Distribution of Customers Across Zip Codes')\n",
    "plt.xlabel('Number of Customers')\n",
    "plt.ylabel('Frequency')\n",
    "plt.show()\n"
   ]
  },
  {
   "cell_type": "markdown",
   "metadata": {
    "id": "PvPDO5KwIUxI"
   },
   "source": [
    "**Observation**: As we can see the distribution confirms our hypothesis of normal distribution.\n",
    "\n",
    "As the distribution of customers across zip codes does not show much skewness, it suggests that the customer base is relatively evenly distributed across zip codes. There are no clear pockets of customers in particular zip codes that stand out as being much more popular than others. This could be a positive sign for the business, as it suggests that the customer base is broad and not overly reliant on a particular geographic area."
   ]
  },
  {
   "cell_type": "markdown",
   "metadata": {
    "id": "wwqKVUGKIwNy"
   },
   "source": [
    "### **Gender**"
   ]
  },
  {
   "cell_type": "code",
   "execution_count": null,
   "metadata": {
    "colab": {
     "base_uri": "https://localhost:8080/"
    },
    "id": "jp0uaf5CJIro",
    "outputId": "069303fb-3aa1-4e78-c8f9-0fdde2310fd8"
   },
   "outputs": [],
   "source": [
    "# Count the number of customers in each gender category\n",
    "gender_counts = df['Gender'].value_counts()\n",
    "\n",
    "# Print the gender counts\n",
    "print(gender_counts)"
   ]
  },
  {
   "cell_type": "code",
   "execution_count": null,
   "metadata": {
    "colab": {
     "base_uri": "https://localhost:8080/"
    },
    "id": "-v-xeuvqK2E2",
    "outputId": "964b7e6a-9537-436d-94a0-ca569e88799d"
   },
   "outputs": [],
   "source": [
    "# Counting the number of unique customers whose gender is missing\n",
    "print('Customers whose gender is missing:' ,df[df['Gender'].isna()]['Customer ID'].nunique())"
   ]
  },
  {
   "cell_type": "markdown",
   "metadata": {
    "id": "4Z2kCgFPHKFh"
   },
   "source": [
    "**Observation**: We can observe that 1487 consumers have no gender. Let's impute it with \"Not specified\"."
   ]
  },
  {
   "cell_type": "code",
   "execution_count": null,
   "metadata": {
    "colab": {
     "base_uri": "https://localhost:8080/"
    },
    "id": "b5hYUE4vLD9l",
    "outputId": "a9734d2b-2c27-4fe2-df3d-7e6ee5bbcb45"
   },
   "outputs": [],
   "source": [
    "# Filling missing values in the Gender column with 'Not Specified'\n",
    "df['Gender'] = df['Gender'].fillna('Not Specified')\n",
    "\n",
    "# Counting the number of customers for each gender, including those with missing values\n",
    "df['Gender'].value_counts(dropna=False)"
   ]
  },
  {
   "cell_type": "markdown",
   "metadata": {
    "id": "_N-6KViHLI6q"
   },
   "source": [
    "### **Age**"
   ]
  },
  {
   "cell_type": "markdown",
   "metadata": {
    "id": "or8ho7VvMKkP"
   },
   "source": [
    "Possible hypotheses that could formed for \"Age\" column are:\n",
    "\n",
    "* Most customers fall in the age group of 20 to 40 years.\n",
    "\n",
    "* There will be outliers present in the age column as some customers might have entered invalid age."
   ]
  },
  {
   "cell_type": "code",
   "execution_count": null,
   "metadata": {
    "colab": {
     "base_uri": "https://localhost:8080/",
     "height": 560
    },
    "id": "61hBn41sMcIl",
    "outputId": "2980f676-2a94-4692-9136-34c9e7a1c3ba"
   },
   "outputs": [],
   "source": [
    "# Distribution of customers across age groups\n",
    "plt.figure(figsize=(10,6))\n",
    "sns.distplot(df['Age'])\n",
    "plt.title('Distribution of Customers across Age Groups')\n",
    "plt.xlabel('Age')\n",
    "plt.ylabel('Number of Customers')\n",
    "plt.show()\n",
    "\n",
    "# Descriptive statistics of age column\n",
    "df['Age'].describe()\n"
   ]
  },
  {
   "cell_type": "markdown",
   "metadata": {
    "id": "ADJEXgz0W8N-"
   },
   "source": [
    "**Observation**: As we can see the maximum age is 9999. This proves our hypothesis that there will be outliers present in the age column as some customers might have entered invalid age."
   ]
  },
  {
   "cell_type": "code",
   "execution_count": null,
   "metadata": {
    "colab": {
     "base_uri": "https://localhost:8080/"
    },
    "id": "ZyQ68SdvHKFh",
    "outputId": "67b23434-c1a9-4689-e315-a2501d878d8c"
   },
   "outputs": [],
   "source": [
    "# let's see the sorted age values\n",
    "df['Age'].sort_values()"
   ]
  },
  {
   "cell_type": "code",
   "execution_count": null,
   "metadata": {
    "colab": {
     "base_uri": "https://localhost:8080/"
    },
    "id": "9OPi105hHKFi",
    "outputId": "3439af6c-9e90-4ffc-f9c9-6474b10305b5"
   },
   "outputs": [],
   "source": [
    "# So we need to replace 9999 by mean or median! or 95th percintle! \n",
    "df['Age'].quantile([0.8,0.9,0.95,0.99])"
   ]
  },
  {
   "cell_type": "code",
   "execution_count": null,
   "metadata": {
    "colab": {
     "base_uri": "https://localhost:8080/"
    },
    "id": "BJ3dkLgQHKFi",
    "outputId": "e3958b96-c54f-4b44-c6e9-e969168cb509"
   },
   "outputs": [],
   "source": [
    "# So we need to replace 9999 by mean or median! or 95th percintle! \n",
    "df['Age'].quantile([0.99,0.999,0.99991,0.999999])"
   ]
  },
  {
   "cell_type": "code",
   "execution_count": null,
   "metadata": {
    "colab": {
     "base_uri": "https://localhost:8080/"
    },
    "id": "NNb-ufL_HKFi",
    "outputId": "48693f7d-2f94-4abe-b4db-30d3cd4c79b9"
   },
   "outputs": [],
   "source": [
    "# Hence we will replace every value in age column by greater than 76 by lets say similar values through imputer. \n",
    "df['Age'].value_counts()"
   ]
  },
  {
   "cell_type": "code",
   "execution_count": null,
   "metadata": {
    "id": "utzglLwaHKFi"
   },
   "outputs": [],
   "source": [
    "# We will fill the NaN's later by using impute method\n",
    "# For all greater than 75 we will make the age as NaN\n",
    "df['Age'].replace(9999, np.NaN, inplace=True)"
   ]
  },
  {
   "cell_type": "code",
   "execution_count": null,
   "metadata": {
    "id": "YBI1gQZTHKFi"
   },
   "outputs": [],
   "source": [
    "# Now replacing Age=1\n",
    "df['Age'].replace(1, np.NaN, inplace=True)"
   ]
  },
  {
   "cell_type": "code",
   "execution_count": null,
   "metadata": {
    "colab": {
     "base_uri": "https://localhost:8080/"
    },
    "id": "afDqp1dgHKFi",
    "outputId": "91e76756-6750-4f0f-85a7-6c1bfa27b826"
   },
   "outputs": [],
   "source": [
    "# Extreme Quantiles\n",
    "df['Age'].quantile([0.99,0.999,0.99991,0.999999])"
   ]
  },
  {
   "cell_type": "code",
   "execution_count": null,
   "metadata": {
    "colab": {
     "base_uri": "https://localhost:8080/",
     "height": 404
    },
    "id": "dmzK687wHKFi",
    "outputId": "41c40d03-6481-4c50-af27-100d048de274"
   },
   "outputs": [],
   "source": [
    "# Distribution of customers across age groups\n",
    "plt.figure(figsize=(10,6))\n",
    "sns.distplot(df['Age'])\n",
    "plt.title('Distribution of Customers across Age Groups')\n",
    "plt.xlabel('Age')\n",
    "plt.ylabel('Number of Customers')\n",
    "plt.show()"
   ]
  },
  {
   "cell_type": "markdown",
   "metadata": {
    "id": "_sE_9C22YMpY"
   },
   "source": [
    "**Observation**: The data now seems to be valid as it also proves our hypothesis of most of the customer ages would be between 20-40."
   ]
  },
  {
   "cell_type": "markdown",
   "metadata": {
    "id": "yvEhI4O-YYhT"
   },
   "source": [
    "### **Married**"
   ]
  },
  {
   "cell_type": "code",
   "execution_count": null,
   "metadata": {
    "colab": {
     "base_uri": "https://localhost:8080/"
    },
    "id": "qdiE_4osHKFi",
    "outputId": "6b417736-a9fb-4c03-898c-8e06f01e69c3"
   },
   "outputs": [],
   "source": [
    "# Count of each unique value in the 'Married' column including NaN values\n",
    "df['Married'].value_counts(dropna=False)"
   ]
  },
  {
   "cell_type": "code",
   "execution_count": null,
   "metadata": {
    "colab": {
     "base_uri": "https://localhost:8080/"
    },
    "id": "f7Kj8bJtHKFj",
    "outputId": "b3dc4651-328c-4fc8-f24b-195e5c410e5a"
   },
   "outputs": [],
   "source": [
    "# Count of unique customer IDs where 'Married' column is NaN\n",
    "df[df['Married'].isna()]['Customer ID'].nunique()"
   ]
  },
  {
   "cell_type": "code",
   "execution_count": null,
   "metadata": {
    "id": "udUK7eqQHKFj"
   },
   "outputs": [],
   "source": [
    "# Replacing NaN values in the 'Married' column with 'Not Specified'\n",
    "df['Married'] = df['Married'].fillna('Not Specified')"
   ]
  },
  {
   "cell_type": "code",
   "execution_count": null,
   "metadata": {
    "colab": {
     "base_uri": "https://localhost:8080/"
    },
    "id": "7zvPfocrHKFj",
    "outputId": "d4ede3ff-c757-4b8d-a1db-01899bc06afe"
   },
   "outputs": [],
   "source": [
    "# Count of each unique value in the 'Married' column after filling NaN values with 'Not Specified'\n",
    "df['Married'].value_counts(dropna=False)"
   ]
  },
  {
   "cell_type": "markdown",
   "metadata": {
    "id": "pRoOaEOaWBF0"
   },
   "source": [
    "### **Dependents**"
   ]
  },
  {
   "cell_type": "code",
   "execution_count": null,
   "metadata": {
    "colab": {
     "base_uri": "https://localhost:8080/"
    },
    "id": "TGOy8ZB5HKFj",
    "outputId": "1db6cd4e-5326-4f34-f4b3-e879987a1f6b"
   },
   "outputs": [],
   "source": [
    "# Count the number of unique values in \"Dependents\" column\n",
    "df['Dependents'].value_counts(dropna=False)\n"
   ]
  },
  {
   "cell_type": "markdown",
   "metadata": {
    "id": "Ikug4PoLHKFj"
   },
   "source": [
    "**Observation**:The Dependents and Number of Dependents columns are linked."
   ]
  },
  {
   "cell_type": "code",
   "execution_count": null,
   "metadata": {
    "id": "ssKDWvAiHKFj"
   },
   "outputs": [],
   "source": [
    "# Fill missing values in dependents with \"Not Specified\"\n",
    "df['Dependents']=df['Dependents'].fillna('Not Specified')"
   ]
  },
  {
   "cell_type": "code",
   "execution_count": null,
   "metadata": {
    "colab": {
     "base_uri": "https://localhost:8080/"
    },
    "id": "S3EtK9meHKFj",
    "outputId": "4f1c43ec-5702-4e6d-bbe7-22900a48b855"
   },
   "outputs": [],
   "source": [
    "# Count the number of unique values in \"Dependents\" column after imputation\n",
    "df['Dependents'].value_counts(dropna=False)\n"
   ]
  },
  {
   "cell_type": "code",
   "execution_count": null,
   "metadata": {
    "colab": {
     "base_uri": "https://localhost:8080/"
    },
    "id": "G2KgMKKI1wz9",
    "outputId": "1ffccec6-d9de-46fb-9c27-1818a80af6fc"
   },
   "outputs": [],
   "source": [
    "# Percentage of customers with dependents\n",
    "percent_with_dependents = (df[\"Dependents\"].value_counts(normalize=True) * 100).loc[\"Yes\"]\n",
    "preserve(\"fcTel1\")\n",
    "print(f\"Percentage of customers with dependents: {percent_with_dependents:.2f}%\")\n"
   ]
  },
  {
   "cell_type": "markdown",
   "metadata": {
    "id": "WTS0_IM52HRo"
   },
   "source": [
    "**Observation**: The percentage of customers with dependents gives insights into the family structure of the customer base. This can help understand the type of services that are in demand among families and whether there are opportunities to introduce family-oriented plans and promotions. "
   ]
  },
  {
   "cell_type": "markdown",
   "metadata": {
    "id": "Kdn_cTZ_3Uep"
   },
   "source": [
    "### **Number of Dependents**"
   ]
  },
  {
   "cell_type": "code",
   "execution_count": null,
   "metadata": {
    "colab": {
     "base_uri": "https://localhost:8080/"
    },
    "id": "OJnIcS7oHKFj",
    "outputId": "0975b55f-473d-4d49-e7ff-60120607f759"
   },
   "outputs": [],
   "source": [
    "# Counting the number of unique values in Number of Dependents column\n",
    "df['Number of Dependents'].value_counts(dropna=False)"
   ]
  },
  {
   "cell_type": "markdown",
   "metadata": {
    "id": "rdlNq_EhHKFj"
   },
   "source": [
    "**Observation**: There are no null values in the number of dependents column.\n",
    "\n",
    "Nonetheless, 699 dependents stand out as an exception in this case. Substitute nan and impute them later."
   ]
  },
  {
   "cell_type": "markdown",
   "metadata": {
    "id": "AFyjbV9aJ2rc"
   },
   "source": [
    "**Problem**:\n",
    "* Improve customer satisfaction: Customers with dependents have zero dependents constitute the majority of our customer base and could be used to improve customer satisfaction by offering more accurate and relevant products and services to customers based on their needs as customers with dependents more likely have a high ARPU and means they are more invested and have a lesser risk to churn out. Although, they should be tackled with a whole different strategy to ensure their loyalty."
   ]
  },
  {
   "cell_type": "code",
   "execution_count": null,
   "metadata": {
    "id": "_ND5xxTNHKFj"
   },
   "outputs": [],
   "source": [
    "# Replace 699 with Nan\n",
    "df.loc[df['Number of Dependents']==699,'Number of Dependents']=np.nan"
   ]
  },
  {
   "cell_type": "code",
   "execution_count": null,
   "metadata": {
    "colab": {
     "base_uri": "https://localhost:8080/"
    },
    "id": "Z_mFSj-3HKFj",
    "outputId": "a134b855-43c3-4950-b459-38e890d9dfd5"
   },
   "outputs": [],
   "source": [
    "# Count the frequency of unique values in the 'Dependents' and 'Number of Dependents' columns\n",
    "df[['Dependents','Number of Dependents']].value_counts(dropna=False)"
   ]
  },
  {
   "cell_type": "markdown",
   "metadata": {
    "id": "QzZVpFW5HKFk"
   },
   "source": [
    "**Observation**: \n",
    "* Some rows have NaN values in 'Dependents' column and 'Number of Dependents' column has value 0 for those rows.\n",
    "\n",
    "* It seems ambiguous as the 'Dependents' column indicates that the customer has dependents but the 'Number of Dependents' is 0.\n",
    "\n",
    "* It is recommended to check with the business team for clarification.\n",
    "However, we will not address this in the current notebook.\n",
    "\n",
    "\n",
    "\n"
   ]
  },
  {
   "cell_type": "markdown",
   "metadata": {
    "id": "09j70TqKWLTh"
   },
   "source": [
    "### **Location ID and Service ID**"
   ]
  },
  {
   "cell_type": "code",
   "execution_count": null,
   "metadata": {
    "colab": {
     "base_uri": "https://localhost:8080/"
    },
    "id": "GMpBzoTFHKFk",
    "outputId": "548ab691-e5a3-4cb2-cfd4-3f4d55731784"
   },
   "outputs": [],
   "source": [
    "# Count the number of unique Location IDs\n",
    "df['Location ID'].nunique()"
   ]
  },
  {
   "cell_type": "code",
   "execution_count": null,
   "metadata": {
    "colab": {
     "base_uri": "https://localhost:8080/"
    },
    "id": "f6pyhL5ZHKFk",
    "outputId": "6717db5b-e00d-453c-e203-6ebf42dd1b9b"
   },
   "outputs": [],
   "source": [
    "# Count the number of unique Service IDs\n",
    "df['Service ID'].nunique()"
   ]
  },
  {
   "cell_type": "markdown",
   "metadata": {
    "id": "XD-aFtzkHKFk"
   },
   "source": [
    "**Observation**: It appears that each customer ID has a distinct Location ID and Service ID and they go hand in hand."
   ]
  },
  {
   "cell_type": "code",
   "execution_count": null,
   "metadata": {
    "colab": {
     "base_uri": "https://localhost:8080/"
    },
    "id": "iqnxeS_KHKFk",
    "outputId": "223377c5-22a1-400b-b09b-187ddd604b4a"
   },
   "outputs": [],
   "source": [
    "# Using value_counts() method to get the count of unique values for Location ID and Service ID columns\n",
    "df[['Location ID','Service ID']].value_counts(dropna=False)"
   ]
  },
  {
   "cell_type": "markdown",
   "metadata": {
    "id": "TGMPq3d2HKFk"
   },
   "source": [
    "**Observation**: The counts of unique values for Location ID and Service ID columns are almost same which indicates that location ID and service ID are related to each other and thus our assumption is proved."
   ]
  },
  {
   "cell_type": "markdown",
   "metadata": {
    "id": "QnZ0drWLcA8Z"
   },
   "source": [
    "### **State**"
   ]
  },
  {
   "cell_type": "code",
   "execution_count": null,
   "metadata": {
    "colab": {
     "base_uri": "https://localhost:8080/"
    },
    "id": "IkiBxBF3HKFk",
    "outputId": "5e67ca93-07e1-4018-ff9d-561c2fd2398b"
   },
   "outputs": [],
   "source": [
    "# Count the unique values of State column\n",
    "df['state'].value_counts(dropna=False)"
   ]
  },
  {
   "cell_type": "markdown",
   "metadata": {
    "id": "kNNmzvGQHKFk"
   },
   "source": [
    "**Observation**: There are no null values in the state column."
   ]
  },
  {
   "cell_type": "code",
   "execution_count": null,
   "metadata": {
    "colab": {
     "base_uri": "https://localhost:8080/",
     "height": 410
    },
    "id": "Em1kNyudHKFk",
    "outputId": "58ac7024-376e-4228-9078-38965edab92b"
   },
   "outputs": [],
   "source": [
    "# Bar plot of customer count for each state\n",
    "plt.figure(figsize=(10,6))\n",
    "df['state'].value_counts(dropna=False).plot.bar()\n",
    "plt.title('Bar plot of customer count for each state')\n",
    "plt.xlabel('State')\n",
    "plt.ylabel('Number of Customers')\n",
    "plt.show()"
   ]
  },
  {
   "cell_type": "code",
   "execution_count": null,
   "metadata": {
    "colab": {
     "base_uri": "https://localhost:8080/",
     "height": 175
    },
    "id": "SQ9MIWrvHKFl",
    "outputId": "0e46fcfe-3714-4d0b-be55-c4dafc0a4d20"
   },
   "outputs": [],
   "source": [
    "# Grouping by state and calculating unique customer count\n",
    "df.groupby(['state'],as_index=False).agg(Number_of_customers=('Customer ID','nunique'))"
   ]
  },
  {
   "cell_type": "markdown",
   "metadata": {
    "id": "NpaINNjTJPCV"
   },
   "source": [
    "**Observation**:  It can be observed that the maximum number of customers are from California with 57665 Customers IDs.\n",
    "\n",
    "We earlier saw that the normal distribution of zip codes suggests that customers are evenly distributed across zip codes. \n",
    "\n",
    "**Hypothesis**:\n",
    "\n",
    "* It is possible that the state of California has a large number of zip codes among other states. \n"
   ]
  },
  {
   "cell_type": "code",
   "execution_count": null,
   "metadata": {
    "colab": {
     "base_uri": "https://localhost:8080/"
    },
    "id": "GUgUV2uQJAc8",
    "outputId": "9ee80b5f-7b0f-4b9d-99a7-955605808e71"
   },
   "outputs": [],
   "source": [
    "# Count the number of unique zip codes per state\n",
    "df.groupby('state')['zip_code'].nunique()"
   ]
  },
  {
   "cell_type": "markdown",
   "metadata": {
    "id": "5chQJg_YJjCU"
   },
   "source": [
    "Yes! California has maximum zip codes."
   ]
  },
  {
   "cell_type": "markdown",
   "metadata": {
    "id": "ij8aCHedHKFl"
   },
   "source": [
    "**Hypotheses and Problems**\n",
    "\n",
    "\n",
    "Hypotheses that can be deduced:\n",
    "\n",
    "\n",
    "* The telecom service provider has a strong presence in California, leading to a higher customer base.\n",
    "\n",
    "* Customers from California have higher mobile phone usage compared to other states, leading to more subscriptions with the telecom service provider.\n",
    "\n",
    "\n",
    "These conclusions also lead to the following problems:\n",
    "\n",
    "* Location-based marketing strategy: The insight that the majority of customers are from California could be used to develop a location-based marketing strategy that targets customers in this state with customized offers, campaigns, and promotions.\n",
    "\n",
    "* Improve customer distribution: Analyze and bring in more customers from other states to even out the customer distribution and ensure the company is not overly reliant on a particular area.\n",
    "\n"
   ]
  },
  {
   "cell_type": "markdown",
   "metadata": {
    "id": "y_e34GRccETv"
   },
   "source": [
    "### **County**"
   ]
  },
  {
   "cell_type": "code",
   "execution_count": null,
   "metadata": {
    "colab": {
     "base_uri": "https://localhost:8080/",
     "height": 1000
    },
    "id": "PWi41hhgHKFl",
    "outputId": "e5380bf6-5e96-4f58-d528-5804b88492f6"
   },
   "outputs": [],
   "source": [
    "# Group by county and calculate number of unique customers in each county\n",
    "df.groupby(['county'],as_index=False).agg(Number_of_customers=('Customer ID','nunique')).sort_values(by=['Number_of_customers'])"
   ]
  },
  {
   "cell_type": "code",
   "execution_count": null,
   "metadata": {
    "colab": {
     "base_uri": "https://localhost:8080/"
    },
    "id": "xqfErF7iHKFl",
    "outputId": "b00444b7-455d-4abc-87c6-dddf473cf7b6"
   },
   "outputs": [],
   "source": [
    "# Count the number of missing values in county column\n",
    "df['county'].isna().sum()"
   ]
  },
  {
   "cell_type": "markdown",
   "metadata": {
    "id": "2ALPCK29Lw2e"
   },
   "source": [
    "**Observations**:\n",
    "\n",
    "* Los Angeles has the highest number of customers while Garfield county has the lowest number of customers.\n",
    "\n",
    "* There are 918 missing values in the county column.\n",
    "\n",
    "**Hypotheses**:\n",
    "\n",
    "* Customers in densely populated areas (like Los Angeles) may have different preferences and behaviors compared to customers in less populated areas (like Garfield county).\n",
    "\n",
    "Analyzing customer preferences and behaviors in different locations can help the company target their marketing and promotional strategies effectively."
   ]
  },
  {
   "cell_type": "code",
   "execution_count": null,
   "metadata": {
    "colab": {
     "base_uri": "https://localhost:8080/"
    },
    "id": "sTwV0tywHKFl",
    "outputId": "bd00ca6f-c7c1-4b5e-a007-7ffef72be08e"
   },
   "outputs": [],
   "source": [
    "# Finding the values of state, latitude and longitude where county is missing\n",
    "df[df['county'].isna()][['state','latitude','longitude']].value_counts()"
   ]
  },
  {
   "cell_type": "code",
   "execution_count": null,
   "metadata": {
    "colab": {
     "base_uri": "https://localhost:8080/"
    },
    "id": "ectUH7TFHKFl",
    "outputId": "2f5d5873-1a1c-42ca-816f-5ea137f7e949"
   },
   "outputs": [],
   "source": [
    "# Finding the county for specific latitude and longitude values\n",
    "df[(df.latitude==32.99)&(df.longitude==-106.97)]['county'].value_counts(dropna=False)"
   ]
  },
  {
   "cell_type": "code",
   "execution_count": null,
   "metadata": {
    "colab": {
     "base_uri": "https://localhost:8080/"
    },
    "id": "kUktHghVHKFl",
    "outputId": "a5de3942-439d-4e7c-d8cb-48f0db31e7b8"
   },
   "outputs": [],
   "source": [
    "# Finding the county for specific latitude and longitude values\n",
    "df[(df.latitude==34.75)&(df.longitude==-92.27)]['county'].value_counts(dropna=False)"
   ]
  },
  {
   "cell_type": "code",
   "execution_count": null,
   "metadata": {
    "colab": {
     "base_uri": "https://localhost:8080/"
    },
    "id": "QF5sl0VXHKFm",
    "outputId": "bfa02b95-678e-4266-8130-84f9a2e2e265"
   },
   "outputs": [],
   "source": [
    "# Finding the county for specific latitude and longitude values\n",
    "df[(df.latitude==35.82)&(df.longitude==-106.20)]['county'].value_counts(dropna=False)"
   ]
  },
  {
   "cell_type": "code",
   "execution_count": null,
   "metadata": {
    "colab": {
     "base_uri": "https://localhost:8080/"
    },
    "id": "0OR6-pfqHKFm",
    "outputId": "d5f454e8-465a-4af4-f006-0232cd1aaa9a"
   },
   "outputs": [],
   "source": [
    "# Finding the county for specific latitude and longitude values\n",
    "df[(df.latitude==47.85)&(df.longitude==-122.22)]['county'].value_counts(dropna=False)"
   ]
  },
  {
   "cell_type": "code",
   "execution_count": null,
   "metadata": {
    "colab": {
     "base_uri": "https://localhost:8080/"
    },
    "id": "WVcHeoljHKFm",
    "outputId": "eaea3a8a-556e-4dca-9b09-407f6ee7431f"
   },
   "outputs": [],
   "source": [
    "# Finding the county for specific latitude and longitude values\n",
    "df[(df.latitude== 37.95)&(df.longitude==-121.29 )]['state'].value_counts(dropna=False)"
   ]
  },
  {
   "cell_type": "code",
   "execution_count": null,
   "metadata": {
    "id": "43nswD-iHKFm"
   },
   "outputs": [],
   "source": [
    "# Replacing missing values in county with 'Unknown'\n",
    "df['county']=df['county'].fillna('Unknown')"
   ]
  },
  {
   "cell_type": "markdown",
   "metadata": {
    "id": "Kh8s-7jvQnWM"
   },
   "source": [
    "**Observation**:\n",
    "It is seen that there are some values of latitude and longitude for which the county value is missing (NaN). To fill in these missing values, we can find the county corresponding to those latitude and longitude values. Replace the missing county values with 'Unknown'."
   ]
  },
  {
   "cell_type": "markdown",
   "metadata": {
    "id": "QyUqPr4ucOit"
   },
   "source": [
    "### **Timezone**"
   ]
  },
  {
   "cell_type": "code",
   "execution_count": null,
   "metadata": {
    "colab": {
     "base_uri": "https://localhost:8080/"
    },
    "id": "w0yxuq6tHKFm",
    "outputId": "3bd1e1dc-f5dc-4f74-b486-9c48520a091b"
   },
   "outputs": [],
   "source": [
    "# Count the number of customers in each timezone\n",
    "df['timezone'].value_counts(dropna=False)"
   ]
  },
  {
   "cell_type": "code",
   "execution_count": null,
   "metadata": {
    "colab": {
     "base_uri": "https://localhost:8080/"
    },
    "id": "bUSkgfJUHKFm",
    "outputId": "b0bc4530-558a-49a6-8b5f-8ca266f44706"
   },
   "outputs": [],
   "source": [
    "# Identify the customers with missing timezone and their state and county information\n",
    "df[df['timezone'].isna()][['state','county']].value_counts(dropna=False)"
   ]
  },
  {
   "cell_type": "code",
   "execution_count": null,
   "metadata": {
    "colab": {
     "base_uri": "https://localhost:8080/"
    },
    "id": "YTb9w88EHKFn",
    "outputId": "a7a09c62-204e-4d61-fbbd-f63a6f1a2925"
   },
   "outputs": [],
   "source": [
    "# Check the unique timezone value for customers in Craighead County\n",
    "df[df.county=='Craighead County'].timezone.unique()"
   ]
  },
  {
   "cell_type": "code",
   "execution_count": null,
   "metadata": {
    "id": "VADJcgr0HKFo"
   },
   "outputs": [],
   "source": [
    "# Fill the missing timezone values with \"America/Chicago\" \n",
    "df['timezone']=df['timezone'].fillna('America/Chicago')"
   ]
  },
  {
   "cell_type": "markdown",
   "metadata": {
    "id": "cdbXyRZhSWcw"
   },
   "source": [
    "**Observation**: There are 147 null values for timezone, all of which belong to Craighead County. The corresponding timezone for this county is \"America/Chicago\", so we safely replaced the missing values with this timezone."
   ]
  },
  {
   "cell_type": "markdown",
   "metadata": {
    "id": "trmf8jLMShjt"
   },
   "source": [
    "**Hypothesis**:\n",
    "\n",
    "* Customers in different timezones may have different calling behavior or usage patterns, which can affect the revenue or service quality of the company.\n",
    "\n",
    "We'll have to analyze and see later."
   ]
  },
  {
   "cell_type": "markdown",
   "metadata": {
    "id": "NiHDF011cTi9"
   },
   "source": [
    "### **Area Codes**"
   ]
  },
  {
   "cell_type": "code",
   "execution_count": null,
   "metadata": {
    "colab": {
     "base_uri": "https://localhost:8080/"
    },
    "id": "83SszO4jHKFo",
    "outputId": "db9efbeb-dc9b-448e-af4d-5e163b0dcec1"
   },
   "outputs": [],
   "source": [
    "# Count the values of area codes\n",
    "df['area_codes'].value_counts(dropna=False)"
   ]
  },
  {
   "cell_type": "markdown",
   "metadata": {
    "id": "sKHLZknZHKFo"
   },
   "source": [
    "There are some missing values. Let us explore deeper."
   ]
  },
  {
   "cell_type": "code",
   "execution_count": null,
   "metadata": {
    "colab": {
     "base_uri": "https://localhost:8080/"
    },
    "id": "pBNiXcCzHKFp",
    "outputId": "3cefd2ba-fa7b-4a06-a4da-d8b0d2a7c23e"
   },
   "outputs": [],
   "source": [
    "# Count the values of state and county for missing values of area codes\n",
    "df[df['area_codes'].isna()][['state','county']].value_counts(dropna=False)"
   ]
  },
  {
   "cell_type": "markdown",
   "metadata": {
    "id": "0ORfvUwtHKFp"
   },
   "source": [
    "Let's see if one county has only one area codes value."
   ]
  },
  {
   "cell_type": "code",
   "execution_count": null,
   "metadata": {
    "colab": {
     "base_uri": "https://localhost:8080/"
    },
    "id": "DA6blkFjHKFp",
    "outputId": "2af3f639-553d-4d25-e4cf-366c08b10e34"
   },
   "outputs": [],
   "source": [
    "# Count the values of County and area codes\n",
    "df[['county','area_codes']].value_counts(dropna=False)"
   ]
  },
  {
   "cell_type": "markdown",
   "metadata": {
    "id": "QQ4VShIpHKFp"
   },
   "source": [
    "**Observation**:\n",
    "As we can see, San Diego County has at least two area codes. As a result, no two counties share the same area code.\n",
    "\n",
    "We can verify with the company about this."
   ]
  },
  {
   "cell_type": "markdown",
   "metadata": {
    "id": "a563AeN-HKFp"
   },
   "source": [
    "For the time being, let us simply replace na with unknown."
   ]
  },
  {
   "cell_type": "code",
   "execution_count": null,
   "metadata": {
    "id": "N02wIStmHKFp"
   },
   "outputs": [],
   "source": [
    "# Filling the missing value with Unknown\n",
    "df['area_codes']=df['area_codes'].fillna('Unknown')"
   ]
  },
  {
   "cell_type": "markdown",
   "metadata": {
    "id": "BUnhZJVGUOyA"
   },
   "source": [
    "### **Latitude and Longitude**"
   ]
  },
  {
   "cell_type": "code",
   "execution_count": null,
   "metadata": {
    "colab": {
     "base_uri": "https://localhost:8080/"
    },
    "id": "2JKQmmLcHKFp",
    "outputId": "9a0f26ee-229d-4698-a370-a4bc7a5d2298"
   },
   "outputs": [],
   "source": [
    "# Check the number of nulls in latitude\n",
    "df['latitude'].isna().sum()"
   ]
  },
  {
   "cell_type": "code",
   "execution_count": null,
   "metadata": {
    "colab": {
     "base_uri": "https://localhost:8080/"
    },
    "id": "j8e5juTKHKFp",
    "outputId": "ef07c119-4955-49ab-c6b9-b988524c57cf"
   },
   "outputs": [],
   "source": [
    "# Check the number of nulls in longitude\n",
    "df['longitude'].isna().sum()"
   ]
  },
  {
   "cell_type": "code",
   "execution_count": null,
   "metadata": {
    "colab": {
     "base_uri": "https://localhost:8080/"
    },
    "id": "F6IDuETSHKFq",
    "outputId": "669d55a1-fb21-4a14-f999-b3c322aaec73"
   },
   "outputs": [],
   "source": [
    "# Count the unique values of latitude and longitude\n",
    "df[['latitude','longitude']].value_counts()"
   ]
  },
  {
   "cell_type": "markdown",
   "metadata": {
    "id": "KpgRMsr9V1Zb"
   },
   "source": [
    "Are these from California, as there are many maximum consumers from that state?"
   ]
  },
  {
   "cell_type": "code",
   "execution_count": null,
   "metadata": {
    "colab": {
     "base_uri": "https://localhost:8080/"
    },
    "id": "RWXF7s8WVGMR",
    "outputId": "284e76a3-cc02-4360-f1cc-d358b69f3286"
   },
   "outputs": [],
   "source": [
    "# Checking if the latitude and longitude values are from CA\n",
    "df[df['latitude']==38.58][['latitude', 'longitude', 'state']].value_counts()"
   ]
  },
  {
   "cell_type": "markdown",
   "metadata": {
    "id": "EKFrMjeNXEF7"
   },
   "source": [
    "Yes!"
   ]
  },
  {
   "cell_type": "markdown",
   "metadata": {
    "id": "hrNxB0QCHKFq"
   },
   "source": [
    "**Observation**:\n",
    "\n",
    "* There are no null values in latitude and longitude, and the maximum number of rows is 38.58, -121.49."
   ]
  },
  {
   "cell_type": "markdown",
   "metadata": {
    "id": "Xy5a2oScV5b9"
   },
   "source": [
    "### **Average Revenue per User (ARPU)**"
   ]
  },
  {
   "cell_type": "markdown",
   "metadata": {
    "id": "oxUoEyauTmBt"
   },
   "source": [
    "Some hypotheses for univariate analysis are:\n",
    "\n",
    "* We don't know which customers have been good or bad to the organization.\n",
    "\n",
    "* The distribution of arpu values might be skewed. The median arpu might be a better measure of central tendency than the mean arpu.\n",
    "\n",
    "* There might be some outliers in arpu values."
   ]
  },
  {
   "cell_type": "code",
   "execution_count": null,
   "metadata": {
    "colab": {
     "base_uri": "https://localhost:8080/"
    },
    "id": "bwbXuU_gHKFq",
    "outputId": "3941843a-ab1b-4c87-fa04-eda32a10d89b"
   },
   "outputs": [],
   "source": [
    "# Check the null values in ARPU\n",
    "df['arpu'].isna().sum()"
   ]
  },
  {
   "cell_type": "markdown",
   "metadata": {
    "id": "vO4LHp2bHKFq"
   },
   "source": [
    "There are no null values in arpu."
   ]
  },
  {
   "cell_type": "code",
   "execution_count": null,
   "metadata": {
    "colab": {
     "base_uri": "https://localhost:8080/",
     "height": 402
    },
    "id": "ExX0SUP5HKFq",
    "outputId": "894c62db-97d4-4f17-9dc3-0a262048ad04"
   },
   "outputs": [],
   "source": [
    "# Distribution plot\n",
    "preserve(\"fcTel1\")\n",
    "plt.figure(figsize=(10,6))\n",
    "sns.displot(df['arpu'])\n",
    "plt.title('Distribution of arpu')\n",
    "plt.xlabel('ARPU')\n",
    "plt.ylabel('Count')\n",
    "plt.show()"
   ]
  },
  {
   "cell_type": "markdown",
   "metadata": {
    "id": "g1fLwvViHKFq"
   },
   "source": [
    "**Observation**:\n",
    "\n",
    "* The distribution of ARPU values is right-skewed, with most values concentrated below 500 which indicates very high ARPU values for a few customers proving our hypotheses.\n",
    "\n",
    "* There are some negative ARPU values, which may be due to refunds. A negative ARPU means that the company is losing money on a per-user basis, rather than making a profit. It is not uncommon for telecom companies to have negative ARPU due to the high costs associated with acquiring and servicing customers.\n",
    "\n"
   ]
  },
  {
   "cell_type": "code",
   "execution_count": null,
   "metadata": {
    "colab": {
     "base_uri": "https://localhost:8080/"
    },
    "id": "ZqRRwKK_HKFq",
    "outputId": "d1e360af-50e9-4ee8-f880-84316eb5a6c6"
   },
   "outputs": [],
   "source": [
    "# ARPU is negative here.\n",
    "# Lets investigate\n",
    "df.arpu.describe()"
   ]
  },
  {
   "cell_type": "code",
   "execution_count": null,
   "metadata": {
    "colab": {
     "base_uri": "https://localhost:8080/"
    },
    "id": "AV3-UKDkHKFq",
    "outputId": "beab722c-e605-40d1-9e7c-bbf45b9c037d"
   },
   "outputs": [],
   "source": [
    "# Now let us investigate how many people have negative arpu\n",
    "\n",
    "df[df['arpu']<0].shape"
   ]
  },
  {
   "cell_type": "code",
   "execution_count": null,
   "metadata": {
    "colab": {
     "base_uri": "https://localhost:8080/"
    },
    "id": "IncxoMlqHKFq",
    "outputId": "cd221cf0-f501-43f3-a255-452ae3edfe6b"
   },
   "outputs": [],
   "source": [
    "# So nearly 115K customers have negative ARPU. \n",
    "# Let's calculate the percentage\n",
    "115942/df.shape[0]"
   ]
  },
  {
   "cell_type": "markdown",
   "metadata": {
    "id": "4p_ws_xoHKFq"
   },
   "source": [
    "**Observation**:\n",
    "\n",
    "The fact that 17% of the people have negative arpu means that a significant proportion of the customer base is not generating revenue for the telecom company. \n",
    "\n",
    "This could be due to a number of reasons, such as inactive accounts, delinquent accounts, or accounts with outstanding balances. \n",
    "\n",
    "To understand more about this issue, we can investigate other variables that may be related to negative arpu, such as churn status. We can also look at the distribution of negative arpu values across different demographic groups, such as age, gender, and location, to see if there are any patterns or trends. \n",
    "\n",
    "Additionally, we can explore whether there are any correlations between negative arpu and other variables, such as usage patterns, service subscriptions, and customer satisfaction scores to understand what's causing this behaviour.\n",
    "\n",
    "Overall, further investigation is needed to fully understand the implications of negative arpu for the telecom company.\n"
   ]
  },
  {
   "cell_type": "markdown",
   "metadata": {
    "id": "Hm_SFLnAX3PJ"
   },
   "source": [
    "### **Average revenue per user over 4G  and 5G network (ARPU 4G & ARPU 5G)**"
   ]
  },
  {
   "cell_type": "code",
   "execution_count": null,
   "metadata": {
    "colab": {
     "base_uri": "https://localhost:8080/"
    },
    "id": "LChuh-3XHKFr",
    "outputId": "d2d8703a-5ae4-4567-9c1f-9f41648bd9b1"
   },
   "outputs": [],
   "source": [
    "# Check nulls\n",
    "df['arpu_4g'].isna().sum()"
   ]
  },
  {
   "cell_type": "code",
   "execution_count": null,
   "metadata": {
    "colab": {
     "base_uri": "https://localhost:8080/"
    },
    "id": "05cVcXwkHKFr",
    "outputId": "394105b0-c2c9-4015-ae05-2cbcafc27225"
   },
   "outputs": [],
   "source": [
    "# Check nulls\n",
    "df['arpu_5g'].isna().sum()"
   ]
  },
  {
   "cell_type": "markdown",
   "metadata": {
    "id": "85-allgoHKFr"
   },
   "source": [
    "There are about 210K null values in arpu_4g and arpu_5g."
   ]
  },
  {
   "cell_type": "code",
   "execution_count": null,
   "metadata": {
    "colab": {
     "base_uri": "https://localhost:8080/"
    },
    "id": "sm8Y2ty9HKFs",
    "outputId": "26e193e4-9a8d-4176-fb50-ff74fca573ce"
   },
   "outputs": [],
   "source": [
    "# We have not been given any information if adding these 2 up will make overall arpu\n",
    "# Let us analyze all 3 variables together\n",
    "\n",
    "(df['arpu_5g']+df['arpu_4g']==df['arpu']).value_counts(dropna=False)"
   ]
  },
  {
   "cell_type": "markdown",
   "metadata": {
    "id": "UYTDgTR5HKFs"
   },
   "source": [
    "**Observation**: arpu_4g and arpu_5g does not add up to give overall arpu. \n",
    "\n",
    "**Hypothesis**:\n",
    "\n",
    "`Overall ARPU = arpu_4g + arpu_5g + other_arpu_components`\n",
    "\n",
    "where `other_arpu_components` represent the revenue generated from other sources such as voice calls, messaging, and data usage on 2G and 3G networks."
   ]
  },
  {
   "cell_type": "markdown",
   "metadata": {
    "id": "-SXPf9lpHKFs"
   },
   "source": [
    "Lets see how can we deal with null values in these columns"
   ]
  },
  {
   "cell_type": "code",
   "execution_count": null,
   "metadata": {
    "colab": {
     "base_uri": "https://localhost:8080/"
    },
    "id": "DIkJL7p4HKFs",
    "outputId": "5f348379-375d-437e-9505-a73f56baa616"
   },
   "outputs": [],
   "source": [
    "# Frequency count of different values in the 'total_rech_data' column for users who did not have any data recharge \n",
    "# and also have missing values in both 'arpu_4g' and 'arpu_5g' columns\n",
    "df[(df['arpu_4g'].isna())&(df['arpu_5g'].isna())]['total_rech_data'].value_counts(dropna=False)"
   ]
  },
  {
   "cell_type": "markdown",
   "metadata": {
    "id": "IFuhSCTvHKFs"
   },
   "source": [
    "**Observation**:\n",
    "\n",
    "* Maximum values with no `arpu_4g` and `arpu_5g` have no recharge for internet service, then it's safe to assume that the null values in arpu_4g and arpu_5g also represent customers who have not recharged for internet service. We will impute this values once we analyze the `total_rech_data` variable."
   ]
  },
  {
   "cell_type": "markdown",
   "metadata": {
    "id": "Nm0Vlw8Tejgr"
   },
   "source": [
    "### **Night Pack User**"
   ]
  },
  {
   "cell_type": "code",
   "execution_count": null,
   "metadata": {
    "colab": {
     "base_uri": "https://localhost:8080/"
    },
    "id": "PXcHnz7fHKFs",
    "outputId": "bfa7ce4e-4a22-4b88-81ec-9af28b26c74a"
   },
   "outputs": [],
   "source": [
    "# Check the value counts\n",
    "df['night_pck_user'].value_counts(dropna=False)"
   ]
  },
  {
   "cell_type": "markdown",
   "metadata": {
    "id": "PknM1TLhHKFs"
   },
   "source": [
    "**Observation**: Since the `night_pck_user` column has more than 50% missing values, it's not wise to impute those missing values as it may lead to biased results. So, it's better to keep the NaNs as they are and analyze the available data."
   ]
  },
  {
   "cell_type": "markdown",
   "metadata": {
    "id": "YPkEjcMpq2Fi"
   },
   "source": [
    "### **Facebook User - Social Networking Scheme** "
   ]
  },
  {
   "cell_type": "code",
   "execution_count": null,
   "metadata": {
    "colab": {
     "base_uri": "https://localhost:8080/"
    },
    "id": "0eir2ihiHKFt",
    "outputId": "b3a91104-4491-4a0f-8100-e16dea9d9c78"
   },
   "outputs": [],
   "source": [
    "# Check the counts of unique values in fb user column\n",
    "df['fb_user'].value_counts(dropna=False)"
   ]
  },
  {
   "cell_type": "markdown",
   "metadata": {
    "id": "RASy1dXlHKFt"
   },
   "source": [
    "**Observation**: \n",
    "\n",
    "* Since the `fb_user` column has more than 50% null values, we cannot draw any conclusions regarding this variable. \n",
    "\n",
    "* It would not be meaningful to perform any analysis or generate any visualizations based on this variable. If we were to include `fb_user` in our analysis, we would have to drop a significant portion of the data, which could result in biased or inaccurate results. \n",
    "\n",
    "* Therefore, it may be best to exclude this variable from our analysis altogether."
   ]
  },
  {
   "cell_type": "markdown",
   "metadata": {
    "id": "DmGKSpOfr6_r"
   },
   "source": [
    "### **Volume Based cost for 5G network (outside the scheme paid based on extra usage)**"
   ]
  },
  {
   "cell_type": "code",
   "execution_count": null,
   "metadata": {
    "colab": {
     "base_uri": "https://localhost:8080/",
     "height": 421
    },
    "id": "jf_NfQkKHKFt",
    "outputId": "88c138db-3d62-4639-b7e8-ae9236370ba0"
   },
   "outputs": [],
   "source": [
    "# Plot distribution of aug_vbc_5g\n",
    "plt.figure(figsize=(10,6))\n",
    "sns.distplot(df['aug_vbc_5g'])\n",
    "\n",
    "# Add title and labels to the plot\n",
    "plt.title('Distribution of Volume Based Cost for 5G Network')\n",
    "plt.xlabel('Volume Based Cost')\n",
    "plt.ylabel('Density')"
   ]
  },
  {
   "cell_type": "code",
   "execution_count": null,
   "metadata": {
    "colab": {
     "base_uri": "https://localhost:8080/"
    },
    "id": "7IH2Y3kUHKFt",
    "outputId": "c54bf2c7-1152-4ab2-f331-1ba1714ea0c7"
   },
   "outputs": [],
   "source": [
    "# statistics for aug_vbc_5g\n",
    "df['aug_vbc_5g'].describe()"
   ]
  },
  {
   "cell_type": "markdown",
   "metadata": {
    "id": "bkiom_ACHKFt"
   },
   "source": [
    "**Hypotheses**:\n",
    "\n",
    "* The distribution of aug_vbc_5g may have outliers.\n",
    "\n",
    "* The max value of 254687 may not be a correct value."
   ]
  },
  {
   "cell_type": "code",
   "execution_count": null,
   "metadata": {
    "colab": {
     "base_uri": "https://localhost:8080/"
    },
    "id": "s-fBn88XHKFt",
    "outputId": "54ef47af-fbec-4596-da37-4855aa993cac"
   },
   "outputs": [],
   "source": [
    "# Max value of aug_vbc_5g\n",
    "df['aug_vbc_5g'].quantile([0.8,0.9,0.95,0.99])"
   ]
  },
  {
   "cell_type": "code",
   "execution_count": null,
   "metadata": {
    "colab": {
     "base_uri": "https://localhost:8080/"
    },
    "id": "2-3a8hxrHKFt",
    "outputId": "8fde2f50-955c-40d3-d92c-f0efaebce3c5"
   },
   "outputs": [],
   "source": [
    "# So we are having problems in 99th percentile\n",
    "df['aug_vbc_5g'].quantile([0.99,0.999,0.9999])"
   ]
  },
  {
   "cell_type": "code",
   "execution_count": null,
   "metadata": {
    "id": "EsHbkpKoHKFt"
   },
   "outputs": [],
   "source": [
    "# Replace incorrect max value with NaN\n",
    "df['aug_vbc_5g'].replace(254687.0, np.NaN, inplace=True)"
   ]
  },
  {
   "cell_type": "code",
   "execution_count": null,
   "metadata": {
    "colab": {
     "base_uri": "https://localhost:8080/"
    },
    "id": "6mWFSCHOHKFt",
    "outputId": "2750e3c0-4463-482a-c891-4f0cb4031c14"
   },
   "outputs": [],
   "source": [
    "# Investigate max value of aug_vbc_5g\n",
    "df['aug_vbc_5g'].quantile([0.99,0.999,0.9999])"
   ]
  },
  {
   "cell_type": "code",
   "execution_count": null,
   "metadata": {
    "id": "dNkndJeiHKFt"
   },
   "outputs": [],
   "source": [
    "# Replace incorrect max value with NaN\n",
    "df['aug_vbc_5g'].replace(87978, np.NaN, inplace=True)"
   ]
  },
  {
   "cell_type": "code",
   "execution_count": null,
   "metadata": {
    "colab": {
     "base_uri": "https://localhost:8080/",
     "height": 421
    },
    "id": "1wHdLIkRHKFu",
    "outputId": "b8fb8c47-4497-4b14-fc59-75453cc492dd"
   },
   "outputs": [],
   "source": [
    "# Plot distribution of aug_vbc_5g again\n",
    "plt.figure(figsize=(10,6))\n",
    "sns.distplot(df['aug_vbc_5g'])\n",
    "# Add title and labels to the plot\n",
    "plt.title('Distribution of Volume Based Cost for 5G Network')\n",
    "plt.xlabel('Volume Based Cost')\n",
    "plt.ylabel('Density')\n",
    "\n"
   ]
  },
  {
   "cell_type": "code",
   "execution_count": null,
   "metadata": {
    "colab": {
     "base_uri": "https://localhost:8080/"
    },
    "id": "KYdwGf-ix3ci",
    "outputId": "8a507e5d-0284-4238-f14f-f85216ad189f"
   },
   "outputs": [],
   "source": [
    "# Print updated quantiles for aug_vbc_5g\n",
    "df['aug_vbc_5g'].quantile([0.8, 0.9, 0.99])"
   ]
  },
  {
   "cell_type": "code",
   "execution_count": null,
   "metadata": {
    "colab": {
     "base_uri": "https://localhost:8080/",
     "height": 782
    },
    "id": "P4YVSgydHKFu",
    "outputId": "b5c61411-d26b-438a-fd6e-e24f24ac0013"
   },
   "outputs": [],
   "source": [
    "# Filter values > 5000 for aug_vbc_5g\n",
    "df[df['aug_vbc_5g']>5000]"
   ]
  },
  {
   "cell_type": "markdown",
   "metadata": {
    "id": "MX_Q6OH7HKFu"
   },
   "source": [
    "**Observations**:\n",
    "\n",
    "* The maximum value of 254687 was replaced with NaN due to it being an incorrect value.\n",
    "\n",
    "* One additional incorrect value of 87978 was also replaced with NaN.\n",
    "\n",
    "* The 99th percentile value was changed to 7387.188 after replacing the incorrect values.\n",
    "\n",
    "* Values greater than 5000 were found to be valid values that may require transformations or normalization later."
   ]
  },
  {
   "cell_type": "markdown",
   "metadata": {
    "id": "qbBvvG-Qsjk8"
   },
   "source": [
    "### **Churn Value**"
   ]
  },
  {
   "cell_type": "code",
   "execution_count": null,
   "metadata": {
    "colab": {
     "base_uri": "https://localhost:8080/"
    },
    "id": "0Ayw_YWTHKFu",
    "outputId": "0ea5cd22-f056-43e9-e3aa-8bdd565529b3"
   },
   "outputs": [],
   "source": [
    "# Count the values of churned customers\n",
    "df['Churn Value'].value_counts(dropna=False)"
   ]
  },
  {
   "cell_type": "markdown",
   "metadata": {
    "id": "zz46cZWCHKFu"
   },
   "source": [
    "There are no null values in the column \"Churn Value\"."
   ]
  },
  {
   "cell_type": "code",
   "execution_count": null,
   "metadata": {
    "colab": {
     "base_uri": "https://localhost:8080/"
    },
    "id": "oeqSZTa6HKFu",
    "outputId": "418eb876-77e1-4593-9b98-736f2c72b873"
   },
   "outputs": [],
   "source": [
    "# Normalizing value counts\n",
    "df['Churn Value'].value_counts(normalize=True)"
   ]
  },
  {
   "cell_type": "markdown",
   "metadata": {
    "id": "C9yzPE8tHKFv"
   },
   "source": [
    "**Observation**: There are just 0.04% of rows with churn value 0, so let's examine how many distinct customers there are."
   ]
  },
  {
   "cell_type": "code",
   "execution_count": null,
   "metadata": {
    "colab": {
     "base_uri": "https://localhost:8080/"
    },
    "id": "WMq7zwzqOCl7",
    "outputId": "56b04784-0993-42cb-a963-f0053bb8b854"
   },
   "outputs": [],
   "source": [
    "# Unique customer IDs and their churn values\n",
    "cust_churn = df[['Customer ID', 'Churn Value']].drop_duplicates()\n",
    "\n",
    "# Calculate the percentage of customers who churned out\n",
    "churn_percent = round((cust_churn['Churn Value'].value_counts()[1] / len(cust_churn)) * 100, 2)\n",
    "\n",
    "print(\"Percentage of customers who churned out:\", churn_percent, \"%\")"
   ]
  },
  {
   "cell_type": "code",
   "execution_count": null,
   "metadata": {
    "colab": {
     "base_uri": "https://localhost:8080/",
     "height": 404
    },
    "id": "4FBiP_xNPbfS",
    "outputId": "6bcd9a46-d322-4a58-fe05-33623cd4ef75"
   },
   "outputs": [],
   "source": [
    "# Convert Month column to integer and filter Churn Value =1\n",
    "churn_monthly = df[df['Churn Value'] == 1]['Month'].astype(int).value_counts().sort_index()\n",
    "\n",
    "# Plotting bar chart \n",
    "plt.figure(figsize=(10,6))\n",
    "plt.bar(churn_monthly.index, churn_monthly.values)\n",
    "plt.title('Monthly Churned Customers')\n",
    "plt.xlabel('Month')\n",
    "plt.ylabel('Number of Customers')\n",
    "plt.show()"
   ]
  },
  {
   "cell_type": "markdown",
   "metadata": {
    "id": "4JcsIITUQNRS"
   },
   "source": [
    "**Observation**:\n",
    "\n",
    "* From the plot, we can see that there is a gradual increase in the number of churned customers from month 7 to month 11. \n",
    "\n",
    "* Month 11 has the highest number of churned customers, indicating that there may have been some issue with the services provided during that month that led to customers leaving the network. We will have to analyze this further.\n"
   ]
  },
  {
   "cell_type": "markdown",
   "metadata": {
    "id": "b-2RJBOESI4W"
   },
   "source": [
    "### **Offer**"
   ]
  },
  {
   "cell_type": "code",
   "execution_count": null,
   "metadata": {
    "colab": {
     "base_uri": "https://localhost:8080/"
    },
    "id": "qEgZtZo0HKFv",
    "outputId": "a53e9139-d859-42a3-8069-993d5810c3a2"
   },
   "outputs": [],
   "source": [
    "# Count the unique values in Offer column\n",
    "df['offer'].value_counts(dropna=False)"
   ]
  },
  {
   "cell_type": "markdown",
   "metadata": {
    "id": "Oou6NL20HKFw"
   },
   "source": [
    "**Observation**: There are a lot of null values in the offer column.\n",
    "\n",
    "**Hypotheses**: \n",
    "\n",
    "* It's possible that the null values in the offer column are due to customers not being eligible for any offers. \n",
    "\n",
    "* However, it's also possible that there was an error in recording the data or that some customers were missed when the offers were being given out. \n",
    "\n",
    "* We can investigate further by looking at the distribution of offer types and see if there are any patterns based on customer demographics or behavior."
   ]
  },
  {
   "cell_type": "code",
   "execution_count": null,
   "metadata": {
    "id": "ek_GmGD_HKFw"
   },
   "outputs": [],
   "source": [
    "# Filling Nulls with No Offer\n",
    "df['offer']=df['offer'].fillna('No Offer')"
   ]
  },
  {
   "cell_type": "code",
   "execution_count": null,
   "metadata": {
    "colab": {
     "base_uri": "https://localhost:8080/"
    },
    "id": "0mvxhYs1HKFw",
    "outputId": "cbdb80e1-6e10-4b68-f0f6-d9e5f415da01"
   },
   "outputs": [],
   "source": [
    "# Check the value counts again\n",
    "df[df['Churn Value']==1]['offer'].value_counts()"
   ]
  },
  {
   "cell_type": "markdown",
   "metadata": {
    "id": "x09Bt_XXU8L8"
   },
   "source": [
    "**Observation**:\n",
    "\n",
    "* If the offers are distributed in the same way, it suggests that the company has not targeted any specific group of customers with special offers. \n",
    "\n",
    "* This could mean that the company is more focused on providing equal benefits to all customers rather than targeting specific segments.\n",
    "\n",
    "* We can explore the relationship between the offers and customer data, such as age, gender, location, and usage patterns. This could help identify any patterns or preferences among customers that could help with the future marketing strategies. \n",
    "\n",
    "* Analyzing the impact of the offers on customer churn could help the company optimize their promotional campaigns."
   ]
  },
  {
   "cell_type": "markdown",
   "metadata": {
    "id": "D2XYD3qbVWs1"
   },
   "source": [
    "### **Referred a Friend and Number of Referrals**"
   ]
  },
  {
   "cell_type": "code",
   "execution_count": null,
   "metadata": {
    "colab": {
     "base_uri": "https://localhost:8080/"
    },
    "id": "WhQgc-m6HKFw",
    "outputId": "fbe4362c-3f22-4801-c636-f6584090ec0c"
   },
   "outputs": [],
   "source": [
    "# Count the values if a customer referred the company's services to a friend\n",
    "df['Referred a Friend'].value_counts(dropna=False)"
   ]
  },
  {
   "cell_type": "code",
   "execution_count": null,
   "metadata": {
    "colab": {
     "base_uri": "https://localhost:8080/"
    },
    "id": "JoxJTrKWHKFw",
    "outputId": "25f978b8-b02a-43bb-b786-9c55d19a5f4a"
   },
   "outputs": [],
   "source": [
    "# Here are the number of referrals\n",
    "df['Number of Referrals'].value_counts(dropna=False)"
   ]
  },
  {
   "cell_type": "markdown",
   "metadata": {
    "id": "iXeKDuv-HKFx"
   },
   "source": [
    "**Observation**: \n",
    "\n",
    "* There are some null values. We can add them later.\n",
    "\n",
    "* It will be interesting to see both the column of friends referred and the number of referrals together."
   ]
  },
  {
   "cell_type": "code",
   "execution_count": null,
   "metadata": {
    "colab": {
     "base_uri": "https://localhost:8080/"
    },
    "id": "RyTGRjwwHKFx",
    "outputId": "499c4403-5836-4add-fec3-fef937333631"
   },
   "outputs": [],
   "source": [
    "# Count the values of Referred a Friend and Number of Referrals\n",
    "df[['Referred a Friend','Number of Referrals']].value_counts(dropna=False)"
   ]
  },
  {
   "cell_type": "markdown",
   "metadata": {
    "id": "PIQKoYVWHKFx"
   },
   "source": [
    "**Observations**:\n",
    "\n",
    "* The majority of customers have answered \"no\" to the question \"Referred a Friend\" and have also not made any referrals.\n",
    "\n",
    "* A small percentage of customers who have answered \"no\" to the question \"Referred a Friend\" have made referrals.\n",
    "\n",
    "* Among the customers who have answered \"yes\" to the question \"Referred a Friend\", there is a wide range in the number of referrals made, with some customers having made only one or two referrals while others have made 10-11 as well.\n",
    "\n",
    "* To further investigate the small percentage of customers who have made referrals despite answering \"no\" to the question \"Referred a Friend\", it may be useful to analyze the source of the referrals.\n",
    "\n",
    "* To incentivize more referrals and increase customer acquisition, the company may want to consider offering referral bonuses or other rewards to customers who successfully refer new customers. \n",
    "\n",
    "* The company could analyze the characteristics and behavior of customers who are more likely to make referrals and improve their marketing campaigns."
   ]
  },
  {
   "cell_type": "markdown",
   "metadata": {
    "id": "dqs3LgEtnOyf"
   },
   "source": [
    "### **Phone Service**"
   ]
  },
  {
   "cell_type": "code",
   "execution_count": null,
   "metadata": {
    "colab": {
     "base_uri": "https://localhost:8080/",
     "height": 396
    },
    "id": "tUw76K88HKFx",
    "outputId": "3749e025-db25-4bc9-fa17-2e1309daf070"
   },
   "outputs": [],
   "source": [
    "# Count the value of customers with and without phone service\n",
    "plt.figure(figsize=(10,6))\n",
    "df['Phone Service'].value_counts(dropna=False).plot.bar()\n",
    "plt.title(\"Distribution of Customers with Phone Service\")\n",
    "plt.ylabel(\"Count\")\n",
    "plt.show()"
   ]
  },
  {
   "cell_type": "markdown",
   "metadata": {
    "id": "k66NTWRAHKFx"
   },
   "source": [
    "**Observation**:\n",
    "\n",
    "* Phone Service is a popular choice among customers, with over 5 lakh customers opting for it over the 14-month period. This suggests that it is an important service for the company to continue offering and investing in.\n",
    "\n",
    "* It would be interesting to explore the demographics and usage patterns of customers who opted for Phone Service versus those who did not. This could help the company better understand the needs and preferences of its customer base."
   ]
  },
  {
   "cell_type": "markdown",
   "metadata": {
    "id": "OjpWvAS6nOyg"
   },
   "source": [
    "### **Internet Service and Internet Type**"
   ]
  },
  {
   "cell_type": "code",
   "execution_count": null,
   "metadata": {
    "colab": {
     "base_uri": "https://localhost:8080/"
    },
    "id": "bGier4QHHKFy",
    "outputId": "f5f1a57e-dbca-4d16-9fa5-8a20efd7dd6b"
   },
   "outputs": [],
   "source": [
    "# Count the values of the customers with and without Internet Service\n",
    "df['Internet Service'].value_counts(dropna=False)"
   ]
  },
  {
   "cell_type": "markdown",
   "metadata": {
    "id": "v20rU50RnOyg"
   },
   "source": [
    "**Observation**:\n",
    "\n",
    "* About 4L customers (not unique) have opted for internet service over 14 months.\n",
    "\n",
    "* To gain more insights, we can combine this observation with other columns like churn value, total charges, contract type, payment method, and monthly charges, as mentioned earlier. This can help us understand the behavior and preferences of customers who have opted for internet service and identify potential areas for improvement or upselling."
   ]
  },
  {
   "cell_type": "code",
   "execution_count": null,
   "metadata": {
    "colab": {
     "base_uri": "https://localhost:8080/"
    },
    "id": "LENzrvlyHKFy",
    "outputId": "c3b9cc6d-0187-4262-84ad-654063430746"
   },
   "outputs": [],
   "source": [
    "# Count the Internet Type values\n",
    "df['Internet Type'].value_counts(dropna=False)\n"
   ]
  },
  {
   "cell_type": "markdown",
   "metadata": {
    "id": "U0Tak1PwHKFy"
   },
   "source": [
    "**Observation**:\n",
    "\n",
    "* There are four types of internet services offered: Fiber Optic, Cable, DSL, and None.\n",
    "\n",
    "* Majority of customers have opted for Fiber Optic and Cable internet services.\n",
    "\n",
    "* There may be cases where the internet service is yes but the internet type is not specified (NaN values).\n",
    "\n",
    "* There may be cases where the internet service is no but the internet type is specified (which does not make sense)."
   ]
  },
  {
   "cell_type": "code",
   "execution_count": null,
   "metadata": {
    "colab": {
     "base_uri": "https://localhost:8080/"
    },
    "id": "w_xfI_xanOyi",
    "outputId": "5a1d60df-b3dd-461e-99c5-96e16cad091a"
   },
   "outputs": [],
   "source": [
    "# Count the values of internet service and type together\n",
    "df[['Internet Service','Internet Type']].value_counts(dropna=False)"
   ]
  },
  {
   "cell_type": "markdown",
   "metadata": {
    "id": "-lruTBmMnOyj"
   },
   "source": [
    "**Observation**:\n",
    "\n",
    "* As these are not unique values , they are monthly values for each customer we'll have to see which customers had internet service for that month or not.\n",
    "\n",
    "* Some customers have said yes to having internet service but their internet type is none.\n",
    "\n",
    "* It could mean that the customer has not used the internet during that month. However, it could also mean that there is missing data or the customer is using an unknown type of internet service.\n",
    "\n",
    "* We can check if there is any usage data available for the customer during that month. If there is usage data available, we can assume that the customer has used the internet and fill the missing value with the most common internet type for that customer. If there is no usage data available, we can leave the value as None."
   ]
  },
  {
   "cell_type": "markdown",
   "metadata": {
    "id": "92Cdw9hinOyj"
   },
   "source": [
    "### **Unlimited Data**"
   ]
  },
  {
   "cell_type": "code",
   "execution_count": null,
   "metadata": {
    "colab": {
     "base_uri": "https://localhost:8080/"
    },
    "id": "qP1VCiQFHKFy",
    "outputId": "a190664f-c008-4f4a-b048-6922197db8ef"
   },
   "outputs": [],
   "source": [
    "# Count the values of the Unlimited Data column\n",
    "df['Unlimited Data'].value_counts(dropna=False)"
   ]
  },
  {
   "cell_type": "markdown",
   "metadata": {
    "id": "fYNCYychnOyj"
   },
   "source": [
    "**Observation**:\n",
    "\n",
    "* The majority of the customers have subscribed to the Unlimited Data plan across 14 months."
   ]
  },
  {
   "cell_type": "markdown",
   "metadata": {
    "id": "r5kwf9wUnOyj"
   },
   "source": [
    "### **Streaming Movies**"
   ]
  },
  {
   "cell_type": "code",
   "execution_count": null,
   "metadata": {
    "colab": {
     "base_uri": "https://localhost:8080/"
    },
    "id": "E30VEsBJHKFy",
    "outputId": "0a52b9c5-3989-4478-ec74-a56c50c324e8"
   },
   "outputs": [],
   "source": [
    "# Count the values of the streaming movies column\n",
    "df['Streaming Movies'].value_counts(dropna=False)"
   ]
  },
  {
   "cell_type": "markdown",
   "metadata": {
    "id": "SSsj22pWnOyk"
   },
   "source": [
    "**Observation**:\n",
    "\n",
    "* The distribution is almost similar across 14 months."
   ]
  },
  {
   "cell_type": "markdown",
   "metadata": {
    "id": "gFaHm0v_nOyk"
   },
   "source": [
    "### **Streaming TV**"
   ]
  },
  {
   "cell_type": "code",
   "execution_count": null,
   "metadata": {
    "colab": {
     "base_uri": "https://localhost:8080/"
    },
    "id": "ZEATCyhJHKFz",
    "outputId": "76c1b035-ecda-4757-de22-beb7575e5970"
   },
   "outputs": [],
   "source": [
    "# Count the values of the streaming TV column\n",
    "df['Streaming TV'].value_counts(dropna=False)"
   ]
  },
  {
   "cell_type": "markdown",
   "metadata": {
    "id": "xma49maFnOyk"
   },
   "source": [
    "**Observation**:\n",
    "\n",
    "* The distribution is almost similar across 14 months."
   ]
  },
  {
   "cell_type": "markdown",
   "metadata": {
    "id": "f8a7W_0UnOyk"
   },
   "source": [
    "### **Streaming Music**"
   ]
  },
  {
   "cell_type": "code",
   "execution_count": null,
   "metadata": {
    "colab": {
     "base_uri": "https://localhost:8080/"
    },
    "id": "otvVjbOoHKFz",
    "outputId": "f99cc57d-d61f-4d7c-dea6-3deae4b542fc"
   },
   "outputs": [],
   "source": [
    "# Count the values of the streaming movies column\n",
    "df['Streaming Music'].value_counts(dropna=False)"
   ]
  },
  {
   "cell_type": "markdown",
   "metadata": {
    "id": "2gokAS9rnOyk"
   },
   "source": [
    "**Observation**:\n",
    "\n",
    "* The majority do not have a music streaming service across 14 months."
   ]
  },
  {
   "cell_type": "markdown",
   "metadata": {
    "id": "W_EsVO7OnOyl"
   },
   "source": [
    "### **Streaming Data Consumption**"
   ]
  },
  {
   "cell_type": "code",
   "execution_count": null,
   "metadata": {
    "colab": {
     "base_uri": "https://localhost:8080/"
    },
    "id": "I8Pzp1s5nOyl",
    "outputId": "244cef74-d8d9-4884-e074-fa74099b875a"
   },
   "outputs": [],
   "source": [
    "# Check statistics\n",
    "df['Streaming Data Consumption'].describe()"
   ]
  },
  {
   "cell_type": "code",
   "execution_count": null,
   "metadata": {
    "colab": {
     "base_uri": "https://localhost:8080/",
     "height": 388
    },
    "id": "wissGUkaHKFz",
    "outputId": "4874e993-ee6f-4cc4-8b54-f5dcc27590af"
   },
   "outputs": [],
   "source": [
    "# Plot\n",
    "plt.figure(figsize=(10,6))\n",
    "sns.distplot(df['Streaming Data Consumption'])\n",
    "plt.xlabel('Streaming Data Consumption')\n",
    "plt.ylabel('Frequency')\n",
    "plt.show()"
   ]
  },
  {
   "cell_type": "code",
   "execution_count": null,
   "metadata": {
    "colab": {
     "base_uri": "https://localhost:8080/"
    },
    "id": "aS4txyE1HKFz",
    "outputId": "0ec9abbf-64b8-49fc-a295-b966f67ba2c6"
   },
   "outputs": [],
   "source": [
    "# check null values\n",
    "df['Streaming Data Consumption'].isna().sum()"
   ]
  },
  {
   "cell_type": "markdown",
   "metadata": {
    "id": "1L_S5njAnOyl"
   },
   "source": [
    "**Observation**:\n",
    "\n",
    "* The minimum value is 0 GB, indicating that some customers did not consume any streaming data during the month, while the maximum value is 85 GB.\n",
    "\n",
    "* The highly right skewed distribution of streaming consumption data indicates that a small proportion of customers are consuming a disproportionately large amount of streaming data. \n",
    "\n",
    "* From a business perspective, this information could be used to tailor marketing and pricing strategies to target heavy streaming users and to offer them plans that meet their needs. \n",
    "\n",
    "* We can further explore how streaming data consumption relates to other columns such as \"Streaming Movies\" or \"Streaming TV\" to gain additional insights into customer behavior and preferences with respect to churn value and satisfaction score.\n",
    "\n",
    "* There are no null values in the column."
   ]
  },
  {
   "cell_type": "markdown",
   "metadata": {
    "id": "ZMGvK9f3nOyl"
   },
   "source": [
    "### **Online Security**"
   ]
  },
  {
   "cell_type": "code",
   "execution_count": null,
   "metadata": {
    "colab": {
     "base_uri": "https://localhost:8080/"
    },
    "id": "INL5Wae8HKFz",
    "outputId": "27696d85-1728-4045-aa46-ee21e2cca05f"
   },
   "outputs": [],
   "source": [
    "# Check the counts of Online Security column\n",
    "df['Online Security'].value_counts(dropna=False)"
   ]
  },
  {
   "cell_type": "markdown",
   "metadata": {
    "id": "OeUQn20BnOyl"
   },
   "source": [
    "**Observation**:\n",
    "\n",
    "* The majority of customers did not have Online Security through the months."
   ]
  },
  {
   "cell_type": "markdown",
   "metadata": {
    "id": "bwMNv9K_nOym"
   },
   "source": [
    "### **Online Backup**"
   ]
  },
  {
   "cell_type": "code",
   "execution_count": null,
   "metadata": {
    "colab": {
     "base_uri": "https://localhost:8080/"
    },
    "id": "UwQt6FZjHKFz",
    "outputId": "1ffb3a76-e917-449e-837b-6cc96e181119"
   },
   "outputs": [],
   "source": [
    "# Check the counts of Online Backup Column\n",
    "df['Online Backup'].value_counts(dropna=False)"
   ]
  },
  {
   "cell_type": "markdown",
   "metadata": {
    "id": "Hccu8y_RnOym"
   },
   "source": [
    "**Observation**:\n",
    "\n",
    "* The majority of customers did not have Online Backup through the months."
   ]
  },
  {
   "cell_type": "markdown",
   "metadata": {
    "id": "AoYogQQgnOym"
   },
   "source": [
    "### **Device Protection Plan**"
   ]
  },
  {
   "cell_type": "code",
   "execution_count": null,
   "metadata": {
    "colab": {
     "base_uri": "https://localhost:8080/"
    },
    "id": "Kqq4ht4_HKFz",
    "outputId": "82c7a52e-d5f7-4e06-bb50-b205883bbc32"
   },
   "outputs": [],
   "source": [
    "# Count the number of unique values in the column\n",
    "df['Device Protection Plan'].value_counts(dropna=False)"
   ]
  },
  {
   "cell_type": "markdown",
   "metadata": {
    "id": "vLo2etfpnOym"
   },
   "source": [
    "**Observation**:\n",
    "\n",
    "* The distribution is similar through the months."
   ]
  },
  {
   "cell_type": "markdown",
   "metadata": {
    "id": "Pt2OlePknOym"
   },
   "source": [
    "### **Premium Tech Support**"
   ]
  },
  {
   "cell_type": "code",
   "execution_count": null,
   "metadata": {
    "colab": {
     "base_uri": "https://localhost:8080/"
    },
    "id": "abooIvo0HKF0",
    "outputId": "b3b4ea95-21d7-4708-989d-5b3182ad37cb"
   },
   "outputs": [],
   "source": [
    "# Count the unique values of Premium Tech Support\n",
    "df['Premium Tech Support'].value_counts(dropna=False)"
   ]
  },
  {
   "cell_type": "markdown",
   "metadata": {
    "id": "nHTnTYeXnOym"
   },
   "source": [
    "**Observation**:\n",
    "\n",
    "* The majority of customers did not have Premium Tech Support through the months."
   ]
  },
  {
   "cell_type": "markdown",
   "metadata": {
    "id": "1sfIgPcTnOym"
   },
   "source": [
    "### **Payment Method**"
   ]
  },
  {
   "cell_type": "code",
   "execution_count": null,
   "metadata": {
    "colab": {
     "base_uri": "https://localhost:8080/"
    },
    "id": "Sf0iw9N9HKF0",
    "outputId": "6b537c23-483d-4805-c045-dde3b728ae84"
   },
   "outputs": [],
   "source": [
    "# Count the unique values of payment method\n",
    "df['Payment Method'].value_counts(dropna=False)"
   ]
  },
  {
   "cell_type": "markdown",
   "metadata": {
    "id": "9gs7HlW7HKF0"
   },
   "source": [
    "**Observation**:\n",
    "\n",
    "* Bank withdrawal is the most popular payment method among customers.\n",
    "\n",
    "* There is a significant difference in the number of customers using bank withdrawal compared to credit card or wallet balance."
   ]
  },
  {
   "cell_type": "markdown",
   "metadata": {
    "id": "_gNcgmD-nOyn"
   },
   "source": [
    "### **Status ID**"
   ]
  },
  {
   "cell_type": "code",
   "execution_count": null,
   "metadata": {
    "colab": {
     "base_uri": "https://localhost:8080/"
    },
    "id": "ETx6O-nsHKF0",
    "outputId": "ecb7bdd4-5259-42b0-de3d-7e6408647941"
   },
   "outputs": [],
   "source": [
    "# Total null values in Status ID\n",
    "df['Status ID'].isna().sum()"
   ]
  },
  {
   "cell_type": "code",
   "execution_count": null,
   "metadata": {
    "colab": {
     "base_uri": "https://localhost:8080/"
    },
    "id": "br5i6vvaHKF0",
    "outputId": "ff65af4e-b0f5-464d-e6bf-c176dfcbad32"
   },
   "outputs": [],
   "source": [
    "# Number of Unique Status IDs\n",
    "df['Status ID'].nunique()"
   ]
  },
  {
   "cell_type": "markdown",
   "metadata": {
    "id": "hn8wlgMAHKF0"
   },
   "source": [
    "Each payment made by a consumer has a unique status Id."
   ]
  },
  {
   "cell_type": "markdown",
   "metadata": {
    "id": "sHNdsh_9nOyo"
   },
   "source": [
    "### **Customer Satisfaction Score**"
   ]
  },
  {
   "cell_type": "code",
   "execution_count": null,
   "metadata": {
    "colab": {
     "base_uri": "https://localhost:8080/"
    },
    "id": "nKBkFJrcHKF0",
    "outputId": "ec7ea6c4-9b43-464f-95ad-a6bc2139ae80"
   },
   "outputs": [],
   "source": [
    "# # Count the values each satisfaction score\n",
    "df['Satisfaction Score'].value_counts(dropna=False)"
   ]
  },
  {
   "cell_type": "markdown",
   "metadata": {
    "id": "dEuGYewknOyo"
   },
   "source": [
    "**Observation**:\n",
    "\n",
    "* Most of the customers have rated their satisfaction with a score of 3.\n",
    "\n",
    "* A significant number of customers have rated their satisfaction with scores of 1 and 2.\n",
    "\n",
    "* The satisfaction score is an important metric to measure customer satisfaction and loyalty.\n",
    "\n",
    "* It is important to investigate why a significant number of customers have rated their satisfaction with lower scores, i.e., 1 and 2.\n",
    "\n",
    "* Based on the insights obtained from other columns, such as the service type, internet type, and device protection plan, we can analyze whether there is a correlation between these variables and customer satisfaction."
   ]
  },
  {
   "cell_type": "markdown",
   "metadata": {
    "id": "o3qRjt9-nOyo"
   },
   "source": [
    "### **Churn Category**"
   ]
  },
  {
   "cell_type": "code",
   "execution_count": null,
   "metadata": {
    "colab": {
     "base_uri": "https://localhost:8080/"
    },
    "id": "IT2vtRYCHKF0",
    "outputId": "1e0d4965-9bcb-484b-c341-46121ef76f99"
   },
   "outputs": [],
   "source": [
    "# Count the values of different churn categories\n",
    "df['Churn Category'].value_counts(dropna=False)"
   ]
  },
  {
   "cell_type": "markdown",
   "metadata": {
    "id": "_eOWwsuQHKF0"
   },
   "source": [
    "**Observation**:\n",
    "\n",
    "* The \"Churn Category\" column has a high percentage of missing values, with NaN accounting for the majority of the values.\n",
    "\n",
    "* Let's investigate the null values."
   ]
  },
  {
   "cell_type": "code",
   "execution_count": null,
   "metadata": {
    "colab": {
     "base_uri": "https://localhost:8080/"
    },
    "id": "-a62ZIyJHKF1",
    "outputId": "eb949396-da09-45d1-c115-7f4752495f58"
   },
   "outputs": [],
   "source": [
    "# Let's see the churn value for all those observations where churn category is null\n",
    "df[df['Churn Category'].isna()]['Churn Value'].value_counts(dropna=False)"
   ]
  },
  {
   "cell_type": "markdown",
   "metadata": {
    "id": "Zn3vOWpwHKF1"
   },
   "source": [
    "Hence, if a customer is not churned, we can simply mark it as not applicable and mark others as unknown."
   ]
  },
  {
   "cell_type": "code",
   "execution_count": null,
   "metadata": {
    "id": "UWiAqZxuHKF1"
   },
   "outputs": [],
   "source": [
    "# Filling null values of churn category as not applicatable where customers did not churn\n",
    "df.loc[(df['Churn Category'].isna())&(df['Churn Value']==0),'Churn Category']='Not Applicable'"
   ]
  },
  {
   "cell_type": "code",
   "execution_count": null,
   "metadata": {
    "id": "mHHxGU4-HKF1"
   },
   "outputs": [],
   "source": [
    "# Filling the churn category as Unknown where churn value was 1\n",
    "checkpoint('fcTel1')\n",
    "df.loc[(df['Churn Category'].isna())&(df['Churn Value']==1),'Churn Category']='Unknown'"
   ]
  },
  {
   "cell_type": "code",
   "execution_count": null,
   "metadata": {
    "colab": {
     "base_uri": "https://localhost:8080/"
    },
    "id": "NcoKq8SdHKF1",
    "outputId": "8cf59cb8-82bf-4232-a590-a49ee648419b"
   },
   "outputs": [],
   "source": [
    "# Check the counts again\n",
    "df['Churn Category'].value_counts(dropna=False)"
   ]
  },
  {
   "cell_type": "markdown",
   "metadata": {
    "id": "uGyBj5YHnOyq"
   },
   "source": [
    "### **Churn Reason**"
   ]
  },
  {
   "cell_type": "code",
   "execution_count": null,
   "metadata": {
    "colab": {
     "base_uri": "https://localhost:8080/"
    },
    "id": "z1aD-A_6HKF1",
    "outputId": "7243954e-8bf7-4628-87d2-a90ea9624e74"
   },
   "outputs": [],
   "source": [
    "# Count the values of different churn reasons\n",
    "df['Churn Reason'].value_counts(dropna=False)"
   ]
  },
  {
   "cell_type": "markdown",
   "metadata": {
    "id": "J7KvuU0enOyq"
   },
   "source": [
    "**Observation**:\n",
    "\n",
    "* The \"Churn Reason\" column has a high percentage of missing values.\n",
    "\n",
    "* Let's investigate the null values."
   ]
  },
  {
   "cell_type": "markdown",
   "metadata": {
    "id": "xUgdmWbYHKF1"
   },
   "source": [
    "There are some null and absurd values in the churn reason column."
   ]
  },
  {
   "cell_type": "code",
   "execution_count": null,
   "metadata": {
    "colab": {
     "base_uri": "https://localhost:8080/"
    },
    "id": "-35sE_4RHKF1",
    "outputId": "ffdd48ef-3704-4f47-a5aa-4bbdbd0965f7"
   },
   "outputs": [],
   "source": [
    "# Count of null churn reasons and their churn value\n",
    "df[(df['Churn Reason'].isna())]['Churn Value'].value_counts(dropna=False)"
   ]
  },
  {
   "cell_type": "markdown",
   "metadata": {
    "id": "qsKYFlTPHKF1"
   },
   "source": [
    "Anytime a customer is not churned, we can simply mark it as not applicable and mark others as unknown."
   ]
  },
  {
   "cell_type": "code",
   "execution_count": null,
   "metadata": {
    "id": "zjK4r5AyHKF1"
   },
   "outputs": [],
   "source": [
    "# Filling the churn reason as not applicable where churn value was 0\n",
    "df.loc[(df['Churn Reason'].isna())&(df['Churn Value']==0),'Churn Reason']='Not Applicable'"
   ]
  },
  {
   "cell_type": "code",
   "execution_count": null,
   "metadata": {
    "id": "XRGPBEijHKF1"
   },
   "outputs": [],
   "source": [
    "# Filling the churn reason as Unknown where churn value was 1\n",
    "df.loc[(df['Churn Reason'].isna())&(df['Churn Value']==1),'Churn Reason']='Unknown'"
   ]
  },
  {
   "cell_type": "code",
   "execution_count": null,
   "metadata": {
    "colab": {
     "base_uri": "https://localhost:8080/"
    },
    "id": "WBuULFeVHKF1",
    "outputId": "a829293c-e33f-41f5-b382-b50d5aae4d64"
   },
   "outputs": [],
   "source": [
    "# Check the value counts in the Churn Reason again\n",
    "df['Churn Reason'].value_counts(dropna=False)"
   ]
  },
  {
   "cell_type": "markdown",
   "metadata": {
    "id": "zBPoJTUTnOyr"
   },
   "source": [
    "### **Customer Status**"
   ]
  },
  {
   "cell_type": "code",
   "execution_count": null,
   "metadata": {
    "colab": {
     "base_uri": "https://localhost:8080/"
    },
    "id": "_wsIz78ZHKF2",
    "outputId": "aa58a1e6-b1e7-4114-844d-a781f4fcd7e9"
   },
   "outputs": [],
   "source": [
    "# Check the unique values \n",
    "df['Customer Status'].unique()"
   ]
  },
  {
   "cell_type": "code",
   "execution_count": null,
   "metadata": {
    "colab": {
     "base_uri": "https://localhost:8080/"
    },
    "id": "z-bbzqUqHKF2",
    "outputId": "022b4027-a528-434d-ef8a-5a2935d7698e"
   },
   "outputs": [],
   "source": [
    "# Check customer status and churn values together \n",
    "df[['Customer Status','Churn Value']].value_counts(dropna=False)"
   ]
  },
  {
   "cell_type": "markdown",
   "metadata": {
    "id": "2hhbY_eRHKF2"
   },
   "source": [
    "Everything seems good here!"
   ]
  },
  {
   "cell_type": "markdown",
   "metadata": {
    "id": "WkffwHmrnOyr"
   },
   "source": [
    "### **Customer Call Usage Analysis**"
   ]
  },
  {
   "cell_type": "code",
   "execution_count": null,
   "metadata": {
    "colab": {
     "base_uri": "https://localhost:8080/"
    },
    "id": "z8ntAUirHKF2",
    "outputId": "eddcec75-d890-4435-9596-82605718a230"
   },
   "outputs": [],
   "source": [
    "# All columns\n",
    "df.columns"
   ]
  },
  {
   "cell_type": "code",
   "execution_count": null,
   "metadata": {
    "id": "LBXNMHAVHKF2"
   },
   "outputs": [],
   "source": [
    "# Setting customer id and month as index\n",
    "df=df.set_index(['Customer ID','Month'])"
   ]
  },
  {
   "cell_type": "code",
   "execution_count": null,
   "metadata": {
    "id": "5HdJ2PtdHKF2"
   },
   "outputs": [],
   "source": [
    "# Selecting specific columns to check the customer call usage\n",
    "df_call_usage=df[['Month of Joining','roam_ic', 'roam_og', 'loc_og_t2t',\n",
    "       'loc_og_t2m', 'loc_og_t2f', 'loc_og_t2c', 'std_og_t2t', 'std_og_t2m',\n",
    "       'std_og_t2f', 'std_og_t2c', 'isd_og', 'spl_og', 'og_others',\n",
    "       'loc_ic_t2t', 'loc_ic_t2m', 'loc_ic_t2f', 'std_ic_t2t', 'std_ic_t2m',\n",
    "       'std_ic_t2f', 'std_ic_t2o', 'spl_ic', 'isd_ic', 'ic_others',\n",
    "       'total_rech_amt','Phone Service']]"
   ]
  },
  {
   "cell_type": "code",
   "execution_count": null,
   "metadata": {
    "colab": {
     "base_uri": "https://localhost:8080/",
     "height": 273
    },
    "id": "o5xQBGQGHKF2",
    "outputId": "ea78c8e5-664b-40a0-a01c-326d31929e71"
   },
   "outputs": [],
   "source": [
    "# Top three rows\n",
    "df_call_usage.head(3)"
   ]
  },
  {
   "cell_type": "code",
   "execution_count": null,
   "metadata": {
    "colab": {
     "base_uri": "https://localhost:8080/",
     "height": 381
    },
    "id": "IXzT-YxUHKF2",
    "outputId": "fea1770c-4fa0-447b-c2e4-501e2f893681"
   },
   "outputs": [],
   "source": [
    "# There are a lot of null values \n",
    "df_call_usage.describe()"
   ]
  },
  {
   "cell_type": "markdown",
   "metadata": {
    "id": "ClN7FQLAHKF2"
   },
   "source": [
    "**Observations**:\n",
    "\n",
    "* 'roam_ic', 'roam_og', 'loc_og_t2t','loc_og_t2m', 'loc_og_t2f', 'loc_og_t2c', 'std_og_t2t', 'std_og_t2m','std_og_t2f', 'std_og_t2c', 'isd_og', 'spl_og', 'og_others' columns have max value as\n",
    "8.787978e+06. \n",
    "\n",
    "* Some columns seem to have null values.\n",
    "\n",
    "* The column total_rech_amt and Phone Service are missing from this table."
   ]
  },
  {
   "cell_type": "code",
   "execution_count": null,
   "metadata": {
    "colab": {
     "base_uri": "https://localhost:8080/"
    },
    "id": "Rfnn2U7jHKF2",
    "outputId": "f7db04f1-73af-4bf5-e878-2f39a2121d2b"
   },
   "outputs": [],
   "source": [
    "# Let's check how many null values are present where calling plan is there\n",
    "df_call_usage[df_call_usage['Phone Service']=='Yes'].isna().sum()"
   ]
  },
  {
   "cell_type": "code",
   "execution_count": null,
   "metadata": {
    "colab": {
     "base_uri": "https://localhost:8080/"
    },
    "id": "3OuMM5zkHKF3",
    "outputId": "9780f8af-517a-41fa-f674-3cfc0a76699d"
   },
   "outputs": [],
   "source": [
    "# Lets check how many % values are missing\n",
    "df_call_usage[df_call_usage['Phone Service']=='Yes'].isna().sum()/df_call_usage.shape[0]"
   ]
  },
  {
   "cell_type": "code",
   "execution_count": null,
   "metadata": {
    "colab": {
     "base_uri": "https://localhost:8080/"
    },
    "id": "cmOSvIJJHKF3",
    "outputId": "791d742a-a3a9-4763-bdde-bbc5ad1de03b"
   },
   "outputs": [],
   "source": [
    "#lets check how many null values are present where calling plan is not there\n",
    "df_call_usage[df_call_usage['Phone Service']=='No'].isna().sum()"
   ]
  },
  {
   "cell_type": "code",
   "execution_count": null,
   "metadata": {
    "colab": {
     "base_uri": "https://localhost:8080/"
    },
    "id": "XMEnRkjoHKF3",
    "outputId": "7f8f3e19-f758-4580-eddf-ab3d7ae1d53e"
   },
   "outputs": [],
   "source": [
    "# Lets check how many % values are missing\n",
    "df_call_usage[df_call_usage['Phone Service']=='No'].isna().sum()/df_call_usage.shape[0]"
   ]
  },
  {
   "cell_type": "markdown",
   "metadata": {
    "id": "NyCET11DHKF3"
   },
   "source": [
    "We will impute all these values later!"
   ]
  },
  {
   "cell_type": "code",
   "execution_count": null,
   "metadata": {
    "colab": {
     "base_uri": "https://localhost:8080/"
    },
    "id": "5jQg2EpUHKF3",
    "outputId": "0b56c0da-8b69-455f-ec35-8b2e2ad5f405"
   },
   "outputs": [],
   "source": [
    "# lets find datatypes of all the columns\n",
    "df_call_usage.dtypes"
   ]
  },
  {
   "cell_type": "markdown",
   "metadata": {
    "id": "4pC4FKvTHKF3"
   },
   "source": [
    "Observe that `total_rech_amt` is object but according to data dictionary it is a float."
   ]
  },
  {
   "cell_type": "code",
   "execution_count": null,
   "metadata": {
    "colab": {
     "base_uri": "https://localhost:8080/"
    },
    "id": "vpSjqZVEHKF3",
    "outputId": "0ad49e7b-65d1-4ad4-d85f-477e89fccf4c"
   },
   "outputs": [],
   "source": [
    "# There are 124570 rows containg no calling plan\n",
    "df_call_usage['Phone Service'].value_counts()"
   ]
  },
  {
   "cell_type": "code",
   "execution_count": null,
   "metadata": {
    "colab": {
     "base_uri": "https://localhost:8080/"
    },
    "id": "1qK2EEmlHKF3",
    "outputId": "f53e8d24-5cc8-445f-8a9c-20fd5f4c5db4"
   },
   "outputs": [],
   "source": [
    "# Counts of unique values in total rech amount\n",
    "df_call_usage['total_rech_amt'].value_counts()"
   ]
  },
  {
   "cell_type": "code",
   "execution_count": null,
   "metadata": {
    "id": "-Dn9fYnyHKF3"
   },
   "outputs": [],
   "source": [
    "# Replace the invalid value\n",
    "df_call_usage.loc[df['total_rech_amt']=='e01','total_rech_amt']=10"
   ]
  },
  {
   "cell_type": "markdown",
   "metadata": {
    "id": "tl9GUjTuHKF4"
   },
   "source": [
    "Let's now change the column to a numeric datatype."
   ]
  },
  {
   "cell_type": "code",
   "execution_count": null,
   "metadata": {
    "id": "EWgDh5ddHKF4"
   },
   "outputs": [],
   "source": [
    "# Changing the column back to numeric data type\n",
    "df_call_usage['total_rech_amt']=pd.to_numeric(df_call_usage['total_rech_amt'])"
   ]
  },
  {
   "cell_type": "code",
   "execution_count": null,
   "metadata": {
    "colab": {
     "base_uri": "https://localhost:8080/",
     "height": 404
    },
    "id": "Vn6eNDisHKF4",
    "outputId": "668d78a8-cf89-4ab4-d540-c02b10729ca6"
   },
   "outputs": [],
   "source": [
    "# Plot the the distribution using Box plot\n",
    "plt.figure(figsize=(10,6))\n",
    "sns.boxplot(df_call_usage['total_rech_amt'])\n",
    "plt.title(\"The Distribution of Total Recharge Amount\")\n",
    "plt.xlabel(\"Total Recharge Amount\")\n",
    "plt.show()"
   ]
  },
  {
   "cell_type": "markdown",
   "metadata": {
    "id": "4qb1ESV6HKF4"
   },
   "source": [
    "It is worth noting that there are certain customers around 100,000.\n",
    "Let's see how many of these customers there are."
   ]
  },
  {
   "cell_type": "code",
   "execution_count": null,
   "metadata": {
    "colab": {
     "base_uri": "https://localhost:8080/"
    },
    "id": "WOiKOg9UHKF4",
    "outputId": "529d5a7b-301e-4888-ad62-350dae858c17"
   },
   "outputs": [],
   "source": [
    "# Check the quantiles\n",
    "df_call_usage['total_rech_amt'].quantile([0.1, 0.5,0.75 ,0.9,0.97,0.99,0.999])"
   ]
  },
  {
   "cell_type": "markdown",
   "metadata": {
    "id": "N02qJyKmHKF4"
   },
   "source": [
    "Observe that for 0.990 percentile the value is greater 11875. Let's check how many customer are there with more recharge amount."
   ]
  },
  {
   "cell_type": "code",
   "execution_count": null,
   "metadata": {
    "colab": {
     "base_uri": "https://localhost:8080/",
     "height": 553
    },
    "id": "FF0E7bccHKF4",
    "outputId": "f75f4db6-4f71-4f54-baad-81e784b46052"
   },
   "outputs": [],
   "source": [
    "# Filter the dataframe\n",
    "df_call_usage[df_call_usage['total_rech_amt']>11875.0]"
   ]
  },
  {
   "cell_type": "markdown",
   "metadata": {
    "id": "3e9yA9gxHKF4"
   },
   "source": [
    "Notice that the majority of these values are present when phone service is not selected; let us see if all of the values follow the same pattern or not."
   ]
  },
  {
   "cell_type": "code",
   "execution_count": null,
   "metadata": {
    "colab": {
     "base_uri": "https://localhost:8080/"
    },
    "id": "cRWJ0g7oHKF4",
    "outputId": "8fa580d0-8aec-4273-8a2f-cb6e1e6fdfd1"
   },
   "outputs": [],
   "source": [
    "# Check the value counts where phone service is no\n",
    "df_call_usage[df_call_usage['Phone Service']=='No']['total_rech_amt'].value_counts()"
   ]
  },
  {
   "cell_type": "markdown",
   "metadata": {
    "id": "AJG32w1dHKF4"
   },
   "source": [
    "**Observations**:\n",
    "\n",
    "* The values 98769 and 0.1 in the distribution seem to be outliers or random values that need further investigation.\n",
    "\n",
    "* It is recommended to replace the value 98769 with 0 as it seems to be an incorrect data entry.\n",
    "\n",
    "* The value 0.1 could also be an incorrect data entry or an outlier that needs further investigation.\n",
    "\n",
    "* It is possible that the values 989 and 10 in the distribution could be actual recharge amounts.\n",
    "\n",
    "* It is also possible that for these values, the customers have opted for Phone Service but there was a mistake in data entry. Further investigation is needed to confirm this."
   ]
  },
  {
   "cell_type": "code",
   "execution_count": null,
   "metadata": {
    "colab": {
     "base_uri": "https://localhost:8080/",
     "height": 197
    },
    "id": "Ai9B-QLJHKF4",
    "outputId": "ffa9ccfe-deb6-48d7-91a9-843b59fae264"
   },
   "outputs": [],
   "source": [
    "# Filter the customers who have phone service and outlier values as well\n",
    "df_call_usage[(df_call_usage['Phone Service']=='Yes')&(df_call_usage['total_rech_amt'].isin([0.1,98769]))]"
   ]
  },
  {
   "cell_type": "markdown",
   "metadata": {
    "id": "hU4ZTbTYHKF5"
   },
   "source": [
    "There are no customers who recharged with 0.1 or 98769 and chose phone service.\n",
    "We shall now replace those with 0's."
   ]
  },
  {
   "cell_type": "code",
   "execution_count": null,
   "metadata": {
    "id": "3IDwVirWHKF5"
   },
   "outputs": [],
   "source": [
    "# Replace values with 0\n",
    "df_call_usage['total_rech_amt']=df_call_usage['total_rech_amt'].replace([0.1,98769],0)"
   ]
  },
  {
   "cell_type": "code",
   "execution_count": null,
   "metadata": {
    "colab": {
     "base_uri": "https://localhost:8080/"
    },
    "id": "74lDS-6FHKF5",
    "outputId": "1dcb731d-73f1-4028-a9c5-86201c3a35d5"
   },
   "outputs": [],
   "source": [
    "# Check the counts again for phone service = no\n",
    "df_call_usage[df_call_usage['Phone Service']=='No']['total_rech_amt'].value_counts()"
   ]
  },
  {
   "cell_type": "markdown",
   "metadata": {
    "id": "2svtEgQxHKF5"
   },
   "source": [
    "Let's look at the quantiles for all of the outgoing call utilisation columns."
   ]
  },
  {
   "cell_type": "code",
   "execution_count": null,
   "metadata": {
    "id": "-lgqkmK9HKF5"
   },
   "outputs": [],
   "source": [
    "# Specifying the calling columns\n",
    "outgoing_call_col=['roam_og', 'loc_og_t2t','loc_og_t2m', 'loc_og_t2f', 'loc_og_t2c', 'std_og_t2t', 'std_og_t2m',\n",
    "                    'std_og_t2f', 'std_og_t2c', 'isd_og', 'spl_og', 'og_others']"
   ]
  },
  {
   "cell_type": "code",
   "execution_count": null,
   "metadata": {
    "colab": {
     "base_uri": "https://localhost:8080/",
     "height": 206
    },
    "id": "fRk8Oq57HKF5",
    "outputId": "9d6619f1-d594-4b2d-f1f0-62b8405e7c56"
   },
   "outputs": [],
   "source": [
    "# Call Usage for customers with no phone service and high recharge amount\n",
    "df_call_usage[(df_call_usage['Phone Service']=='No')&(df_call_usage['total_rech_amt'].isin([989,10]))][outgoing_call_col].apply(lambda col: col.unique())"
   ]
  },
  {
   "cell_type": "markdown",
   "metadata": {
    "id": "YNpo2FkqHKF5"
   },
   "source": [
    "**Observations**:\n",
    "\n",
    "* It is noticeable that the values are restricted to a few options including 0, 45, 46254, 8787978, and 68. \n",
    "\n",
    "* These values seem to have some relation with the recharge amount. However, it is evident that these values are unlikely to be actual data and are likely due to data entry errors.\n",
    "\n",
    "* In a real-life scenario, it would be advisable to investigate these values with the business to ensure accuracy. \n",
    "\n",
    "* However, for the purpose of this analysis, we can assume that these values are erroneous and proceed to replace all corresponding recharge amounts with 0."
   ]
  },
  {
   "cell_type": "markdown",
   "metadata": {
    "id": "fubgjon0HKF5"
   },
   "source": [
    "Before we replace the values, let's see if this recharge amount exists when Phone Service is selected."
   ]
  },
  {
   "cell_type": "code",
   "execution_count": null,
   "metadata": {
    "colab": {
     "base_uri": "https://localhost:8080/",
     "height": 553
    },
    "id": "BQXzPZBMHKF5",
    "outputId": "314907af-5f13-455b-c7ee-9ac0b0e2724e",
    "scrolled": true
   },
   "outputs": [],
   "source": [
    "# Filter the values where phone service is yes and recharge amt is in 10 or 989\n",
    "df_call_usage[(df_call_usage['Phone Service']=='Yes')&(df_call_usage['total_rech_amt'].isin([10,989]))]"
   ]
  },
  {
   "cell_type": "code",
   "execution_count": null,
   "metadata": {
    "id": "6_bUCjwGHKF6"
   },
   "outputs": [],
   "source": [
    "# Replacing all recharge amounts =0 where there is no phone service\n",
    "df_call_usage.loc[df_call_usage['Phone Service']=='No','total_rech_amt']=0"
   ]
  },
  {
   "cell_type": "markdown",
   "metadata": {
    "id": "7TWjZMAbHKF6"
   },
   "source": [
    "Now that we've replaced all of the anomalies with 0, let's look at the graph for all of the data again."
   ]
  },
  {
   "cell_type": "code",
   "execution_count": null,
   "metadata": {
    "colab": {
     "base_uri": "https://localhost:8080/",
     "height": 404
    },
    "id": "UHIDbygcHKF6",
    "outputId": "d39d9e96-65af-42d3-db1b-007ba38d2799"
   },
   "outputs": [],
   "source": [
    "# Plot the the distribution using Box plot\n",
    "plt.figure(figsize=(10,6))\n",
    "sns.boxplot(df_call_usage['total_rech_amt'])\n",
    "plt.title(\"The Distribution of Total Recharge Amount\")\n",
    "plt.xlabel(\"Total Recharge Amount\")\n",
    "plt.show()"
   ]
  },
  {
   "cell_type": "code",
   "execution_count": null,
   "metadata": {
    "colab": {
     "base_uri": "https://localhost:8080/"
    },
    "id": "WmnlWRf0HKF6",
    "outputId": "087fa330-4054-48e3-e911-6f60d17f94f1"
   },
   "outputs": [],
   "source": [
    "# Shape of the dataframe for recharge amount > 10000\n",
    "df_call_usage[df_call_usage['total_rech_amt']>10000].shape"
   ]
  },
  {
   "cell_type": "markdown",
   "metadata": {
    "id": "7vxcD8k4HKF6"
   },
   "source": [
    "**Observation**:\n",
    "\n",
    "* From our previous analysis, we found that more than 25% of customers have a total recharge amount above 1158. Hence, it is not feasible to replace these values. It is possible that these customers have actually made such a high recharge.\n",
    "\n",
    "* Regarding the customers with a recharge amount of 11875, it is worth checking their usage to verify whether this amount is valid or not."
   ]
  },
  {
   "cell_type": "markdown",
   "metadata": {
    "id": "ETPxbq4lnOyy"
   },
   "source": [
    "### **Outgoing Calls Analysis**"
   ]
  },
  {
   "cell_type": "code",
   "execution_count": null,
   "metadata": {
    "id": "3MQDmeHyHKF7"
   },
   "outputs": [],
   "source": [
    "# Analyze customers with and without phone service separatelly\n",
    "df_call_usage_phone_no=df_call_usage[df_call_usage['Phone Service']=='No']\n",
    "df_call_usage_phone_yes=df_call_usage[df_call_usage['Phone Service']=='Yes']"
   ]
  },
  {
   "cell_type": "code",
   "execution_count": null,
   "metadata": {
    "colab": {
     "base_uri": "https://localhost:8080/"
    },
    "id": "uOYI9H74HKF7",
    "outputId": "365e4be4-383c-4666-99d7-c9e248b6026a"
   },
   "outputs": [],
   "source": [
    "# Columns\n",
    "df_call_usage_phone_no.columns"
   ]
  },
  {
   "cell_type": "code",
   "execution_count": null,
   "metadata": {
    "colab": {
     "base_uri": "https://localhost:8080/"
    },
    "id": "7uq5s-IqHKF7",
    "outputId": "976e1252-682e-4ea5-b07a-75f6b58e82dd"
   },
   "outputs": [],
   "source": [
    "# Roaming Outgoing Value Counts\n",
    "df_call_usage_phone_no['roam_og'].value_counts()"
   ]
  },
  {
   "cell_type": "markdown",
   "metadata": {
    "id": "yD2B-VTvHKF7"
   },
   "source": [
    "**Observations**:\n",
    "\n",
    "* Take note that the figures 8787978 and 46254 are abnormal. It is not possible for a person to make so many outbound calls in a month.\n",
    "\n",
    "* 46254 minutes is approximately 32 days, which is more than a month.\n",
    "\n",
    "* As a result, we will replace both values with 0."
   ]
  },
  {
   "cell_type": "code",
   "execution_count": null,
   "metadata": {
    "id": "JUzrWfQ9HKF8"
   },
   "outputs": [],
   "source": [
    "# Replacing these values\n",
    "df_call_usage_phone_no['roam_og']=df_call_usage_phone_no['roam_og'].replace([46254,8787978],0)"
   ]
  },
  {
   "cell_type": "code",
   "execution_count": null,
   "metadata": {
    "colab": {
     "base_uri": "https://localhost:8080/"
    },
    "id": "4Fzo4OdCHKF8",
    "outputId": "9af70de5-b87e-4fb8-d29a-5641d472c710"
   },
   "outputs": [],
   "source": [
    "# Checking the roaming outgoing value counts\n",
    "df_call_usage_phone_no['roam_og'].value_counts()"
   ]
  },
  {
   "cell_type": "code",
   "execution_count": null,
   "metadata": {
    "colab": {
     "base_uri": "https://localhost:8080/"
    },
    "id": "Cq_dbVGuHKF8",
    "outputId": "ff061c1c-790d-4576-a773-9e37e83958d0"
   },
   "outputs": [],
   "source": [
    "# Check where the recharge amount is 0 but we have roaming calls\n",
    "df_call_usage_phone_no[df_call_usage_phone_no['total_rech_amt']==0]['roam_og'].value_counts()"
   ]
  },
  {
   "cell_type": "markdown",
   "metadata": {
    "id": "KsAMHdqXHKF8"
   },
   "source": [
    "We took all of the customers that did not opt for phone service, and the recharge amount is 0.\n",
    "\n",
    "We will replace all of these values with 0 because they cannot make outbound calls without a recharge and a Phone Service plan."
   ]
  },
  {
   "cell_type": "code",
   "execution_count": null,
   "metadata": {
    "id": "lF6ojzqcHKF8"
   },
   "outputs": [],
   "source": [
    "# Replace the values with 0\n",
    "df_call_usage_phone_no.loc[df_call_usage_phone_no['total_rech_amt']==0,'roam_og']=0"
   ]
  },
  {
   "cell_type": "code",
   "execution_count": null,
   "metadata": {
    "colab": {
     "base_uri": "https://localhost:8080/"
    },
    "id": "MW_unGfpHKF8",
    "outputId": "40ae5cbb-f153-4473-cf96-03332a049bcb"
   },
   "outputs": [],
   "source": [
    "# 0 roaming calls for customers with no phone service\n",
    "df_call_usage_phone_no['roam_og'].value_counts()"
   ]
  },
  {
   "cell_type": "code",
   "execution_count": null,
   "metadata": {
    "colab": {
     "base_uri": "https://localhost:8080/",
     "height": 404
    },
    "id": "V2p90Ou2HKF-",
    "outputId": "9e997d6c-0585-4f6e-960c-85a22d9136ce"
   },
   "outputs": [],
   "source": [
    "# Plot the the distribution using Box plot\n",
    "plt.figure(figsize=(10,6))\n",
    "sns.boxplot(df_call_usage_phone_yes['roam_og'])\n",
    "plt.title(\"The Distribution of Roaming Outgoing Calls for Customers with Phone Service\")\n",
    "plt.xlabel(\"Roaming Outgoing Calls\")\n",
    "plt.show()"
   ]
  },
  {
   "cell_type": "code",
   "execution_count": null,
   "metadata": {
    "colab": {
     "base_uri": "https://localhost:8080/"
    },
    "id": "UG-7mIw0HKF-",
    "outputId": "ee23dc85-36ca-4dc4-ac2c-dae013432cbd"
   },
   "outputs": [],
   "source": [
    "# Check the quantiles\n",
    "df_call_usage_phone_yes['roam_og'].quantile([0.1, 0.5,0.75 ,0.9,0.97,0.99])"
   ]
  },
  {
   "cell_type": "markdown",
   "metadata": {
    "id": "SiGuIuklHKF-"
   },
   "source": [
    "These values seem to valid. We will now determine the amount of the recharge for these customers."
   ]
  },
  {
   "cell_type": "code",
   "execution_count": null,
   "metadata": {
    "colab": {
     "base_uri": "https://localhost:8080/",
     "height": 404
    },
    "id": "PyoOppAaHKF-",
    "outputId": "fab2ea38-6c20-41fb-8cc6-4975648f5f65"
   },
   "outputs": [],
   "source": [
    "# Plot the the distribution using Box plot\n",
    "plt.figure(figsize=(10,6))\n",
    "sns.histplot(data=df_call_usage_phone_yes, x='total_rech_amt', bins=20)\n",
    "plt.title(\"The Distribution of Total Recharge Amount for Customers with Phone Service\")\n",
    "plt.xlabel(\"Total Recharge Amount\")\n",
    "plt.show()"
   ]
  },
  {
   "cell_type": "code",
   "execution_count": null,
   "metadata": {
    "colab": {
     "base_uri": "https://localhost:8080/"
    },
    "id": "xRa7RGlAHKF-",
    "outputId": "08cb89d9-f2fe-4c00-cfd2-5179a3f6c251"
   },
   "outputs": [],
   "source": [
    "# The shape of data where in recharge was 0 for customers with phone service\n",
    "df_call_usage_phone_yes[df_call_usage_phone_yes['total_rech_amt']==0].shape"
   ]
  },
  {
   "cell_type": "markdown",
   "metadata": {
    "id": "rlMVMPv1HKF-"
   },
   "source": [
    "It should be noted that the following customers (262 in total but not all unique) have chosen phone service but there is no recharge amount available."
   ]
  },
  {
   "cell_type": "markdown",
   "metadata": {
    "id": "8_JsbfdRnOy1"
   },
   "source": [
    "#### **Local outgoing calls within same network in minutes**"
   ]
  },
  {
   "cell_type": "code",
   "execution_count": null,
   "metadata": {
    "colab": {
     "base_uri": "https://localhost:8080/"
    },
    "id": "7SdIjKaGHKF-",
    "outputId": "33ded156-2571-4344-86b8-bd10dfce416d"
   },
   "outputs": [],
   "source": [
    "# Check the counts\n",
    "df_call_usage_phone_no['loc_og_t2t'].value_counts()"
   ]
  },
  {
   "cell_type": "markdown",
   "metadata": {
    "id": "EUAZA1EZHKF-"
   },
   "source": [
    "We will replace the values 46254 and 8787978 in all outgoing call columns."
   ]
  },
  {
   "cell_type": "code",
   "execution_count": null,
   "metadata": {
    "id": "RGZqPcLXHKF-"
   },
   "outputs": [],
   "source": [
    "checkpoint('fcTel1')\n",
    "for col in outgoing_call_col:\n",
    "    # for col replace 46254 and 8787978 values with 0\n",
    "    df_call_usage_phone_no[col]=df_call_usage_phone_no[col].replace([46254,8787978],0)\n",
    "    # for col replace the value with 0 when there is no phone service and recharge\n",
    "    df_call_usage_phone_no.loc[df_call_usage_phone_no['total_rech_amt']==0,col]=0"
   ]
  },
  {
   "cell_type": "code",
   "execution_count": null,
   "metadata": {
    "colab": {
     "base_uri": "https://localhost:8080/"
    },
    "id": "wxv6mKfXHKF_",
    "outputId": "57faadb4-d66d-45a2-ec34-759c806807c9"
   },
   "outputs": [],
   "source": [
    "# Value counts for all outgoing call variables for customers with no phone service\n",
    "for col in outgoing_call_col:\n",
    "    print(\"value count for \",col)\n",
    "    print(df_call_usage_phone_no[col].value_counts())\n",
    "    print(\"-------------------------\")"
   ]
  },
  {
   "cell_type": "markdown",
   "metadata": {
    "id": "M3GY-LCNHKF_"
   },
   "source": [
    "**Observations**:\n",
    "\n",
    "* We observed that some customers who did not opt for phone service and have not recharged their account also have not placed any outgoing calls. This makes sense as they are not subscribed to the service and hence cannot make any calls.\n",
    "\n",
    "* To further analyze the outgoing call patterns, we will focus on customers who have opted for phone service."
   ]
  },
  {
   "cell_type": "code",
   "execution_count": null,
   "metadata": {
    "id": "QqSrgfsHHKF_"
   },
   "outputs": [],
   "source": [
    "# Creating quantile df for outgoing calls\n",
    "quantile_outgoing_call_df=pd.DataFrame(columns=outgoing_call_col,index=[0.1,0.25,0.5,0.75,0.8,0.9,0.95,0.97,0.99])"
   ]
  },
  {
   "cell_type": "code",
   "execution_count": null,
   "metadata": {
    "id": "d4cGGg_6HKF_"
   },
   "outputs": [],
   "source": [
    "# Entering data in quantile df\n",
    "for col in outgoing_call_col:\n",
    "   quantile_outgoing_call_df[col]=df_call_usage_phone_yes[col].quantile([0.1,0.25,0.5,0.75,0.8,0.9,0.95,0.97,0.99])"
   ]
  },
  {
   "cell_type": "markdown",
   "metadata": {
    "id": "C7BcQdncHKF_"
   },
   "source": [
    "### **Outgoing call Quantiles for customers with Phone Service**"
   ]
  },
  {
   "cell_type": "code",
   "execution_count": null,
   "metadata": {
    "colab": {
     "base_uri": "https://localhost:8080/",
     "height": 331
    },
    "id": "Nxhf4unFHKF_",
    "outputId": "289acccb-febe-4159-97e5-da1163f874d2"
   },
   "outputs": [],
   "source": [
    "# Quantile df\n",
    "quantile_outgoing_call_df"
   ]
  },
  {
   "cell_type": "markdown",
   "metadata": {
    "id": "SJ9kou2qHKF_"
   },
   "source": [
    "\n",
    "All the values in the outgoing call columns for customers with phone service seem to be appropriate and valid. Therefore, we do not need to make any alterations to these values.\n",
    "\n",
    "Next, we will update the df_call_usage_phone_no and df_call_usage_phone_yes dataframes to the original dataframe."
   ]
  },
  {
   "cell_type": "code",
   "execution_count": null,
   "metadata": {
    "id": "gKmwhtYZHKF_"
   },
   "outputs": [],
   "source": [
    "# Updating the call usage df \n",
    "df_call_usage.update(df_call_usage_phone_no)\n",
    "df_call_usage.update(df_call_usage_phone_yes)"
   ]
  },
  {
   "cell_type": "markdown",
   "metadata": {
    "id": "tzDcCgPkHKF_"
   },
   "source": [
    "### **Incoming Calls Analysis**"
   ]
  },
  {
   "cell_type": "code",
   "execution_count": null,
   "metadata": {
    "id": "-Mbn5y2eHKF_"
   },
   "outputs": [],
   "source": [
    "# Creating incoming calls variables column list\n",
    "incoming_call_col=['roam_ic','loc_ic_t2t', 'loc_ic_t2m', 'loc_ic_t2f', 'std_ic_t2t',\n",
    "       'std_ic_t2m', 'std_ic_t2f', 'std_ic_t2o', 'spl_ic', 'isd_ic',\n",
    "       'ic_others']"
   ]
  },
  {
   "cell_type": "markdown",
   "metadata": {
    "id": "wO38Xs5iHKF_"
   },
   "source": [
    "It should be noted that even if a customer does not have phone service, he or she may receive an incoming call. So we'll just look at quantiles and boxplots for all of the columns."
   ]
  },
  {
   "cell_type": "code",
   "execution_count": null,
   "metadata": {
    "id": "FFbu3WGJHKF_"
   },
   "outputs": [],
   "source": [
    "# Creating quantile df for incoming calls\n",
    "quantile_incoming_call_df=pd.DataFrame(columns=incoming_call_col,index=[0.1,0.25,0.5,0.75,0.8,0.9,0.95,0.97,0.99])"
   ]
  },
  {
   "cell_type": "code",
   "execution_count": null,
   "metadata": {
    "colab": {
     "base_uri": "https://localhost:8080/",
     "height": 331
    },
    "id": "yChpCRByHKF_",
    "outputId": "dbd3b72e-d0c1-48ad-98ff-3a70ae6d9d62"
   },
   "outputs": [],
   "source": [
    "# Entering incoming calls data into the quantile df\n",
    "for col in quantile_incoming_call_df:\n",
    "   quantile_incoming_call_df[col]=df_call_usage[col].quantile([0.1,0.25,0.5,0.75,0.8,0.9,0.95,0.97,0.99])\n",
    "quantile_incoming_call_df   "
   ]
  },
  {
   "cell_type": "markdown",
   "metadata": {
    "id": "rX8HGPidHKF_"
   },
   "source": [
    "Except for roam_ic, all other columns appear to have appropriate values. We will not change them.\n",
    "\n",
    "Let us analyze the roam_is column further."
   ]
  },
  {
   "cell_type": "code",
   "execution_count": null,
   "metadata": {
    "colab": {
     "base_uri": "https://localhost:8080/"
    },
    "id": "8cm3FXJmHKF_",
    "outputId": "a04cc7c9-08e0-47f1-8a3b-db66828dabb5"
   },
   "outputs": [],
   "source": [
    "# Counts of unique values in roam_ic column\n",
    "df_call_usage['roam_ic'].value_counts()"
   ]
  },
  {
   "cell_type": "markdown",
   "metadata": {
    "id": "v0JOF6UhHKGA"
   },
   "source": [
    "We can also observe 46254 and 8787978 figures here. Let us substitute 0 for them.\n",
    "\n",
    "Numbers 45 and 68 are also there, but we will not update them because it is possible that they are true values rather than data entering errors."
   ]
  },
  {
   "cell_type": "code",
   "execution_count": null,
   "metadata": {
    "id": "8D1LFKvzHKGA"
   },
   "outputs": [],
   "source": [
    "# Replacing Outliers with 0\n",
    "df_call_usage['roam_ic']=df_call_usage['roam_ic'].replace([46254,8787978],0)"
   ]
  },
  {
   "cell_type": "code",
   "execution_count": null,
   "metadata": {
    "colab": {
     "base_uri": "https://localhost:8080/",
     "height": 404
    },
    "id": "jtny5_vAHKGA",
    "outputId": "7b7e8e44-4ac2-4dd3-c629-ece64747749f"
   },
   "outputs": [],
   "source": [
    "# Plot the the distribution using Box plot\n",
    "plt.figure(figsize=(10,6))\n",
    "sns.boxplot(df_call_usage['roam_ic'])\n",
    "plt.title(\"The Distribution of Incoming Roaming Calls\")\n",
    "plt.xlabel(\"Incoming Roaming Calls\")\n",
    "plt.show()"
   ]
  },
  {
   "cell_type": "markdown",
   "metadata": {
    "id": "us42LmiaHKGA"
   },
   "source": [
    "### **Internet Services**"
   ]
  },
  {
   "cell_type": "code",
   "execution_count": null,
   "metadata": {
    "id": "cLm4t43DHKGA"
   },
   "outputs": [],
   "source": [
    "# Check customer data usage\n",
    "df_data_usage=df[['Month of Joining',\n",
    "        'total_rech_data', 'vol_4g', 'vol_5g',\n",
    "       'Internet Service']]"
   ]
  },
  {
   "cell_type": "code",
   "execution_count": null,
   "metadata": {
    "colab": {
     "base_uri": "https://localhost:8080/"
    },
    "id": "9f_JPS-JHKGA",
    "outputId": "46f3b167-be57-4f23-c196-10b9dd5fbced"
   },
   "outputs": [],
   "source": [
    "# Data types involved\n",
    "df_data_usage.dtypes"
   ]
  },
  {
   "cell_type": "markdown",
   "metadata": {
    "id": "O4mtL62fHKGA"
   },
   "source": [
    "Observe that total_rech_data is object but according to data dictionary it should be float."
   ]
  },
  {
   "cell_type": "code",
   "execution_count": null,
   "metadata": {
    "colab": {
     "base_uri": "https://localhost:8080/"
    },
    "id": "H0MRlzrLHKGA",
    "outputId": "eb817ce2-392a-4d70-f8f9-03f9418fc1ea"
   },
   "outputs": [],
   "source": [
    "# Check the value counts\n",
    "df_data_usage['Internet Service'].value_counts()"
   ]
  },
  {
   "cell_type": "code",
   "execution_count": null,
   "metadata": {
    "colab": {
     "base_uri": "https://localhost:8080/"
    },
    "id": "1QVgVINfHKGA",
    "outputId": "fb46e645-8896-4389-f460-10c12d816efc"
   },
   "outputs": [],
   "source": [
    "# Total recharge data value counts\n",
    "df_data_usage['total_rech_data'].value_counts()"
   ]
  },
  {
   "cell_type": "markdown",
   "metadata": {
    "id": "apAlQ9dgHKGA"
   },
   "source": [
    "We can see there is e01 value in the column. Let's replace it with 10."
   ]
  },
  {
   "cell_type": "code",
   "execution_count": null,
   "metadata": {
    "id": "uCkfmGWyHKGA"
   },
   "outputs": [],
   "source": [
    "# Replacing the values\n",
    "df_data_usage['total_rech_data']=df_data_usage['total_rech_data'].replace('e01',10)"
   ]
  },
  {
   "cell_type": "code",
   "execution_count": null,
   "metadata": {
    "id": "A2XkS6aBHKGB"
   },
   "outputs": [],
   "source": [
    "\n",
    "# Now we will convert the total rech data into a numeric column\n",
    "df_data_usage['total_rech_data']=pd.to_numeric(df_data_usage['total_rech_data'])"
   ]
  },
  {
   "cell_type": "code",
   "execution_count": null,
   "metadata": {
    "colab": {
     "base_uri": "https://localhost:8080/",
     "height": 404
    },
    "id": "NEQfvWHkHKGB",
    "outputId": "1a89cb44-0d3e-41eb-822e-eb602d36a3f1"
   },
   "outputs": [],
   "source": [
    "# Plot the the distribution using Box plot\n",
    "plt.figure(figsize=(10,6))\n",
    "sns.boxplot(df_data_usage['total_rech_data'])\n",
    "plt.title(\"The Distribution of Total Recharge Data\")\n",
    "plt.xlabel(\"Total Recharge Data\")\n",
    "plt.show()"
   ]
  },
  {
   "cell_type": "markdown",
   "metadata": {
    "id": "Ry75gS80HKGB"
   },
   "source": [
    "\n",
    "Observe that there are some outliers."
   ]
  },
  {
   "cell_type": "code",
   "execution_count": null,
   "metadata": {
    "colab": {
     "base_uri": "https://localhost:8080/"
    },
    "id": "45nQyRphHKGB",
    "outputId": "2ee80af6-e214-4ffe-e509-87fea7474158"
   },
   "outputs": [],
   "source": [
    "# Check the quantiles\n",
    "df_data_usage['total_rech_data'].quantile([0.1,0.25,0.5,0.75,0.8,0.9,0.95,0.97,0.99])"
   ]
  },
  {
   "cell_type": "markdown",
   "metadata": {
    "id": "-Ap7h0tPHKGB"
   },
   "source": [
    "Let's see how many customer have data recharge more than $31. "
   ]
  },
  {
   "cell_type": "code",
   "execution_count": null,
   "metadata": {
    "colab": {
     "base_uri": "https://localhost:8080/",
     "height": 455
    },
    "id": "ycLCBwd_HKGB",
    "outputId": "53851379-10b9-4d35-ba40-9b3bff680706"
   },
   "outputs": [],
   "source": [
    "# Filtering the data\n",
    "df_data_usage[df_data_usage['total_rech_data']>31]"
   ]
  },
  {
   "cell_type": "markdown",
   "metadata": {
    "id": "YGsCTObAHKGB"
   },
   "source": [
    "We can observe that many of them have not chosen Internet Service.\n",
    "Let's look at the unique numbers for total rech data where customers have not chosen Internet Service."
   ]
  },
  {
   "cell_type": "code",
   "execution_count": null,
   "metadata": {
    "colab": {
     "base_uri": "https://localhost:8080/"
    },
    "id": "VcduIH0RHKGB",
    "outputId": "b3a61042-3cff-4d87-c05a-8e4390d1a652"
   },
   "outputs": [],
   "source": [
    "# Check the total recharge data unique value counts where in there is no internet service \n",
    "df_data_usage[df_data_usage['Internet Service']=='No']['total_rech_data'].value_counts()"
   ]
  },
  {
   "cell_type": "markdown",
   "metadata": {
    "id": "D88oyjkAHKGB"
   },
   "source": [
    "The 10 and 1.6 data recharge amounts appear to be correct. We need to analyze further and decide whether to replace the values or remove the No from the Internet service.\n",
    "\n",
    "89890 and 7987 appear to be absurd values. Because there is no Internet Service Plan, we can replace them with 0."
   ]
  },
  {
   "cell_type": "code",
   "execution_count": null,
   "metadata": {
    "id": "gs_uwpJpHKGB"
   },
   "outputs": [],
   "source": [
    "# Replacing absurd values with 0\n",
    "df_data_usage['total_rech_data']=df_data_usage['total_rech_data'].replace([7987,89890],0)"
   ]
  },
  {
   "cell_type": "markdown",
   "metadata": {
    "id": "XqsiUtbxHKGB"
   },
   "source": [
    "Let's look at 10 and 1.6 now."
   ]
  },
  {
   "cell_type": "code",
   "execution_count": null,
   "metadata": {
    "colab": {
     "base_uri": "https://localhost:8080/",
     "height": 206
    },
    "id": "KjOQrLXWHKGB",
    "outputId": "e1697a6f-ca92-43a9-8b2f-4b7f94391c38"
   },
   "outputs": [],
   "source": [
    "# Checking volumes of 4g and 5g data where internet service is no\n",
    "df_data_usage[(df_data_usage['Internet Service']=='No')&(df_data_usage['total_rech_data'].isin([10,1.6]))][['vol_4g','vol_5g']].apply(lambda col: col.unique())"
   ]
  },
  {
   "cell_type": "code",
   "execution_count": null,
   "metadata": {
    "colab": {
     "base_uri": "https://localhost:8080/"
    },
    "id": "8cE0C5QMHKGC",
    "outputId": "05757cd1-aa01-455b-f0a7-310ec8381be5"
   },
   "outputs": [],
   "source": [
    "# Checking volumes of 4g and 5g data where internet service is yes\n",
    "df_data_usage[(df_data_usage['Internet Service']=='Yes')&(df_data_usage['total_rech_data'].isin([10,1.6]))][['vol_4g','vol_5g']].apply(lambda col: col.unique())"
   ]
  },
  {
   "cell_type": "markdown",
   "metadata": {
    "id": "xG7ANj4dHKGC"
   },
   "source": [
    "**Observations**:\n",
    "\n",
    "* We can clearly observe that anytime a data recharge of 10 or 1.6 is made and the Internet service is selected, the vol 4g and vol 5g have varying values.\n",
    "\n",
    "* But, when the Internet service is turned off, the results are either 0, 63, 254687, 87978, or 789.\n",
    "\n",
    "* We can go to business and inquire about this here."
   ]
  },
  {
   "cell_type": "code",
   "execution_count": null,
   "metadata": {
    "id": "tvpDqyBYHKGC"
   },
   "outputs": [],
   "source": [
    "# Replacing the values\n",
    "df_data_usage.loc[df_data_usage['Internet Service']=='No','total_rech_data']=0"
   ]
  },
  {
   "cell_type": "markdown",
   "metadata": {
    "id": "7rN6qyFfHKGC"
   },
   "source": [
    "For customers who did not choose Internet service, we replaced all data with 0."
   ]
  },
  {
   "cell_type": "code",
   "execution_count": null,
   "metadata": {
    "colab": {
     "base_uri": "https://localhost:8080/",
     "height": 404
    },
    "id": "NKOXFXfSHKGC",
    "outputId": "55349a0f-1fe2-448e-a964-4aa2b57b45fb"
   },
   "outputs": [],
   "source": [
    "# Plot the the distribution using Box plot\n",
    "plt.figure(figsize=(10,6))\n",
    "sns.boxplot(df_data_usage['total_rech_data'])\n",
    "plt.title(\"The Distribution of Total Recharge Data\")\n",
    "plt.xlabel(\"Total Recharge Data\")\n",
    "plt.show()"
   ]
  },
  {
   "cell_type": "markdown",
   "metadata": {
    "id": "GR-c56hkHKGC"
   },
   "source": [
    "There are some customers who are above the 75th percentile. We are not going to change those values."
   ]
  },
  {
   "cell_type": "markdown",
   "metadata": {
    "id": "MKsXQ2GOHKGC"
   },
   "source": [
    "We already discussed imputing arpu 4g and arpu 5g after analyzing this variable, so let's do it now."
   ]
  },
  {
   "cell_type": "code",
   "execution_count": null,
   "metadata": {
    "colab": {
     "base_uri": "https://localhost:8080/"
    },
    "id": "8Cla3slqHKGC",
    "outputId": "970755d5-8b88-45b6-fe3b-7700e1364d0e"
   },
   "outputs": [],
   "source": [
    "# Check the value counts for total recharge data where arpu 4g and 5g is null\n",
    "df[(df['arpu_4g'].isna())&(df['arpu_5g'].isna())]['total_rech_data'].value_counts(dropna=False)"
   ]
  },
  {
   "cell_type": "code",
   "execution_count": null,
   "metadata": {
    "id": "eMW2FDTnHKGD"
   },
   "outputs": [],
   "source": [
    "# Replacing the values with Not Applicable\n",
    "df.loc[(df['arpu_4g'].isna())&(df['arpu_5g'].isna())&(df['total_rech_data'].isna()),['arpu_4g','arpu_5g']]='Not Applicable'"
   ]
  },
  {
   "cell_type": "markdown",
   "metadata": {
    "id": "zvg77f8THKGD"
   },
   "source": [
    "### **vol_4g and vol_5g columns**"
   ]
  },
  {
   "cell_type": "code",
   "execution_count": null,
   "metadata": {
    "id": "x51VWcHzHKGD"
   },
   "outputs": [],
   "source": [
    "# separately analyzing the internet volumes for customers with and without inetrnet service\n",
    "df_data_usage_internet_no=df_data_usage[df_data_usage['Internet Service']=='No']\n",
    "df_data_usage_internet_yes=df_data_usage[df_data_usage['Internet Service']=='Yes']"
   ]
  },
  {
   "cell_type": "code",
   "execution_count": null,
   "metadata": {
    "colab": {
     "base_uri": "https://localhost:8080/",
     "height": 404
    },
    "id": "L59Sp3ffHKGD",
    "outputId": "4292c9e9-b3b5-41bf-99cb-60d4e5270a18"
   },
   "outputs": [],
   "source": [
    "# Plot the the distribution using Box plot\n",
    "plt.figure(figsize=(10,6))\n",
    "sns.boxplot(df_data_usage_internet_yes['vol_4g'])\n",
    "plt.title(\"The Distribution of 4g Volume for Customers with Internet Service\")\n",
    "plt.xlabel(\"4G Internet Volume\")\n",
    "plt.show()"
   ]
  },
  {
   "cell_type": "code",
   "execution_count": null,
   "metadata": {
    "colab": {
     "base_uri": "https://localhost:8080/"
    },
    "id": "t20JLEC4HKGD",
    "outputId": "e38a1ec9-2443-4925-d554-df9bf35cd7e6"
   },
   "outputs": [],
   "source": [
    "# Check the quantiles\n",
    "df_data_usage_internet_yes['vol_4g'].quantile([0.1,0.25,0.5,0.75,0.8,0.9,0.95,0.97,0.99])"
   ]
  },
  {
   "cell_type": "markdown",
   "metadata": {
    "id": "O0rEhF0SHKGD"
   },
   "source": [
    "We will not alter any of these values."
   ]
  },
  {
   "cell_type": "code",
   "execution_count": null,
   "metadata": {
    "colab": {
     "base_uri": "https://localhost:8080/",
     "height": 404
    },
    "id": "sB4IZi3rHKGD",
    "outputId": "f4c1587a-828b-4b8b-e8b7-f293600e0866"
   },
   "outputs": [],
   "source": [
    "# Plot the the distribution using Box plot\n",
    "plt.figure(figsize=(10,6))\n",
    "sns.boxplot(df_data_usage_internet_no['vol_4g'])\n",
    "plt.title(\"The Distribution of 4g Volume for Customers without Internet Service\")\n",
    "plt.xlabel(\"4G Internet Volume\")\n",
    "plt.show()"
   ]
  },
  {
   "cell_type": "markdown",
   "metadata": {
    "id": "QJC_KR64HKGE"
   },
   "source": [
    "The abnormal values are when Internet service is not opted."
   ]
  },
  {
   "cell_type": "code",
   "execution_count": null,
   "metadata": {
    "colab": {
     "base_uri": "https://localhost:8080/"
    },
    "id": "Sqn4DTfiHKGE",
    "outputId": "30187705-3ca6-4e90-b102-24f75ae7f909"
   },
   "outputs": [],
   "source": [
    "# Value counts of 4g data without inetrnet service\n",
    "df_data_usage_internet_no['vol_4g'].value_counts()"
   ]
  },
  {
   "cell_type": "markdown",
   "metadata": {
    "id": "yn7b32wVHKGE"
   },
   "source": [
    "Let's see how many of these values are there without any data recharge."
   ]
  },
  {
   "cell_type": "code",
   "execution_count": null,
   "metadata": {
    "colab": {
     "base_uri": "https://localhost:8080/"
    },
    "id": "5z1NAX82HKGE",
    "outputId": "0e1be4d5-cf39-4558-bd35-3cafeeda33ac"
   },
   "outputs": [],
   "source": [
    "# Count the values in 4G volume with no internet service and recharge data \n",
    "df_data_usage_internet_no[df_data_usage_internet_no['total_rech_data']==0]['vol_4g'].value_counts()"
   ]
  },
  {
   "cell_type": "markdown",
   "metadata": {
    "id": "gHjmPstzHKGE"
   },
   "source": [
    "When vol-4g data is utilised in GB, the values 254687 and 87978 appear to be absurd. Let us substitute 0 for them."
   ]
  },
  {
   "cell_type": "markdown",
   "metadata": {
    "id": "zuQ06D7xHKGE"
   },
   "source": [
    "We earlier saw that the customers had recharged with 10, 1.6, or other absurd quantities, and we replaced all data recharge amounts with 0.\n",
    "\n",
    "Similarly, we will replace all of the values here."
   ]
  },
  {
   "cell_type": "code",
   "execution_count": null,
   "metadata": {
    "id": "vtZDzB4KHKGE"
   },
   "outputs": [],
   "source": [
    "# Replacing the value with 0\n",
    "df_data_usage_internet_no.loc[df_data_usage_internet_no['total_rech_data']==0,'vol_4g']=0"
   ]
  },
  {
   "cell_type": "code",
   "execution_count": null,
   "metadata": {
    "colab": {
     "base_uri": "https://localhost:8080/"
    },
    "id": "YTz-LfcGHKGE",
    "outputId": "356b3eae-6ceb-4908-fe10-ce20a88ad6bf"
   },
   "outputs": [],
   "source": [
    "# Checking the values of 4g volume without internet service\n",
    "df_data_usage_internet_no['vol_4g'].value_counts()"
   ]
  },
  {
   "cell_type": "code",
   "execution_count": null,
   "metadata": {
    "colab": {
     "base_uri": "https://localhost:8080/",
     "height": 404
    },
    "id": "QSK5tw1yHKGE",
    "outputId": "dab5a232-f594-417c-9896-1d42741856ed"
   },
   "outputs": [],
   "source": [
    "# Plot the the distribution using Box plot\n",
    "plt.figure(figsize=(10,6))\n",
    "sns.boxplot(df_data_usage_internet_yes['vol_5g'])\n",
    "plt.title(\"The Distribution of 5g Volume for Customers with Internet Service\")\n",
    "plt.xlabel(\"5G Internet Volume\")\n",
    "plt.show()"
   ]
  },
  {
   "cell_type": "code",
   "execution_count": null,
   "metadata": {
    "colab": {
     "base_uri": "https://localhost:8080/"
    },
    "id": "i1YTWqKDHKGF",
    "outputId": "eb69bb61-9b8a-45d3-8278-22536222a665"
   },
   "outputs": [],
   "source": [
    "# Check the quantiles\n",
    "df_data_usage_internet_yes['vol_5g'].quantile([0.1,0.25,0.5,0.75,0.8,0.9,0.95,0.97,0.99])"
   ]
  },
  {
   "cell_type": "code",
   "execution_count": null,
   "metadata": {
    "colab": {
     "base_uri": "https://localhost:8080/"
    },
    "id": "IADMRRUHHKGF",
    "outputId": "95fc4abe-76af-4442-8f7d-17f51c015b1a"
   },
   "outputs": [],
   "source": [
    "# Check the 5g volume value counts for customers with no internet service\n",
    "df_data_usage_internet_no['vol_5g'].value_counts()"
   ]
  },
  {
   "cell_type": "markdown",
   "metadata": {
    "id": "0rBgHGE3HKGF"
   },
   "source": [
    "The abnormal values are there when Internet service is not opted."
   ]
  },
  {
   "cell_type": "code",
   "execution_count": null,
   "metadata": {
    "colab": {
     "base_uri": "https://localhost:8080/"
    },
    "id": "jHVhrQiAHKGF",
    "outputId": "f03af04b-c958-49a0-854c-b9396382daed"
   },
   "outputs": [],
   "source": [
    "# Value counts of 5g volume without internet service\n",
    "df_data_usage_internet_no[df_data_usage_internet_no['total_rech_data']==0]['vol_5g'].value_counts()"
   ]
  },
  {
   "cell_type": "markdown",
   "metadata": {
    "id": "yqIPV5EYHKGF"
   },
   "source": [
    "**Observations**:\n",
    "\n",
    "* It is worth noting that all customers with large amounts of data consumption have either recharged with 0, 10, or 1.6, which appears to be unusual. We will now replace all of these values.\n",
    "\n",
    "\n",
    "* Because vol-5g is data utilised in GB, the values 254687 and 87978 appear to be absurd. Let us substitute 0 for them."
   ]
  },
  {
   "cell_type": "code",
   "execution_count": null,
   "metadata": {
    "id": "qDsCkL58nOy-"
   },
   "outputs": [],
   "source": [
    "# Replacing values with 0\n",
    "df_data_usage_internet_no.loc[df_data_usage_internet_no['total_rech_data']==0,'vol_5g']=0"
   ]
  },
  {
   "cell_type": "code",
   "execution_count": null,
   "metadata": {
    "colab": {
     "base_uri": "https://localhost:8080/"
    },
    "id": "XfhAkL7HHKGF",
    "outputId": "de48cccf-1adc-40de-fc51-428c1a064c52"
   },
   "outputs": [],
   "source": [
    "# Check the counts again\n",
    "df_data_usage_internet_no['vol_5g'].value_counts()"
   ]
  },
  {
   "cell_type": "code",
   "execution_count": null,
   "metadata": {
    "id": "Ou0dcjRGHKGF"
   },
   "outputs": [],
   "source": [
    "# update the dataframes\n",
    "df_data_usage.update(df_data_usage_internet_no)\n",
    "df_data_usage.update(df_data_usage_internet_yes)"
   ]
  },
  {
   "cell_type": "markdown",
   "metadata": {
    "id": "tlbz4OfoHKGF"
   },
   "source": [
    "We have updated all of the df data usage and df call usage values.\n",
    "\n",
    "We can update both of them in our main dataframe df.\n"
   ]
  },
  {
   "cell_type": "code",
   "execution_count": null,
   "metadata": {
    "id": "D1We6i1rHKGG"
   },
   "outputs": [],
   "source": [
    "# Update original dataframe\n",
    "df.update(df_call_usage)\n",
    "df.update(df_data_usage)"
   ]
  },
  {
   "cell_type": "markdown",
   "metadata": {
    "id": "ORWvzr3PHKGG"
   },
   "source": [
    "Let's now check % of missing values in the data!"
   ]
  },
  {
   "cell_type": "code",
   "execution_count": null,
   "metadata": {
    "id": "vnDuj1akHKGG"
   },
   "outputs": [],
   "source": [
    "# Creating a missing value df with the null values of our original dataframe\n",
    "percent_missing = df.isna().sum() * 100 / len(df)\n",
    "missing_value_df = pd.DataFrame({'column_name': df.columns,\n",
    "                                 'percent_missing': percent_missing.values})"
   ]
  },
  {
   "cell_type": "code",
   "execution_count": null,
   "metadata": {
    "colab": {
     "base_uri": "https://localhost:8080/",
     "height": 1000
    },
    "id": "rakrV2LuHKGG",
    "outputId": "7ed874ce-0b5e-4a10-f871-9dcc3b041f3b"
   },
   "outputs": [],
   "source": [
    "# Percentage of missing values in each column\n",
    "missing_value_df"
   ]
  },
  {
   "cell_type": "code",
   "execution_count": null,
   "metadata": {
    "colab": {
     "base_uri": "https://localhost:8080/",
     "height": 175
    },
    "id": "Bxawb_XXHKGG",
    "outputId": "507521a1-8482-4eae-fecc-138619cbe070"
   },
   "outputs": [],
   "source": [
    "# Missing value columns with > 20 % missing values\n",
    "missing_value_df[missing_value_df.percent_missing>20]"
   ]
  },
  {
   "cell_type": "markdown",
   "metadata": {
    "id": "NPB9QZsbnOzA"
   },
   "source": [
    "Missing values greater than 20% should not be imputed because the imputation process may introduce bias and distort the true distribution of the data. Imputing a large percentage of missing values may also result in unreliable and inaccurate analysis. In such cases, it may be better to drop the columns!"
   ]
  },
  {
   "cell_type": "markdown",
   "metadata": {
    "id": "w1OykcmRHKGG"
   },
   "source": [
    "Let's select all the columns with less missing values and impute them."
   ]
  },
  {
   "cell_type": "code",
   "execution_count": null,
   "metadata": {
    "id": "bv1x9NpFHKGG"
   },
   "outputs": [],
   "source": [
    "# We will only select columns with <20% missing values\n",
    "missing_impute_cols=list(missing_value_df[(missing_value_df.percent_missing>1)&(missing_value_df.percent_missing<20)]['column_name'])"
   ]
  },
  {
   "cell_type": "code",
   "execution_count": null,
   "metadata": {
    "colab": {
     "base_uri": "https://localhost:8080/"
    },
    "id": "UvakschfHKGG",
    "outputId": "5d5e101b-9e5d-46a4-cca1-6bd30a5616c2"
   },
   "outputs": [],
   "source": [
    "# All columns with missing values less than 20 %\n",
    "missing_impute_cols\n"
   ]
  },
  {
   "cell_type": "code",
   "execution_count": null,
   "metadata": {
    "colab": {
     "base_uri": "https://localhost:8080/"
    },
    "id": "g1Wo1OFCHKGH",
    "outputId": "6af3f060-be07-40df-88f3-591aaecb0e21"
   },
   "outputs": [],
   "source": [
    "# Shape\n",
    "df[missing_impute_cols].shape"
   ]
  },
  {
   "cell_type": "markdown",
   "metadata": {
    "id": "uFWilGOzckVk"
   },
   "source": [
    "## **Multivariate Imputation by Chained Equation (MICE)**\n"
   ]
  },
  {
   "cell_type": "code",
   "execution_count": null,
   "metadata": {
    "id": "7ElBjTb8HKGH"
   },
   "outputs": [],
   "source": [
    "# Imputing with MICE\n",
    "from sklearn.experimental import enable_iterative_imputer\n",
    "from sklearn.impute import IterativeImputer\n",
    "from sklearn import linear_model"
   ]
  },
  {
   "cell_type": "code",
   "execution_count": null,
   "metadata": {
    "colab": {
     "base_uri": "https://localhost:8080/"
    },
    "id": "7DiQuuVVHKGH",
    "outputId": "07822ec7-6e6a-4452-cf1f-4d99e952d618"
   },
   "outputs": [],
   "source": [
    "# Columns with Missing Values\n",
    "missing_impute_cols"
   ]
  },
  {
   "cell_type": "code",
   "execution_count": null,
   "metadata": {
    "id": "ssFmHGy-HKGH"
   },
   "outputs": [],
   "source": [
    "# Filtering and creating a copy dataframe\n",
    "df_mice = df.filter(missing_impute_cols, axis=1).copy()"
   ]
  },
  {
   "cell_type": "code",
   "execution_count": null,
   "metadata": {
    "colab": {
     "base_uri": "https://localhost:8080/",
     "height": 256
    },
    "id": "cSnzwZUQHKGI",
    "outputId": "14cfbef2-2059-4393-f3e5-4db9edf647b2"
   },
   "outputs": [],
   "source": [
    "# Top three rows\n",
    "df_mice.head(3)"
   ]
  },
  {
   "cell_type": "code",
   "execution_count": null,
   "metadata": {
    "colab": {
     "base_uri": "https://localhost:8080/"
    },
    "id": "wZvSvjgJHKGI",
    "outputId": "3913decd-8d76-4ed4-fd85-a293f987579f"
   },
   "outputs": [],
   "source": [
    "# Data types involved\n",
    "df_mice.dtypes"
   ]
  },
  {
   "cell_type": "code",
   "execution_count": null,
   "metadata": {
    "id": "mYyYPf-xHKGI"
   },
   "outputs": [],
   "source": [
    "# Not imputing missing values now\n",
    "missing_impute_cols.remove('arpu_4g')\n",
    "missing_impute_cols.remove('arpu_5g')"
   ]
  },
  {
   "cell_type": "code",
   "execution_count": null,
   "metadata": {
    "id": "leoE-EBcHKGI"
   },
   "outputs": [],
   "source": [
    "# Creating the copy dataframe for mice imputation\n",
    "df_mice = df.filter(missing_impute_cols, axis=1).copy()"
   ]
  },
  {
   "cell_type": "code",
   "execution_count": null,
   "metadata": {
    "id": "l4SNWE3ZHKGI"
   },
   "outputs": [],
   "source": [
    "# Define MICE Imputer and fill missing values\n",
    "mice_imputer = IterativeImputer(estimator=linear_model.BayesianRidge(), n_nearest_features=None, imputation_order='ascending')"
   ]
  },
  {
   "cell_type": "code",
   "execution_count": null,
   "metadata": {
    "id": "enCl1jbeHKGI"
   },
   "outputs": [],
   "source": [
    "# Fit Transform the data\n",
    "df_mice_imputed = pd.DataFrame(mice_imputer.fit_transform(df_mice), columns=df_mice.columns,index=df_mice.index)\n",
    "save_point(\"fcTel1\")"
   ]
  },
  {
   "cell_type": "code",
   "execution_count": null,
   "metadata": {
    "colab": {
     "base_uri": "https://localhost:8080/",
     "height": 239
    },
    "id": "-XSgE3vHHKGI",
    "outputId": "8763e171-f8d4-41b8-a6e2-ad040f6a2c09"
   },
   "outputs": [],
   "source": [
    "# Top three rows after imputation\n",
    "df_mice_imputed.head(3)"
   ]
  },
  {
   "cell_type": "code",
   "execution_count": null,
   "metadata": {
    "colab": {
     "base_uri": "https://localhost:8080/"
    },
    "id": "NKUYAZb9HKGI",
    "outputId": "5dd1ff06-95ea-4434-da58-8e5e646cee11"
   },
   "outputs": [],
   "source": [
    "# Verifying the imputation\n",
    "df_mice_imputed.isna().sum()"
   ]
  },
  {
   "cell_type": "markdown",
   "metadata": {
    "id": "fJHC0bixHKGJ"
   },
   "source": [
    "Let's update this dataframe to original dataframe!"
   ]
  },
  {
   "cell_type": "code",
   "execution_count": null,
   "metadata": {
    "id": "QXSIvtROHKGJ"
   },
   "outputs": [],
   "source": [
    "# Update the original dataframe\n",
    "df.update(df_mice_imputed)"
   ]
  },
  {
   "cell_type": "code",
   "execution_count": null,
   "metadata": {
    "colab": {
     "base_uri": "https://localhost:8080/",
     "height": 377
    },
    "id": "8mVSxnDsHKGJ",
    "outputId": "b9bb2ddf-b041-475e-f573-ddbb95940b0f"
   },
   "outputs": [],
   "source": [
    "# Top three rows\n",
    "df.head(3)"
   ]
  },
  {
   "cell_type": "markdown",
   "metadata": {
    "id": "3RfoF6W_HKGJ"
   },
   "source": [
    "Let's do imputation for arpu_4g and arpu_5g!\n"
   ]
  },
  {
   "cell_type": "code",
   "execution_count": null,
   "metadata": {
    "id": "9BDdQyPjHKGJ"
   },
   "outputs": [],
   "source": [
    "# Select the columns\n",
    "df_arpu=df[['arpu_4g','arpu_5g']]"
   ]
  },
  {
   "cell_type": "code",
   "execution_count": null,
   "metadata": {
    "id": "_ogUV4jWHKGK"
   },
   "outputs": [],
   "source": [
    "# Filtering the 4G ARPU dataframe where values are not \"Not Applicable\"\n",
    "df_arpu_filterd=df_arpu[df_arpu.arpu_4g!='Not Applicable']"
   ]
  },
  {
   "cell_type": "code",
   "execution_count": null,
   "metadata": {
    "id": "XbW4j56qHKGK"
   },
   "outputs": [],
   "source": [
    "# # Filtering the 5g ARPU dataframe where values are not \"Not Applicable\"\n",
    "df_arpu_filterd=df_arpu_filterd[df_arpu_filterd.arpu_5g!='Not Applicable']"
   ]
  },
  {
   "cell_type": "code",
   "execution_count": null,
   "metadata": {
    "colab": {
     "base_uri": "https://localhost:8080/",
     "height": 175
    },
    "id": "p1Cb5ZDZHKGK",
    "outputId": "5fe42229-5d71-45d0-fb8a-b91efb21fc7e"
   },
   "outputs": [],
   "source": [
    "# Top three rows\n",
    "df_arpu_filterd.head(3)"
   ]
  },
  {
   "cell_type": "code",
   "execution_count": null,
   "metadata": {
    "id": "aOTdsE54HKGK"
   },
   "outputs": [],
   "source": [
    "# Fit transform rest of the data for 4G and 5G ARPU\n",
    "df_arpu_mice_imputed = pd.DataFrame(mice_imputer.fit_transform(df_arpu_filterd), columns=df_arpu_filterd.columns,index=df_arpu_filterd.index)"
   ]
  },
  {
   "cell_type": "code",
   "execution_count": null,
   "metadata": {
    "colab": {
     "base_uri": "https://localhost:8080/",
     "height": 175
    },
    "id": "hodYjcklHKGK",
    "outputId": "998f15aa-a94c-4041-9500-c23a6d4039f9"
   },
   "outputs": [],
   "source": [
    "# Top three rows for imputed data\n",
    "df_arpu_mice_imputed.head(3)"
   ]
  },
  {
   "cell_type": "markdown",
   "metadata": {
    "id": "4HgQiW_JHKGK"
   },
   "source": [
    "Let's update this to original dataframe!"
   ]
  },
  {
   "cell_type": "code",
   "execution_count": null,
   "metadata": {
    "colab": {
     "base_uri": "https://localhost:8080/"
    },
    "id": "8wzaeudnHKGK",
    "outputId": "e9e75f10-fa34-4fc8-f831-034ec35746e0"
   },
   "outputs": [],
   "source": [
    "# Verifying that there are no missing values\n",
    "df_arpu_mice_imputed.isna().sum()"
   ]
  },
  {
   "cell_type": "code",
   "execution_count": null,
   "metadata": {
    "id": "pBJMEunUHKGK"
   },
   "outputs": [],
   "source": [
    "# Updating the main dataframe\n",
    "df.update(df_arpu_mice_imputed)"
   ]
  },
  {
   "cell_type": "code",
   "execution_count": null,
   "metadata": {
    "colab": {
     "base_uri": "https://localhost:8080/",
     "height": 197
    },
    "id": "SqNgNcLKHKGK",
    "outputId": "1b75cfe1-d47f-4f23-ed9f-4e0a76ccda4c"
   },
   "outputs": [],
   "source": [
    "# Verifying that there are no missing values\n",
    "df[df['arpu_4g'].isna()]"
   ]
  },
  {
   "cell_type": "code",
   "execution_count": null,
   "metadata": {
    "colab": {
     "base_uri": "https://localhost:8080/"
    },
    "id": "7jW0IlCZHKGK",
    "outputId": "ededacad-cc8f-4237-d311-9581ebcb2e38"
   },
   "outputs": [],
   "source": [
    "# Verifying that there are no missing values\n",
    "df.isna().sum()"
   ]
  },
  {
   "cell_type": "code",
   "execution_count": null,
   "metadata": {
    "id": "MpwdOsAxHKGK"
   },
   "outputs": [],
   "source": [
    "# Resetting Index\n",
    "df=df.reset_index(drop=False)"
   ]
  },
  {
   "cell_type": "code",
   "execution_count": null,
   "metadata": {
    "id": "Enrr6L_ha2Jx"
   },
   "outputs": [],
   "source": [
    "# Save Data\n",
    "# df.to_csv('../data/processed/Telecom_Data.csv',index=False)"
   ]
  },
  {
   "cell_type": "markdown",
   "metadata": {
    "id": "noz9S0JBN4xQ"
   },
   "source": [
    "## **Bivariate Analysis**"
   ]
  },
  {
   "cell_type": "markdown",
   "metadata": {
    "id": "atc4KA3fnOzF"
   },
   "source": [
    "Filling rest of the missing values with 0"
   ]
  },
  {
   "cell_type": "code",
   "execution_count": null,
   "metadata": {
    "id": "h3guns3hdtyj"
   },
   "outputs": [],
   "source": [
    "# replace arpu 4G NA to 0\n",
    "df['arpu_5g'].replace(\"Not Applicable\", 0, inplace=True)\n",
    "df['arpu_4g'].replace(\"Not Applicable\", 0, inplace=True)\n",
    "\n",
    "df[\"total_rech_data\"] = df[\"total_rech_data\"].fillna(0)\n",
    "df['total_rech_amt'] = df['total_rech_amt'].fillna(0)\n",
    "df['night_pck_user'] = df['night_pck_user'].fillna(0)\n",
    "df['fb_user'] = df['fb_user'].fillna(0)"
   ]
  },
  {
   "cell_type": "code",
   "execution_count": null,
   "metadata": {
    "id": "DY-ZPcxQcYhO"
   },
   "outputs": [],
   "source": [
    "# Converting categorical variables back to category type For ex- Month is stored in numerical format\n",
    "\n",
    "other_cat_vars =  ['Month', 'Month of Joining', 'zip_code', 'latitude', 'longitude','night_pck_user', 'fb_user', 'Churn Value']\n",
    "\n",
    "for var in other_cat_vars:\n",
    "    df[var] = df[var].astype('object')\n",
    "\n",
    "# list of categorical variables\n",
    "cat_vars = list(df.select_dtypes(include=['object']).columns)"
   ]
  },
  {
   "cell_type": "code",
   "execution_count": null,
   "metadata": {
    "id": "wh_UZfn-bS1u"
   },
   "outputs": [],
   "source": [
    "# list of numerical variables\n",
    "num_vars = list(df.select_dtypes(include=['int64', 'float64']).columns)"
   ]
  },
  {
   "cell_type": "code",
   "execution_count": null,
   "metadata": {
    "colab": {
     "base_uri": "https://localhost:8080/"
    },
    "id": "lS6o6r3unkDm",
    "outputId": "e79c50e4-2d9b-4f89-88cf-50ec2290dec4"
   },
   "outputs": [],
   "source": [
    "len(num_vars)"
   ]
  },
  {
   "cell_type": "markdown",
   "metadata": {
    "id": "3HvY7rO4nOzG"
   },
   "source": [
    "### **Month and Churn Value**\n",
    "\n"
   ]
  },
  {
   "cell_type": "code",
   "execution_count": null,
   "metadata": {
    "colab": {
     "base_uri": "https://localhost:8080/",
     "height": 682
    },
    "id": "a5Uhe8a6nOzG",
    "outputId": "244e3b6c-e368-4585-efc2-e77eca4238a8"
   },
   "outputs": [],
   "source": [
    "# Plot the churn by month\n",
    "plt.figure(figsize=(10,6))\n",
    "sns.countplot(x=\"Month\", hue=\"Churn Value\", data=df)\n",
    "plt.title(\"Countplot of churned vs. non-churned customers for each month\")\n",
    "\n",
    "churn_by_month = df.groupby('Month')['Churn Value'].mean()\n",
    "print(churn_by_month)"
   ]
  },
  {
   "cell_type": "markdown",
   "metadata": {
    "id": "gPgd2BP-nOzH"
   },
   "source": [
    "**Observation**:\n",
    "\n",
    "* We can observe that January has the highest churn rate of 36.44%, followed by February with a churn rate of 16.57%. March has a churn rate of 14.84%, which is slightly lower than February. After that, the churn rate decreases steadily for the remaining months, with the lowest churn rate being in July with only 1.87%.\n",
    "\n",
    "* This indicates that there may be some seasonal patterns in the customer churn rate, with the churn rate being highest during the first few months of the year and gradually decreasing towards the end of the year. "
   ]
  },
  {
   "cell_type": "markdown",
   "metadata": {
    "id": "B3J0rskHnOzH"
   },
   "source": [
    "### **Age and Churn Value**"
   ]
  },
  {
   "cell_type": "code",
   "execution_count": null,
   "metadata": {
    "colab": {
     "base_uri": "https://localhost:8080/",
     "height": 404
    },
    "id": "jvp679BynOzJ",
    "outputId": "b5ca1a0c-5b73-427c-91f5-d5ad7a546e86"
   },
   "outputs": [],
   "source": [
    "# Put ages into bins\n",
    "bins = [0, 18, 25, 35, 50, 65, 100]\n",
    "labels = ['<18', '18-24', '25-34', '35-49', '50-64', '65+']\n",
    "df['age_bucket'] = pd.cut(df['Age'], bins=bins, labels=labels)\n",
    "\n",
    "# Plot Age vs Churn Distribution\n",
    "plt.figure(figsize=(10,6))\n",
    "sns.histplot(data=df, x='age_bucket', hue='Churn Value', multiple='stack')\n",
    "plt.title('Distribution of Ages for Churned vs. Non-Churned Customers')\n",
    "plt.xlabel('Age')\n",
    "plt.ylabel('Count')\n",
    "plt.show()"
   ]
  },
  {
   "cell_type": "code",
   "execution_count": null,
   "metadata": {
    "colab": {
     "base_uri": "https://localhost:8080/"
    },
    "id": "h5yE7iIOnOzJ",
    "outputId": "8ece89ab-bf67-46e9-a182-11b9b73c1e8a"
   },
   "outputs": [],
   "source": [
    "# Get count of churned and non-churned customers \n",
    "age_churn_counts = df.groupby(['age_bucket', 'Churn Value'])['Churn Value'].count()\n",
    "print(age_churn_counts)"
   ]
  },
  {
   "cell_type": "code",
   "execution_count": null,
   "metadata": {
    "colab": {
     "base_uri": "https://localhost:8080/"
    },
    "id": "rn-D6AvxnOzJ",
    "outputId": "17b7e887-c54a-4af2-9f1a-bdc913c21ad5"
   },
   "outputs": [],
   "source": [
    "# calculate churn rate for each age bucket\n",
    "age_churn_rates = df.groupby('age_bucket')['Churn Value'].mean()\n",
    "print(age_churn_rates)"
   ]
  },
  {
   "cell_type": "markdown",
   "metadata": {
    "id": "NxhFT34HnOzJ"
   },
   "source": [
    "**Observation**:\n",
    "\n",
    "* There doesn't seem to be a significant difference in churn rates across the different age buckets. The churn rate ranges from 4.49% to 4.71% across the different age buckets, with the highest churn rate being in the 50-64 age bucket. However, the difference in churn rate between the age buckets is relatively small, with none of them being significantly higher or lower than the others. \n",
    "\n",
    "* This suggests that age may not be a strong predictor of churn on its own, and that other variables may be more important in determining whether a customer will churn or not."
   ]
  },
  {
   "cell_type": "markdown",
   "metadata": {
    "id": "R1KqTtvvnOzK"
   },
   "source": [
    "### **Age and ARPU**\n",
    "\n"
   ]
  },
  {
   "cell_type": "code",
   "execution_count": null,
   "metadata": {
    "colab": {
     "base_uri": "https://localhost:8080/",
     "height": 630
    },
    "id": "cJTK7ETanOzK",
    "outputId": "318b6aed-2fed-454d-8e0f-57d6955e9e53"
   },
   "outputs": [],
   "source": [
    "# Create a box plot to compare the distribution of ARPU for churned vs. non-churned customers in each age bucket\n",
    "plt.figure(figsize=(10,6))\n",
    "sns.boxplot(data=df, x='age_bucket', y='arpu', hue='Churn Value')\n",
    "plt.title('ARPU Distribution for Churned vs. Non-Churned Customers in Each Age Bucket')\n",
    "plt.xlabel('Age Bucket')\n",
    "plt.ylabel('ARPU')\n",
    "plt.show()\n",
    "\n",
    "# Calculate the mean ARPU for churned vs. non-churned customers\n",
    "age_arpu = df.groupby(['age_bucket', 'Churn Value'])['arpu'].mean().reset_index()\n",
    "print(age_arpu)\n"
   ]
  },
  {
   "cell_type": "markdown",
   "metadata": {
    "id": "KI1PupE9nOzK"
   },
   "source": [
    "**Observation**:\n",
    "\n",
    "* In general, we can see that the average revenue per user (ARPU) is higher for churned customers in all age buckets. This may indicate that customers who spend more on the service are more likely to churn, which is a cause for concern for the company.\n",
    "\n",
    "* We can see that the churn rates for different age groups are similar, but the average revenue per user (ARPU) is higher for older customers who did not churn. This suggests that older customers may be more loyal to the product and less likely to switch to a competitor, but they also value consistency and are less likely to increase their spending on the product."
   ]
  },
  {
   "cell_type": "markdown",
   "metadata": {
    "id": "-NGgdLv_nOzK"
   },
   "source": [
    "### **Age and Customer Satisfaction Score**\n"
   ]
  },
  {
   "cell_type": "code",
   "execution_count": null,
   "metadata": {
    "colab": {
     "base_uri": "https://localhost:8080/",
     "height": 543
    },
    "id": "Ok1c16dknOzK",
    "outputId": "e0c12e71-784a-493d-a190-3a1594d9c411"
   },
   "outputs": [],
   "source": [
    "# boxplot to visualize the distribution of satisfaction scores for each age bucket\n",
    "checkpoint('fcTel1')\n",
    "plt.figure(figsize=(10,6))\n",
    "sns.boxplot(data=df, x='age_bucket', y='Satisfaction Score', hue='Churn Value')\n",
    "plt.title('Distribution of Satisfaction Scores by Age and Churn')\n",
    "plt.xlabel('Age Bucket')\n",
    "plt.ylabel('Satisfaction Score')\n",
    "plt.show()\n",
    "\n",
    "# Calculate the mean satisfaction score for each age bucket and churn group\n",
    "age_satisfaction = df.groupby(['age_bucket', 'Churn Value']).agg({'Satisfaction Score': 'mean'}).reset_index()\n",
    "\n",
    "# Pivot the table to make the churn values into columns\n",
    "age_satisfaction = age_satisfaction.pivot(index='age_bucket', columns='Churn Value', values='Satisfaction Score')\n",
    "print(age_satisfaction)\n"
   ]
  },
  {
   "cell_type": "markdown",
   "metadata": {
    "id": "xgW7DO8rnOzK"
   },
   "source": [
    "**Observation**:\n",
    "\n",
    "* Overall, the mean satisfaction scores are relatively similar across all age buckets, ranging from 3.18 to 3.19.\n",
    "\n",
    "* Let's see the most frequent reason for churn in each age group."
   ]
  },
  {
   "cell_type": "code",
   "execution_count": null,
   "metadata": {
    "id": "QNy7_Xb0nOzK"
   },
   "outputs": [],
   "source": [
    "# Create a pivot table with churn reasons as columns and age buckets as rows\n",
    "pivot_table = pd.pivot_table(df, index='age_bucket', columns='Churn Reason', values='Churn Value', aggfunc='sum')\n",
    "\n",
    "# Remove the \"Unknown\" category from the pivot table\n",
    "age_pivot = pivot_table[pivot_table.columns.drop(\"Unknown\")]\n",
    "\n",
    "# Get the top three most frequent reasons for churn in each age bucket\n",
    "top_three = age_pivot.apply(lambda x: x.nlargest(3).index.tolist(), axis=1).to_frame(name='Top Three Reasons')\n",
    "\n",
    "\n"
   ]
  },
  {
   "cell_type": "code",
   "execution_count": null,
   "metadata": {
    "colab": {
     "base_uri": "https://localhost:8080/",
     "height": 402
    },
    "id": "BOGoNE6dnOzK",
    "outputId": "5578dbfa-58c3-4648-94f4-9c7ebfcebfbd"
   },
   "outputs": [],
   "source": [
    "# Let's look into the pivot table\n",
    "age_pivot"
   ]
  },
  {
   "cell_type": "code",
   "execution_count": null,
   "metadata": {
    "id": "0z6SWpIDnOzK"
   },
   "outputs": [],
   "source": [
    "# top three reasons\n",
    "top_three = top_three.reset_index().drop(0).reset_index(drop=True)"
   ]
  },
  {
   "cell_type": "code",
   "execution_count": null,
   "metadata": {
    "colab": {
     "base_uri": "https://localhost:8080/",
     "height": 206
    },
    "id": "owvncb-HnOzL",
    "outputId": "118c5e41-eaa1-4c13-8d6f-a2a91056d31a"
   },
   "outputs": [],
   "source": [
    "top_three"
   ]
  },
  {
   "cell_type": "code",
   "execution_count": null,
   "metadata": {},
   "outputs": [],
   "source": [
    "# Print the top reasons people churned in each age bucket\n",
    "for i, row in top_three.reset_index().iterrows():\n",
    "    print(row['age_bucket'], row['Top Three Reasons'])"
   ]
  },
  {
   "cell_type": "markdown",
   "metadata": {
    "id": "lnAUVp0dnOzL"
   },
   "source": [
    "**Observations**:\n",
    "\n",
    "* The most common churn reasons are related to dissatisfaction with the service provided by the company, followed by competition from other service providers for customers across all age brackets.\n",
    "\n",
    "* Attitude of support person was one of the top reasons for churn across all age groups. The company could invest in training their support staff to provide better customer service, and focus on addressing customer complaints professionally and effectively.\n",
    "\n",
    "* Competitors offering better devices and more data were a common reason for churn in the 35-49 and 65+ age groups. The company could consider offering competitive deals and promotions to retain customers and attract new ones.\n",
    "\n",
    "* Lack of self-service on the website was a common reason for churn in the 18-24 and 25-34 age groups, and was also a contributing factor in the 35-49 age group. The company could work on improving their website and mobile app to offer more self-service options, such as account management and bill payment, to make it easier for customers to manage their accounts."
   ]
  },
  {
   "cell_type": "markdown",
   "metadata": {
    "id": "yAdXdahCx8ZD"
   },
   "source": [
    "### **Negative ARPU**"
   ]
  },
  {
   "cell_type": "markdown",
   "metadata": {
    "id": "asIt3KmqWfRP"
   },
   "source": [
    "**Univarite Data Analysis Observation**:\n",
    "\n",
    "The fact that 17% of the people have negative arpu means that a significant proportion of the customer base is not generating revenue for the telecom company. \n",
    "\n",
    "This could be due to a number of reasons, such as inactive accounts, delinquent accounts, or accounts with outstanding balances. \n",
    "\n",
    "To understand more about this issue, we can investigate other variables that may be related to negative arpu, such as churn status. We can also look at the distribution of negative arpu values across different demographic groups, such as age, gender, and location, to see if there are any patterns or trends. \n",
    "\n",
    "Additionally, we can explore whether there are any correlations between negative arpu and other variables, such as usage patterns, service subscriptions, and customer satisfaction scores to understand what's causing this behaviour.\n",
    "\n",
    "Overall, further investigation is needed to fully understand the implications of negative arpu for the telecom company.\n"
   ]
  },
  {
   "cell_type": "code",
   "execution_count": null,
   "metadata": {
    "colab": {
     "base_uri": "https://localhost:8080/",
     "height": 404
    },
    "id": "F3WUmpDWq_rZ",
    "outputId": "0d20d908-3a8a-444b-d1e1-8f1ffa4ddede"
   },
   "outputs": [],
   "source": [
    "# calculate the percentage of customers with negative ARPU\n",
    "negative_arpu_percentage = (df[df['arpu'] < 0]['arpu'].count() / df.shape[0]) * 100\n",
    "\n",
    "# create a bar plot to visualize the negative ARPU percentage\n",
    "plt.figure(figsize=(10,6))\n",
    "plt.bar(['Negative ARPU', 'Positive ARPU'], [negative_arpu_percentage, 100 - negative_arpu_percentage])\n",
    "plt.title('Percentage of Customers with Negative ARPU')\n",
    "plt.xlabel('ARPU')\n",
    "plt.ylabel('Percentage')\n",
    "plt.show()"
   ]
  },
  {
   "cell_type": "code",
   "execution_count": null,
   "metadata": {
    "colab": {
     "base_uri": "https://localhost:8080/",
     "height": 373
    },
    "id": "8hOOmjN3rNfO",
    "outputId": "77d68e1c-9fd6-4ba1-b64a-8b2c4d4b0cdb"
   },
   "outputs": [],
   "source": [
    "# the relationship between negative ARPU and churn status\n",
    "churn_negative_arpu = df[df['arpu'] < 0]['Churn Value'].value_counts(normalize=True)\n",
    "\n",
    "# create a pie chart to visualize the churn status of customers with negative ARPU\n",
    "plt.figure(figsize=(10,6))\n",
    "plt.pie(churn_negative_arpu, labels=churn_negative_arpu.index, autopct='%1.1f%%')\n",
    "plt.title('Churn Status of Customers with Negative ARPU')\n",
    "plt.show()"
   ]
  },
  {
   "cell_type": "markdown",
   "metadata": {
    "id": "otoa-CspsOKV"
   },
   "source": [
    "**Observation**: \n",
    "\n",
    "* 95.2% of customers with negative ARPU did not churn, while only 4.8% of customers with negative ARPU churned.\n",
    "\n",
    "* This suggests that having negative ARPU is not necessarily a strong predictor of churn. However, further analysis is needed to fully understand the relationship between negative ARPU and churn. Other factors, such as usage patterns, service subscriptions, and customer satisfaction, may also play a role in predicting churn.\n",
    "\n",
    "* It's possible that the negative ARPU is a result of money spent by the company to retain customers but negative ARPU could also be a result of other factors, such as accounts that have been inactive for a long time or delinquent accounts with outstanding balances. \n",
    "\n",
    "* Additionally, the 4.8% of customers with negative ARPU who churned may have done so for reasons such as finding a better deal elsewhere."
   ]
  },
  {
   "cell_type": "code",
   "execution_count": null,
   "metadata": {
    "colab": {
     "base_uri": "https://localhost:8080/"
    },
    "id": "vD1BpvqWs26S",
    "outputId": "438b5dbd-afc1-4ce5-df19-41a11a4e83fa"
   },
   "outputs": [],
   "source": [
    "# Lets analyze further\n",
    "\n",
    "negative_arpu_churn = df[(df['arpu'] < 0) & (df['Churn Value'] == 1)]\n",
    "\n",
    "print(\"Number of customers with negative ARPU who churned: \", len(negative_arpu_churn['Customer ID']))\n"
   ]
  },
  {
   "cell_type": "code",
   "execution_count": null,
   "metadata": {
    "colab": {
     "base_uri": "https://localhost:8080/",
     "height": 404
    },
    "id": "IE6gadPQtg7R",
    "outputId": "948ab747-4397-4ad7-a5b4-cfd110932f56"
   },
   "outputs": [],
   "source": [
    "# count plot of negative churned\n",
    "plt.figure(figsize=(10,6))\n",
    "sns.countplot(x='Satisfaction Score', hue='Churn Value', data=negative_arpu_churn)\n",
    "\n",
    "# add labels and title\n",
    "plt.xlabel('Satisfaction Score')\n",
    "plt.ylabel('Count')\n",
    "plt.title('Churn Status by Satisfaction Score')\n",
    "plt.show()"
   ]
  },
  {
   "cell_type": "code",
   "execution_count": null,
   "metadata": {
    "colab": {
     "base_uri": "https://localhost:8080/"
    },
    "id": "TNVrKfdLvA_F",
    "outputId": "5ca80bf1-5438-4d62-c5ed-0017c39afe4e"
   },
   "outputs": [],
   "source": [
    "# calculate the average customer satisfaction score for this group\n",
    "avg_satisfaction = negative_arpu_churn['Satisfaction Score'].mean()\n",
    "print(\"Average customer satisfaction score:\", round(avg_satisfaction,2))"
   ]
  },
  {
   "cell_type": "markdown",
   "metadata": {
    "id": "lFDUAL3AwnWD"
   },
   "source": [
    "**Observation**:\n",
    "\n",
    "* The average customer satisfaction score for churned customers with negative ARPU is 2, it suggests that these customers were not satisfied with the services provided by the telecom company.\n",
    "\n",
    "* It could mean that the company needs to improve its services and support to retain its customers."
   ]
  },
  {
   "cell_type": "code",
   "execution_count": null,
   "metadata": {
    "colab": {
     "base_uri": "https://localhost:8080/",
     "height": 614
    },
    "id": "n1PKfIiFyDGd",
    "outputId": "b4ca9a5f-8a9f-475d-8bf1-97d6804112c8"
   },
   "outputs": [],
   "source": [
    "# count the number of customers for each churn reason\n",
    "churn_reason_counts = negative_arpu_churn['Churn Reason'].value_counts()\n",
    "\n",
    "# plot the churn reason counts\n",
    "plt.figure(figsize=(16,6))\n",
    "sns.barplot(x=churn_reason_counts.index, y=churn_reason_counts)\n",
    "plt.title('Churn Reason for Customers with Negative ARPU and Churned')\n",
    "plt.xlabel('Churn Reason')\n",
    "plt.ylabel('Count')\n",
    "plt.xticks(rotation=90)\n",
    "plt.show()"
   ]
  },
  {
   "cell_type": "markdown",
   "metadata": {
    "id": "8V3gBdcG0C94"
   },
   "source": [
    "**Observation**:\n",
    "\n",
    "* The distribution of churn reasons is quite similar, which makes it difficult to draw clear conclusions. However, there are a few observations we can make.\n",
    "\n",
    "* The most common reason for churn is \"Unknown,\" which could suggest that the company needs to do a better job of tracking and understanding customer behavior and reasons for leaving.\n",
    "\n",
    "* Other common reasons for churn include price, service dissatisfaction, and network reliability, which could indicate that the company needs to focus on improving the quality of its service and offering competitive pricing to retain customers.\n",
    "\n",
    "* The fact that many customers cited competitor offerings as a reason for leaving suggests that the company may need to do a better job of differentiating itself in the market.\n",
    "\n",
    "* The presence of unusual reasons such as \"43tgeh\" with only 16 counts could indicate data entry errors or outliers that should be investigated and corrected."
   ]
  },
  {
   "cell_type": "markdown",
   "metadata": {
    "id": "9g09NlpunOzO"
   },
   "source": [
    "### **ARPU and Customer Demographics**"
   ]
  },
  {
   "cell_type": "code",
   "execution_count": null,
   "metadata": {
    "colab": {
     "base_uri": "https://localhost:8080/",
     "height": 404
    },
    "id": "gUHPDVEwnOzO",
    "outputId": "fb2df3b6-dc65-4a32-c753-dfbf43697ebf"
   },
   "outputs": [],
   "source": [
    "# Plot arpu vs gender\n",
    "plt.figure(figsize=(10,6))\n",
    "sns.boxplot(x='Gender', y='arpu', data=df)\n",
    "plt.title('ARPU for Genders')\n",
    "plt.xlabel('ARPU')\n",
    "plt.ylabel('Gender')\n",
    "plt.show()"
   ]
  },
  {
   "cell_type": "markdown",
   "metadata": {
    "id": "BQmy9WKinOzO"
   },
   "source": [
    "**Observation**:\n",
    "\n",
    "* No relationship between Gender and ARPU."
   ]
  },
  {
   "cell_type": "code",
   "execution_count": null,
   "metadata": {
    "colab": {
     "base_uri": "https://localhost:8080/",
     "height": 404
    },
    "id": "EWUSf4jbnOzO",
    "outputId": "91027ff9-63b2-42e9-831b-79976270ad44"
   },
   "outputs": [],
   "source": [
    "# Plot arpu vs married\n",
    "plt.figure(figsize=(10,6))\n",
    "sns.boxplot(x='Married', y='arpu', data=df)\n",
    "plt.title('ARPU for Married Customers')\n",
    "plt.xlabel('ARPU')\n",
    "plt.ylabel('Married')\n",
    "plt.show()"
   ]
  },
  {
   "cell_type": "markdown",
   "metadata": {
    "id": "vloEwZxjnOzP"
   },
   "source": [
    "### **ARPU and Churn Value**"
   ]
  },
  {
   "cell_type": "code",
   "execution_count": null,
   "metadata": {
    "colab": {
     "base_uri": "https://localhost:8080/",
     "height": 404
    },
    "id": "Jncy-RxxnOzP",
    "outputId": "6abef7b7-60f1-4c27-e002-a02d7fdbc49c"
   },
   "outputs": [],
   "source": [
    "# plot arpu vs churn\n",
    "\n",
    "plt.figure(figsize=(10,6))\n",
    "sns.boxplot(x='Churn Value', y='arpu', data=df)\n",
    "plt.title('ARPU for Churned and Not Churned Customers')\n",
    "plt.xlabel('ARPU')\n",
    "plt.ylabel('Churn')\n",
    "plt.show()"
   ]
  },
  {
   "cell_type": "markdown",
   "metadata": {
    "id": "uoPdAKGObn6U"
   },
   "source": [
    "### **ARPU 4G**"
   ]
  },
  {
   "cell_type": "code",
   "execution_count": null,
   "metadata": {
    "colab": {
     "base_uri": "https://localhost:8080/",
     "height": 404
    },
    "id": "3bR2xXg7nOzP",
    "outputId": "1a09e481-28f7-46b4-9e79-e9b724f46c35"
   },
   "outputs": [],
   "source": [
    "# Box plot for ARPU 4G against churn\n",
    "plt.figure(figsize=(10,6))\n",
    "sns.boxplot(x='Churn Value', y='arpu_4g', data=df)\n",
    "plt.title('ARPU 4G vs Churn')\n",
    "plt.show()"
   ]
  },
  {
   "cell_type": "code",
   "execution_count": null,
   "metadata": {
    "colab": {
     "base_uri": "https://localhost:8080/",
     "height": 405
    },
    "id": "OJt7QSLznOzP",
    "outputId": "2a899be6-a3f3-476c-c4aa-eb09949f8103"
   },
   "outputs": [],
   "source": [
    "# Scatter plot for ARPU 4G against total data usage\n",
    "plt.figure(figsize=(10,6))\n",
    "sns.scatterplot(x='vol_4g', y='arpu_4g', data=df)\n",
    "plt.title('ARPU 4G vs Total Data Usage on 4G network')\n",
    "plt.show()"
   ]
  },
  {
   "cell_type": "markdown",
   "metadata": {
    "id": "TSJ_qn-3nOzQ"
   },
   "source": [
    "**Observations**:\n",
    "\n",
    "* Based on the boxplot of ARPU for 4G network versus total data usage on the 4G network, we can observe that there are some outliers in the upper left corner of the plot. These outliers indicate that there are some customers who have high ARPU despite low total data usage on the 4G network.\n",
    "\n",
    "* One possible explanation for this observation could be that these customers are using other services besides data, such as voice and messaging, which are not measured in this analysis. Additionally, they could be subscribing to premium services, which are charged at a higher rate than regular data usage.\n",
    "\n",
    "* Another possible explanation could be that these customers have a fixed data plan, meaning that they are charged a fixed amount of money regardless of their actual data usage. In this case, their high ARPU could be due to additional charges for services other than data.\n",
    "\n",
    "* On the other hand, we can also observe that there are some customers with high total data usage on the 4G network but low ARPU. This could be due to various reasons such as low usage of other services, opting for cheaper data plans, or using other networks for services that are not provided on the 4G network.\n",
    "\n",
    "\n",
    "\n",
    "\n"
   ]
  },
  {
   "cell_type": "markdown",
   "metadata": {
    "id": "05gqErCVeIVr"
   },
   "source": [
    "### **ARPU 5G**\n",
    "\n"
   ]
  },
  {
   "cell_type": "code",
   "execution_count": null,
   "metadata": {
    "id": "SeD9246lnOzQ",
    "outputId": "3b30d5c5-7fe1-4ba4-8737-154228733d39"
   },
   "outputs": [],
   "source": [
    "# Box plot for ARPU 5G and Churn value\n",
    "plt.figure(figsize=(10,6))\n",
    "sns.boxplot(data=df, x='Churn Value', y='arpu_5g')\n",
    "plt.title('ARPU 5G for Churn Values')\n",
    "plt.show()"
   ]
  },
  {
   "cell_type": "markdown",
   "metadata": {
    "id": "cnrBQGI1f6SU"
   },
   "source": [
    "### **Night Pack User**\n",
    "\n"
   ]
  },
  {
   "cell_type": "code",
   "execution_count": null,
   "metadata": {
    "id": "OdAGN3a-nOzQ",
    "outputId": "3b37a55d-75ee-4e53-8bb8-7468df654690"
   },
   "outputs": [],
   "source": [
    "# Box plot for Night pack user and ARPU\n",
    "plt.figure(figsize=(10,6))\n",
    "sns.boxplot(x='night_pck_user', y='arpu', data=df)\n",
    "plt.title('Distribution of ARPU for Night Pack Users')\n",
    "plt.show()"
   ]
  },
  {
   "cell_type": "markdown",
   "metadata": {
    "id": "UXLtncB5Gs_a"
   },
   "source": [
    "### **Chi Square Test for Association**"
   ]
  },
  {
   "cell_type": "code",
   "execution_count": null,
   "metadata": {
    "id": "BMfpYPViG97l"
   },
   "outputs": [],
   "source": [
    "# Categorical variables\n",
    "checkpoint('fcTel1')\n",
    "cat_vars_for_test = [\n",
    " 'Gender',\n",
    " 'Married',\n",
    " 'Dependents',\n",
    " 'night_pck_user',\n",
    " 'fb_user',\n",
    " 'Referred a Friend',\n",
    " 'Phone Service',\n",
    " 'Multiple Lines',\n",
    " 'Internet Service',\n",
    " 'Internet Type',\n",
    " 'Online Security',\n",
    " 'Online Backup',\n",
    " 'Device Protection Plan',\n",
    " 'Premium Tech Support',\n",
    " 'Streaming TV',\n",
    " 'Streaming Movies',\n",
    " 'Streaming Music',\n",
    " 'Unlimited Data',\n",
    " 'Churn Category',\n",
    " 'offer']"
   ]
  },
  {
   "cell_type": "code",
   "execution_count": null,
   "metadata": {
    "colab": {
     "base_uri": "https://localhost:8080/"
    },
    "id": "4QcU11jnGxrB",
    "outputId": "1320fee2-e5a2-4ea4-8eb8-5bf23451a593"
   },
   "outputs": [],
   "source": [
    "# Chi-square tests\n",
    "from scipy.stats import chi2_contingency\n",
    "\n",
    "for var in cat_vars_for_test:\n",
    "    # Create binary encoded variables for categorical variable\n",
    "    df_encoded = pd.get_dummies(df[var], prefix=var, drop_first=True)\n",
    "    df_encoded['Churn Value'] = df['Churn Value']\n",
    "    \n",
    "    # Calculate chi-square test statistic and p-value\n",
    "    chi2, p_val, dof, expected = chi2_contingency(pd.crosstab(df_encoded.iloc[:, 1], df_encoded['Churn Value']))\n",
    "    \n",
    "    if p_val < 0.05:\n",
    "        print(\"---------------------------------\")\n",
    "        print(f'Statistically significant association between {var} and Churn')\n",
    "        print('P-Value:', p_val)\n",
    "    else:\n",
    "        pass"
   ]
  },
  {
   "cell_type": "markdown",
   "metadata": {
    "id": "rKHqdg8-Ix7d"
   },
   "source": [
    "### **Single Way ANOVA**"
   ]
  },
  {
   "cell_type": "code",
   "execution_count": null,
   "metadata": {
    "colab": {
     "base_uri": "https://localhost:8080/"
    },
    "id": "74cIfIv4JPAW",
    "outputId": "5544149f-92e6-4fb9-da16-d48e3cefb077"
   },
   "outputs": [],
   "source": [
    "from scipy.stats import f_oneway\n",
    "\n",
    "# Loop over each numeric variable and test its association with churn using ANOVA\n",
    "for var in num_vars:\n",
    "    churn_yes = df[df['Churn Value'] == 1][var]\n",
    "    churn_no = df[df['Churn Value'] == 0][var]\n",
    "    f_statistic, p_value = f_oneway(churn_yes, churn_no)\n",
    "    \n",
    "    \n",
    "    if p_value < 0.05:\n",
    "        print('Statistically Significant')\n",
    "        print('Variable:', var)\n",
    "        print('Churn Yes Mean:', churn_yes.mean())\n",
    "        print('Churn No Mean:', churn_no.mean())\n",
    "        print('F-Statistic:', f_statistic)\n",
    "        print('P-Value:', p_value)\n",
    "        print('------------------')\n",
    "    else:\n",
    "        pass"
   ]
  },
  {
   "cell_type": "markdown",
   "metadata": {
    "id": "v_s_beCeLFr4"
   },
   "source": [
    "### **Churn Value**"
   ]
  },
  {
   "cell_type": "code",
   "execution_count": null,
   "metadata": {
    "id": "_TyVALLenOzS",
    "outputId": "f6ff5477-64a2-4e59-f9fc-713376e48889"
   },
   "outputs": [],
   "source": [
    "# Box plot for Churn value and total recharge amount\n",
    "plt.figure(figsize=(10,6))\n",
    "sns.boxplot(x='Churn Value', y='total_rech_amt', data=df)\n",
    "plt.title('Total recharge amount')\n",
    "plt.show()\n",
    "\n"
   ]
  },
  {
   "cell_type": "markdown",
   "metadata": {
    "id": "s_EvCjMgddbn"
   },
   "source": [
    "**Observation:**\n",
    "\n",
    "It appears that customers who churned had a higher total recharge amount compared to customers who did not churn. This observation suggests that the amount of money that a customer spends on recharges may be a significant factor in their decision to churn.\n",
    "\n",
    "This observation can provide valuable insights for the business. If customers who churned had a higher total recharge amount, it could mean that they were dissatisfied with the quality or value of the services provided by the company, even though they were spending more money. Therefore, the business may need to investigate and address the reasons behind the dissatisfaction to retain high-value customers.\n",
    "\n",
    "In addition, the observation that customers who churned had a higher total recharge amount suggests that identifying and targeting high-value customers for retention efforts may be an effective strategy. By focusing on retaining customers who spend more money, the business can potentially improve their overall revenue and profitability."
   ]
  },
  {
   "cell_type": "markdown",
   "metadata": {
    "id": "mt2bzXYEddbn"
   },
   "source": [
    "### **Referred a friend and Churn**"
   ]
  },
  {
   "cell_type": "markdown",
   "metadata": {
    "id": "6OKMpCL2nOzS"
   },
   "source": [
    "**Hypothesis**:\n",
    "\n",
    "* Customers who refer friends are less likely to churn."
   ]
  },
  {
   "cell_type": "code",
   "execution_count": null,
   "metadata": {
    "id": "9yhOn6qwnOzS",
    "outputId": "69cadcaf-4956-4a61-aac8-841ae53b2689"
   },
   "outputs": [],
   "source": [
    "# pivot table\n",
    "pivot_table = pd.pivot_table(df, values=['Referred a Friend', 'Number of Referrals'], index=['Churn Value'], aggfunc=np.mean)\n",
    "\n",
    "# Print the pivot table\n",
    "print(pivot_table)\n",
    "\n",
    "# Plot the pivot table\n",
    "plt.figure(figsize=(10,6))\n",
    "sns.countplot( x='Referred a Friend', data=df, hue='Churn Value')\n",
    "plt.title('Referred a Friend vs Churn Value')\n",
    "plt.show()\n",
    "\n",
    "\n",
    "plt.figure(figsize=(10,6))\n",
    "sns.barplot(x='Churn Value', y='Number of Referrals', data=df)\n",
    "plt.title('Number of Referrals vs Churn Value')\n",
    "plt.show()"
   ]
  },
  {
   "cell_type": "markdown",
   "metadata": {
    "id": "xHsLqqF5nOzT"
   },
   "source": [
    "Let's calculate churn rate in both groups!"
   ]
  },
  {
   "cell_type": "code",
   "execution_count": null,
   "metadata": {
    "id": "_t1pauGtnOzT",
    "outputId": "c0d16271-cd1e-4cbd-b7c1-d98359543920"
   },
   "outputs": [],
   "source": [
    "refer_group = df.groupby(\"Referred a Friend\")\n",
    "\n",
    "refer_group_churn_rates = refer_group[\"Churn Value\"].mean() * 100\n",
    "\n",
    "refer_group_churn_rates\n"
   ]
  },
  {
   "cell_type": "markdown",
   "metadata": {
    "id": "ONlIS8dNnOzT"
   },
   "source": [
    "**Observation:**\n",
    "\n",
    "If customers who have referred others to the company are churning more, it could suggest that the company's referral program is not effective at retaining customers. This may be due to a variety of reasons, such as:\n",
    "\n",
    "The referral program may not be providing sufficient incentives or rewards to encourage customers to stay.\n",
    "Customers who refer others may have higher expectations of the company and its services, and may be more likely to churn if those expectations are not met."
   ]
  },
  {
   "cell_type": "code",
   "execution_count": null,
   "metadata": {
    "id": "c02cZ5a7nOzT",
    "outputId": "ae0216b8-debb-44bf-a7e2-fc3f28167238"
   },
   "outputs": [],
   "source": [
    "# To make the analysis more thorough, we can combine the Phone Service column with other related columns such as Multiple Lines, Internet Service, and Internet Type. This would give us a better understanding of the customer's overall service usage.\n",
    "\n",
    "# Cross-tabulate Phone Service with Multiple Lines\n",
    "pd.crosstab(df['Phone Service'], df['Multiple Lines'], dropna=False)"
   ]
  },
  {
   "cell_type": "markdown",
   "metadata": {
    "id": "jNPqTBqcnOzT"
   },
   "source": [
    "### **Internet Service and Type**"
   ]
  },
  {
   "cell_type": "code",
   "execution_count": null,
   "metadata": {
    "id": "3YOChESjnOzT",
    "outputId": "9f27f8b4-d3b0-495b-8507-507f8bde19b0"
   },
   "outputs": [],
   "source": [
    "# Count plot between internet service and type\n",
    "plt.figure(figsize=(10,6))\n",
    "sns.countplot(x='Internet Service', hue='Internet Type', data=df)\n",
    "plt.title(\"Count plot for different Internet Types\")\n",
    "plt.show()"
   ]
  },
  {
   "cell_type": "code",
   "execution_count": null,
   "metadata": {
    "id": "2O-lc1y1nOzT",
    "outputId": "9574c350-2e25-46b8-8604-313bc8dad67b"
   },
   "outputs": [],
   "source": [
    "# Internet service and type churn rate\n",
    "df.groupby(['Internet Service', 'Internet Type'])['Churn Value'].mean()"
   ]
  },
  {
   "cell_type": "markdown",
   "metadata": {
    "id": "SFbAlEJXnOzU"
   },
   "source": [
    "**Observation:**\n",
    "\n",
    "If the churn rates for all types of internet services are similar, it may indicate that the type of internet service does not have a significant impact on churn. However, it is also possible that there are other factors at play, such as pricing or customer service, that are more important drivers of churn. Further analysis, such as comparing the churn rates for different pricing tiers or customer service ratings, may be necessary to better understand the relationship between internet service and churn."
   ]
  },
  {
   "cell_type": "markdown",
   "metadata": {
    "id": "qXaoEXS8nOzU"
   },
   "source": [
    "### **Unlimited Data**"
   ]
  },
  {
   "cell_type": "code",
   "execution_count": null,
   "metadata": {
    "id": "1LNqWf4MnOzU",
    "outputId": "4fbab459-d25d-4ee9-e6a4-c17eb43bc798"
   },
   "outputs": [],
   "source": [
    "# distribution of data users for revenue\n",
    "df.groupby('Unlimited Data')[['total_rech_amt','total_rech_data','arpu','Churn Value']].mean()"
   ]
  },
  {
   "cell_type": "code",
   "execution_count": null,
   "metadata": {
    "id": "S_SE4k_DnOzU",
    "outputId": "9af1358f-40ae-4eb7-fb5d-6d5581f5b5c1"
   },
   "outputs": [],
   "source": [
    "# Plot a bar graph of the Streaming Movies column\n",
    "plt.figure(figsize=(10,6))\n",
    "sns.countplot(x='Streaming Movies', data=df, hue=\"Churn Value\")\n",
    "plt.title(\"Plot for churn value for different streaming movies\")\n",
    "plt.show()"
   ]
  },
  {
   "cell_type": "markdown",
   "metadata": {
    "id": "lEvZGOXVnOzU"
   },
   "source": [
    "The company may want to focus on increasing the percentage of customers using streaming movies by improving the quality of the service or offering promotions - check with ARPU, churn value and satisfaction.\n",
    "if +ve effect on any of them, \n",
    "\n",
    "The company may want to investigate why such a large percentage of customers do not use streaming movies and address any concerns or issues that may be preventing them from using the service , understand why and recommend measures.\n",
    "\n",
    "\n"
   ]
  },
  {
   "cell_type": "markdown",
   "metadata": {
    "id": "AuraPhBHnOzU"
   },
   "source": [
    "Hypothesis: Customers with higher ARPU 5G are more likely to be satisfied with their service and less likely to churn."
   ]
  },
  {
   "cell_type": "markdown",
   "metadata": {
    "id": "SOZfTegHOBLj"
   },
   "source": [
    "## **Multivariate Analysis**"
   ]
  },
  {
   "cell_type": "code",
   "execution_count": null,
   "metadata": {
    "id": "EV8-C3HFnOzV",
    "outputId": "ed77bdcd-c3e0-43df-95c0-8dce43b7ebd4"
   },
   "outputs": [],
   "source": [
    "# Relationship between arpu, satisfaction score and churn value\n",
    "# the three major pillars of service quality\n",
    "plt.figure(figsize=(10,6))\n",
    "sns.scatterplot(data=df, x='Satisfaction Score',y='arpu', hue='Churn Value')\n",
    "plt.title(\"Scatter Plot betwen Satisfaction Score and ARPU\")\n",
    "plt.show()"
   ]
  },
  {
   "cell_type": "markdown",
   "metadata": {
    "id": "48dA97_snOzV"
   },
   "source": [
    "**Observation:**\n",
    "\n",
    "* Based on the scatterplot, we can observe that the customers who have churned are mostly concentrated in the top left quadrant, where their satisfaction score is low but their average revenue per user (arpu) is high. This indicates that despite the customers generating high revenue, they are not satisfied with the service provided and hence are likely to churn.\n",
    "\n",
    "* On the other hand, customers who are satisfied with the service and are less likely to churn are mostly concentrated in the bottom right quadrant, where their satisfaction score is high and their arpu is comparatively low.\n",
    "\n",
    "* This information can be used by the telecom company to focus on improving the customer satisfaction score, as it is a key factor in retaining customers. They could analyze the reasons behind the low satisfaction score of high-paying customers and take measures to improve their overall experience. This could include providing better network coverage, offering customized plans, improving customer service, or providing incentives to loyal customers."
   ]
  },
  {
   "cell_type": "markdown",
   "metadata": {
    "id": "u0Szl-a6OLiK"
   },
   "source": [
    "#### **Correlation**"
   ]
  },
  {
   "cell_type": "code",
   "execution_count": null,
   "metadata": {
    "id": "rQfjd43OnOzV",
    "outputId": "ffa4c7f0-f640-43e6-aa8f-46eda2f465dd"
   },
   "outputs": [],
   "source": [
    "mo_distance(\"fcTel1\")\n",
    "# Creating correlation dataframe and generating heatmap\n",
    "df_corr = df[num_vars].corr()\n",
    "mask = np.zeros_like(df_corr)\n",
    "mask[np.triu_indices_from(mask)] = True\n",
    "\n",
    "plt.figure(figsize=(20,12))\n",
    "sns.heatmap(df_corr, cmap='coolwarm', annot=True, fmt='.2f', mask=mask)"
   ]
  },
  {
   "cell_type": "code",
   "execution_count": null,
   "metadata": {
    "id": "gEoyWJ4nnOzV",
    "outputId": "fbf92aab-e13c-4a5d-8aa3-319b14e4a228"
   },
   "outputs": [],
   "source": [
    "# Printing highly correlated variables\n",
    "corr_pairs = []\n",
    "for i in range(len(df_corr.columns)):\n",
    "    for j in range(i):\n",
    "        if abs(df_corr.iloc[i, j]) >= 0.5:\n",
    "            corr_pairs.append((df_corr.columns[i], df_corr.columns[j]))\n",
    "\n",
    "\n",
    "if corr_pairs:\n",
    "    print(\"Highly correlated variable pairs:\")\n",
    "    for pair in corr_pairs:\n",
    "        print(pair[0], \"and\", pair[1])\n",
    "else:\n",
    "    print(\"No highly correlated variable pairs found.\")"
   ]
  },
  {
   "cell_type": "markdown",
   "metadata": {
    "id": "mRYTBXRIddbu"
   },
   "source": [
    "### **Chatterjee Correlation**"
   ]
  },
  {
   "cell_type": "code",
   "execution_count": null,
   "metadata": {
    "id": "EErbO7Xhddbv"
   },
   "outputs": [],
   "source": [
    "#function for finding chatterejee correlation coefficient\n",
    "def chatterjee_corr(df,x,y):\n",
    "  N=df.shape[0]\n",
    "  df_rank=df\n",
    "\n",
    "  df_rank['rank']=df_rank[y].rank()\n",
    "  # print(df_rank['rank'])\n",
    "\n",
    "  df_rank['rank_x']=df_rank[x].rank()\n",
    "\n",
    "  df_rank=df_rank.sort_values(by='rank_x')\n",
    "\n",
    "  # 1-3*(abs(sum(xri-1 - Xir))/n square-1\n",
    "\n",
    "  # Diff function --> summation -> absolute\n",
    "  chatt_corr=1- (3*df_rank['rank'].diff().abs().sum() )/ (pow(N,2)-1)\n",
    "\n",
    "  return chatt_corr"
   ]
  },
  {
   "cell_type": "code",
   "execution_count": null,
   "metadata": {
    "id": "bRraNSrwddbv"
   },
   "outputs": [],
   "source": [
    "# Taking few important variables generated from the insights earlier\n",
    "num_vars_test = ['Age','Number of Dependents','arpu','roam_ic',\n",
    "                    'roam_og', 'total_rech_amt', 'total_rech_data', 'vol_4g', 'vol_5g', 'arpu_5g','arpu_4g',\n",
    "                    'aug_vbc_5g','Number of Referrals','Streaming Data Consumption','Satisfaction Score']"
   ]
  },
  {
   "cell_type": "code",
   "execution_count": null,
   "metadata": {
    "id": "nwBOINMSddbv",
    "outputId": "ce02c1c8-4a79-41f8-ab70-5ab26813d5a3"
   },
   "outputs": [],
   "source": [
    "# Looping over all numerical variables to check chatterjee correlation\n",
    "for i, var in enumerate(num_vars_test):\n",
    "    for j in range(i + 1, len(num_vars_test)):\n",
    "        corr = chatterjee_corr(df,var, num_vars_test[j])\n",
    "        if corr > 0.6:\n",
    "            print(var, 'and', num_vars_test[j], ':', corr)\n",
    "        "
   ]
  },
  {
   "cell_type": "markdown",
   "metadata": {
    "id": "yOiShaDBddbv"
   },
   "source": [
    "**Observation**:\n",
    "\n",
    "* Age and number of dependents have a moderate positive correlation (0.68). This suggests that as age increases, the number of dependents tends to increase as well.\n",
    "\n",
    "* Total recharge data and arpu_5g have a moderate positive correlation (0.66). This suggests that customers who spend more on data tend to have higher revenue per user for 5G services.\n",
    "\n",
    "* Total recharge data and arpu_4g have a moderate positive correlation (0.67). This suggests that customers who spend more on data tend to have higher revenue per user for 4G services.\n",
    "\n",
    "* Vol_4g and vol_5g have a moderate positive correlation (0.63). This suggests that customers who use more 4G data tend to use more 5G data as well.\n",
    "\n",
    "* Arpu_5g and arpu_4g have a strong positive correlation (0.75). This suggests that customers who spend more on 5G services tend to spend more on 4G services as well."
   ]
  }
 ],
 "metadata": {
  "accelerator": "GPU",
  "colab": {
   "provenance": []
  },
  "gpuClass": "standard",
  "kernelspec": {
   "display_name": "Python 3 (ipykernel)",
   "language": "python",
   "name": "python3"
  },
  "language_info": {
   "codemirror_mode": {
    "name": "ipython",
    "version": 3
   },
   "file_extension": ".py",
   "mimetype": "text/x-python",
   "name": "python",
   "nbconvert_exporter": "python",
   "pygments_lexer": "ipython3",
   "version": "3.9.12"
  },
  "vscode": {
   "interpreter": {
    "hash": "9a1ccacfc9e6019d00046481f81d7af0db54a5151886d0951ec9444ea521230b"
   }
  }
 },
 "nbformat": 4,
 "nbformat_minor": 1
}
